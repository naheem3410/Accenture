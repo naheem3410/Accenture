{
 "cells": [
  {
   "cell_type": "markdown",
   "id": "06177985",
   "metadata": {},
   "source": [
    "## Introduction\n",
    "The project is about finding the most popular content category for a social media company called \"Social Buzz\".\n",
    "I will be using three datasets to achieve this objective. The datasets are:\n",
    "* Content\n",
    "* Reaction\n",
    "* ReactionTypes\n",
    "More details on the datasets:\n",
    "### Content\n",
    "ID: Unique ID of the content that was uploaded (automatically generated)\n",
    "\n",
    "User ID: Unique ID of a user that exists in the User table\n",
    "\n",
    "Type: A string detailing the type of content that was uploaded\n",
    "\n",
    "Category: A string detailing the category that this content is relevant to\n",
    "\n",
    "URL: Link to the location where this content is stored\n",
    "\n",
    "### Reaction\n",
    "Content ID: Unique ID of a piece of content that was uploaded\n",
    "\n",
    "User ID: Unique ID of a user that exists in the User table who reacted to this piece of content\n",
    "\n",
    "Type: A string detailing the type of reaction this user gave\n",
    "\n",
    "Datetime: The date and time of this reaction\n",
    "\n",
    "### ReactionTypes\n",
    "Type: A string detailing the type of reaction this user gave\n",
    "\n",
    "Sentiment: A string detailing whether this type of reaction is considered as positive, negative or neutral\n",
    "\n",
    "Score: This is a number calculated by Social Buzz that quantifies how “popular” each reaction is. A reaction type with a higher score\n",
    "should be considered as a more popular reaction."
   ]
  },
  {
   "cell_type": "markdown",
   "id": "c5095bfc",
   "metadata": {},
   "source": [
    "#### Import libraries"
   ]
  },
  {
   "cell_type": "code",
   "execution_count": 1,
   "id": "e9d19991",
   "metadata": {},
   "outputs": [],
   "source": [
    "import numpy as np\n",
    "import pandas as pd\n",
    "import matplotlib.pyplot as plt\n",
    "import seaborn as sb\n",
    "%matplotlib inline \n",
    "\n",
    "import math"
   ]
  },
  {
   "cell_type": "markdown",
   "id": "2b060e8d",
   "metadata": {},
   "source": [
    "## Data Wrangling"
   ]
  },
  {
   "cell_type": "markdown",
   "id": "fd737a1f",
   "metadata": {},
   "source": [
    "### Data Gathering  "
   ]
  },
  {
   "cell_type": "code",
   "execution_count": 2,
   "id": "6709d0d4",
   "metadata": {},
   "outputs": [],
   "source": [
    "#import datasets\n",
    "df1 = pd.read_csv('Content.csv',index_col=0)\n",
    "df2 = pd.read_csv('Reactions.csv',index_col=0)\n",
    "df3 = pd.read_csv('ReactionTypes.csv',index_col=0)"
   ]
  },
  {
   "cell_type": "markdown",
   "id": "0ef8e040",
   "metadata": {},
   "source": [
    "### Assessing Data"
   ]
  },
  {
   "cell_type": "markdown",
   "id": "277fe94d",
   "metadata": {},
   "source": [
    "### Visual Assessment"
   ]
  },
  {
   "cell_type": "markdown",
   "id": "a2214277",
   "metadata": {},
   "source": [
    "#### Content dataset (df1)"
   ]
  },
  {
   "cell_type": "code",
   "execution_count": 3,
   "id": "841d7abe",
   "metadata": {},
   "outputs": [
    {
     "data": {
      "text/html": [
       "<div>\n",
       "<style scoped>\n",
       "    .dataframe tbody tr th:only-of-type {\n",
       "        vertical-align: middle;\n",
       "    }\n",
       "\n",
       "    .dataframe tbody tr th {\n",
       "        vertical-align: top;\n",
       "    }\n",
       "\n",
       "    .dataframe thead th {\n",
       "        text-align: right;\n",
       "    }\n",
       "</style>\n",
       "<table border=\"1\" class=\"dataframe\">\n",
       "  <thead>\n",
       "    <tr style=\"text-align: right;\">\n",
       "      <th></th>\n",
       "      <th>Content ID</th>\n",
       "      <th>User ID</th>\n",
       "      <th>Type</th>\n",
       "      <th>Category</th>\n",
       "      <th>URL</th>\n",
       "    </tr>\n",
       "  </thead>\n",
       "  <tbody>\n",
       "    <tr>\n",
       "      <th>0</th>\n",
       "      <td>97522e57-d9ab-4bd6-97bf-c24d952602d2</td>\n",
       "      <td>8d3cd87d-8a31-4935-9a4f-b319bfe05f31</td>\n",
       "      <td>photo</td>\n",
       "      <td>Studying</td>\n",
       "      <td>https://socialbuzz.cdn.com/content/storage/975...</td>\n",
       "    </tr>\n",
       "    <tr>\n",
       "      <th>1</th>\n",
       "      <td>9f737e0a-3cdd-4d29-9d24-753f4e3be810</td>\n",
       "      <td>beb1f34e-7870-46d6-9fc7-2e12eb83ce43</td>\n",
       "      <td>photo</td>\n",
       "      <td>healthy eating</td>\n",
       "      <td>https://socialbuzz.cdn.com/content/storage/9f7...</td>\n",
       "    </tr>\n",
       "    <tr>\n",
       "      <th>2</th>\n",
       "      <td>230c4e4d-70c3-461d-b42c-ec09396efb3f</td>\n",
       "      <td>a5c65404-5894-4b87-82f2-d787cbee86b4</td>\n",
       "      <td>photo</td>\n",
       "      <td>healthy eating</td>\n",
       "      <td>https://socialbuzz.cdn.com/content/storage/230...</td>\n",
       "    </tr>\n",
       "    <tr>\n",
       "      <th>3</th>\n",
       "      <td>356fff80-da4d-4785-9f43-bc1261031dc6</td>\n",
       "      <td>9fb4ce88-fac1-406c-8544-1a899cee7aaf</td>\n",
       "      <td>photo</td>\n",
       "      <td>technology</td>\n",
       "      <td>https://socialbuzz.cdn.com/content/storage/356...</td>\n",
       "    </tr>\n",
       "    <tr>\n",
       "      <th>4</th>\n",
       "      <td>01ab84dd-6364-4236-abbb-3f237db77180</td>\n",
       "      <td>e206e31b-5f85-4964-b6ea-d7ee5324def1</td>\n",
       "      <td>video</td>\n",
       "      <td>food</td>\n",
       "      <td>https://socialbuzz.cdn.com/content/storage/01a...</td>\n",
       "    </tr>\n",
       "    <tr>\n",
       "      <th>...</th>\n",
       "      <td>...</td>\n",
       "      <td>...</td>\n",
       "      <td>...</td>\n",
       "      <td>...</td>\n",
       "      <td>...</td>\n",
       "    </tr>\n",
       "    <tr>\n",
       "      <th>995</th>\n",
       "      <td>b4cef9ef-627b-41d7-a051-5961b0204ebb</td>\n",
       "      <td>5b62e10e-3c19-4d28-a57c-e9bdc3d6758d</td>\n",
       "      <td>video</td>\n",
       "      <td>public speaking</td>\n",
       "      <td>NaN</td>\n",
       "    </tr>\n",
       "    <tr>\n",
       "      <th>996</th>\n",
       "      <td>7a79f4e4-3b7d-44dc-bdef-bc990740252c</td>\n",
       "      <td>4fe420fa-a193-4408-bd5d-62a020233609</td>\n",
       "      <td>GIF</td>\n",
       "      <td>technology</td>\n",
       "      <td>https://socialbuzz.cdn.com/content/storage/7a7...</td>\n",
       "    </tr>\n",
       "    <tr>\n",
       "      <th>997</th>\n",
       "      <td>435007a5-6261-4d8b-b0a4-55fdc189754b</td>\n",
       "      <td>35d6a1f3-e358-4d4b-8074-05f3b7f35c2a</td>\n",
       "      <td>audio</td>\n",
       "      <td>veganism</td>\n",
       "      <td>https://socialbuzz.cdn.com/content/storage/435...</td>\n",
       "    </tr>\n",
       "    <tr>\n",
       "      <th>998</th>\n",
       "      <td>4e4c9690-c013-4ee7-9e66-943d8cbd27b7</td>\n",
       "      <td>b9bcd994-f000-4f6b-87fc-caae08acfaa1</td>\n",
       "      <td>GIF</td>\n",
       "      <td>culture</td>\n",
       "      <td>https://socialbuzz.cdn.com/content/storage/4e4...</td>\n",
       "    </tr>\n",
       "    <tr>\n",
       "      <th>999</th>\n",
       "      <td>75d6b589-7fae-4a6d-b0d0-752845150e56</td>\n",
       "      <td>b8c653b5-0118-4d7e-9bde-07c2de90f0ff</td>\n",
       "      <td>audio</td>\n",
       "      <td>technology</td>\n",
       "      <td>https://socialbuzz.cdn.com/content/storage/75d...</td>\n",
       "    </tr>\n",
       "  </tbody>\n",
       "</table>\n",
       "<p>1000 rows × 5 columns</p>\n",
       "</div>"
      ],
      "text/plain": [
       "                               Content ID  \\\n",
       "0    97522e57-d9ab-4bd6-97bf-c24d952602d2   \n",
       "1    9f737e0a-3cdd-4d29-9d24-753f4e3be810   \n",
       "2    230c4e4d-70c3-461d-b42c-ec09396efb3f   \n",
       "3    356fff80-da4d-4785-9f43-bc1261031dc6   \n",
       "4    01ab84dd-6364-4236-abbb-3f237db77180   \n",
       "..                                    ...   \n",
       "995  b4cef9ef-627b-41d7-a051-5961b0204ebb   \n",
       "996  7a79f4e4-3b7d-44dc-bdef-bc990740252c   \n",
       "997  435007a5-6261-4d8b-b0a4-55fdc189754b   \n",
       "998  4e4c9690-c013-4ee7-9e66-943d8cbd27b7   \n",
       "999  75d6b589-7fae-4a6d-b0d0-752845150e56   \n",
       "\n",
       "                                  User ID   Type         Category  \\\n",
       "0    8d3cd87d-8a31-4935-9a4f-b319bfe05f31  photo         Studying   \n",
       "1    beb1f34e-7870-46d6-9fc7-2e12eb83ce43  photo   healthy eating   \n",
       "2    a5c65404-5894-4b87-82f2-d787cbee86b4  photo   healthy eating   \n",
       "3    9fb4ce88-fac1-406c-8544-1a899cee7aaf  photo       technology   \n",
       "4    e206e31b-5f85-4964-b6ea-d7ee5324def1  video             food   \n",
       "..                                    ...    ...              ...   \n",
       "995  5b62e10e-3c19-4d28-a57c-e9bdc3d6758d  video  public speaking   \n",
       "996  4fe420fa-a193-4408-bd5d-62a020233609    GIF       technology   \n",
       "997  35d6a1f3-e358-4d4b-8074-05f3b7f35c2a  audio         veganism   \n",
       "998  b9bcd994-f000-4f6b-87fc-caae08acfaa1    GIF          culture   \n",
       "999  b8c653b5-0118-4d7e-9bde-07c2de90f0ff  audio       technology   \n",
       "\n",
       "                                                   URL  \n",
       "0    https://socialbuzz.cdn.com/content/storage/975...  \n",
       "1    https://socialbuzz.cdn.com/content/storage/9f7...  \n",
       "2    https://socialbuzz.cdn.com/content/storage/230...  \n",
       "3    https://socialbuzz.cdn.com/content/storage/356...  \n",
       "4    https://socialbuzz.cdn.com/content/storage/01a...  \n",
       "..                                                 ...  \n",
       "995                                                NaN  \n",
       "996  https://socialbuzz.cdn.com/content/storage/7a7...  \n",
       "997  https://socialbuzz.cdn.com/content/storage/435...  \n",
       "998  https://socialbuzz.cdn.com/content/storage/4e4...  \n",
       "999  https://socialbuzz.cdn.com/content/storage/75d...  \n",
       "\n",
       "[1000 rows x 5 columns]"
      ]
     },
     "execution_count": 3,
     "metadata": {},
     "output_type": "execute_result"
    }
   ],
   "source": [
    "#show all rows and columns from dataset\n",
    "df1"
   ]
  },
  {
   "cell_type": "markdown",
   "id": "f3811cd4",
   "metadata": {},
   "source": [
    "#### Reactions dataset (df2)"
   ]
  },
  {
   "cell_type": "code",
   "execution_count": 4,
   "id": "379ffc9d",
   "metadata": {},
   "outputs": [
    {
     "data": {
      "text/html": [
       "<div>\n",
       "<style scoped>\n",
       "    .dataframe tbody tr th:only-of-type {\n",
       "        vertical-align: middle;\n",
       "    }\n",
       "\n",
       "    .dataframe tbody tr th {\n",
       "        vertical-align: top;\n",
       "    }\n",
       "\n",
       "    .dataframe thead th {\n",
       "        text-align: right;\n",
       "    }\n",
       "</style>\n",
       "<table border=\"1\" class=\"dataframe\">\n",
       "  <thead>\n",
       "    <tr style=\"text-align: right;\">\n",
       "      <th></th>\n",
       "      <th>Content ID</th>\n",
       "      <th>User ID</th>\n",
       "      <th>Type</th>\n",
       "      <th>Datetime</th>\n",
       "    </tr>\n",
       "  </thead>\n",
       "  <tbody>\n",
       "    <tr>\n",
       "      <th>0</th>\n",
       "      <td>97522e57-d9ab-4bd6-97bf-c24d952602d2</td>\n",
       "      <td>NaN</td>\n",
       "      <td>NaN</td>\n",
       "      <td>2021-04-22 15:17:15</td>\n",
       "    </tr>\n",
       "    <tr>\n",
       "      <th>1</th>\n",
       "      <td>97522e57-d9ab-4bd6-97bf-c24d952602d2</td>\n",
       "      <td>5d454588-283d-459d-915d-c48a2cb4c27f</td>\n",
       "      <td>disgust</td>\n",
       "      <td>2020-11-07 09:43:50</td>\n",
       "    </tr>\n",
       "    <tr>\n",
       "      <th>2</th>\n",
       "      <td>97522e57-d9ab-4bd6-97bf-c24d952602d2</td>\n",
       "      <td>92b87fa5-f271-43e0-af66-84fac21052e6</td>\n",
       "      <td>dislike</td>\n",
       "      <td>2021-06-17 12:22:51</td>\n",
       "    </tr>\n",
       "    <tr>\n",
       "      <th>3</th>\n",
       "      <td>97522e57-d9ab-4bd6-97bf-c24d952602d2</td>\n",
       "      <td>163daa38-8b77-48c9-9af6-37a6c1447ac2</td>\n",
       "      <td>scared</td>\n",
       "      <td>2021-04-18 05:13:58</td>\n",
       "    </tr>\n",
       "    <tr>\n",
       "      <th>4</th>\n",
       "      <td>97522e57-d9ab-4bd6-97bf-c24d952602d2</td>\n",
       "      <td>34e8add9-0206-47fd-a501-037b994650a2</td>\n",
       "      <td>disgust</td>\n",
       "      <td>2021-01-06 19:13:01</td>\n",
       "    </tr>\n",
       "    <tr>\n",
       "      <th>...</th>\n",
       "      <td>...</td>\n",
       "      <td>...</td>\n",
       "      <td>...</td>\n",
       "      <td>...</td>\n",
       "    </tr>\n",
       "    <tr>\n",
       "      <th>25548</th>\n",
       "      <td>75d6b589-7fae-4a6d-b0d0-752845150e56</td>\n",
       "      <td>80c9ce48-46f9-4f5e-b3ca-3b698fc2e949</td>\n",
       "      <td>dislike</td>\n",
       "      <td>2020-06-27 09:46:48</td>\n",
       "    </tr>\n",
       "    <tr>\n",
       "      <th>25549</th>\n",
       "      <td>75d6b589-7fae-4a6d-b0d0-752845150e56</td>\n",
       "      <td>2bd9c167-e06c-47c1-a978-3403d6724606</td>\n",
       "      <td>intrigued</td>\n",
       "      <td>2021-02-16 17:17:02</td>\n",
       "    </tr>\n",
       "    <tr>\n",
       "      <th>25550</th>\n",
       "      <td>75d6b589-7fae-4a6d-b0d0-752845150e56</td>\n",
       "      <td>NaN</td>\n",
       "      <td>interested</td>\n",
       "      <td>2020-09-12 03:54:58</td>\n",
       "    </tr>\n",
       "    <tr>\n",
       "      <th>25551</th>\n",
       "      <td>75d6b589-7fae-4a6d-b0d0-752845150e56</td>\n",
       "      <td>5ffd8b51-164e-47e2-885e-8b8c46eb63ed</td>\n",
       "      <td>worried</td>\n",
       "      <td>2020-11-04 20:08:31</td>\n",
       "    </tr>\n",
       "    <tr>\n",
       "      <th>25552</th>\n",
       "      <td>75d6b589-7fae-4a6d-b0d0-752845150e56</td>\n",
       "      <td>4edc3d1a-a7d9-4db6-89c3-f784d9954172</td>\n",
       "      <td>cherish</td>\n",
       "      <td>2021-01-04 04:55:11</td>\n",
       "    </tr>\n",
       "  </tbody>\n",
       "</table>\n",
       "<p>25553 rows × 4 columns</p>\n",
       "</div>"
      ],
      "text/plain": [
       "                                 Content ID  \\\n",
       "0      97522e57-d9ab-4bd6-97bf-c24d952602d2   \n",
       "1      97522e57-d9ab-4bd6-97bf-c24d952602d2   \n",
       "2      97522e57-d9ab-4bd6-97bf-c24d952602d2   \n",
       "3      97522e57-d9ab-4bd6-97bf-c24d952602d2   \n",
       "4      97522e57-d9ab-4bd6-97bf-c24d952602d2   \n",
       "...                                     ...   \n",
       "25548  75d6b589-7fae-4a6d-b0d0-752845150e56   \n",
       "25549  75d6b589-7fae-4a6d-b0d0-752845150e56   \n",
       "25550  75d6b589-7fae-4a6d-b0d0-752845150e56   \n",
       "25551  75d6b589-7fae-4a6d-b0d0-752845150e56   \n",
       "25552  75d6b589-7fae-4a6d-b0d0-752845150e56   \n",
       "\n",
       "                                    User ID        Type             Datetime  \n",
       "0                                       NaN         NaN  2021-04-22 15:17:15  \n",
       "1      5d454588-283d-459d-915d-c48a2cb4c27f     disgust  2020-11-07 09:43:50  \n",
       "2      92b87fa5-f271-43e0-af66-84fac21052e6     dislike  2021-06-17 12:22:51  \n",
       "3      163daa38-8b77-48c9-9af6-37a6c1447ac2      scared  2021-04-18 05:13:58  \n",
       "4      34e8add9-0206-47fd-a501-037b994650a2     disgust  2021-01-06 19:13:01  \n",
       "...                                     ...         ...                  ...  \n",
       "25548  80c9ce48-46f9-4f5e-b3ca-3b698fc2e949     dislike  2020-06-27 09:46:48  \n",
       "25549  2bd9c167-e06c-47c1-a978-3403d6724606   intrigued  2021-02-16 17:17:02  \n",
       "25550                                   NaN  interested  2020-09-12 03:54:58  \n",
       "25551  5ffd8b51-164e-47e2-885e-8b8c46eb63ed     worried  2020-11-04 20:08:31  \n",
       "25552  4edc3d1a-a7d9-4db6-89c3-f784d9954172     cherish  2021-01-04 04:55:11  \n",
       "\n",
       "[25553 rows x 4 columns]"
      ]
     },
     "execution_count": 4,
     "metadata": {},
     "output_type": "execute_result"
    }
   ],
   "source": [
    "df2"
   ]
  },
  {
   "cell_type": "markdown",
   "id": "5e8ac721",
   "metadata": {},
   "source": [
    "#### Reaction Types dataset (df3)"
   ]
  },
  {
   "cell_type": "code",
   "execution_count": 5,
   "id": "4f179d62",
   "metadata": {},
   "outputs": [
    {
     "data": {
      "text/html": [
       "<div>\n",
       "<style scoped>\n",
       "    .dataframe tbody tr th:only-of-type {\n",
       "        vertical-align: middle;\n",
       "    }\n",
       "\n",
       "    .dataframe tbody tr th {\n",
       "        vertical-align: top;\n",
       "    }\n",
       "\n",
       "    .dataframe thead th {\n",
       "        text-align: right;\n",
       "    }\n",
       "</style>\n",
       "<table border=\"1\" class=\"dataframe\">\n",
       "  <thead>\n",
       "    <tr style=\"text-align: right;\">\n",
       "      <th></th>\n",
       "      <th>Type</th>\n",
       "      <th>Sentiment</th>\n",
       "      <th>Score</th>\n",
       "    </tr>\n",
       "  </thead>\n",
       "  <tbody>\n",
       "    <tr>\n",
       "      <th>0</th>\n",
       "      <td>heart</td>\n",
       "      <td>positive</td>\n",
       "      <td>60</td>\n",
       "    </tr>\n",
       "    <tr>\n",
       "      <th>1</th>\n",
       "      <td>want</td>\n",
       "      <td>positive</td>\n",
       "      <td>70</td>\n",
       "    </tr>\n",
       "    <tr>\n",
       "      <th>2</th>\n",
       "      <td>disgust</td>\n",
       "      <td>negative</td>\n",
       "      <td>0</td>\n",
       "    </tr>\n",
       "    <tr>\n",
       "      <th>3</th>\n",
       "      <td>hate</td>\n",
       "      <td>negative</td>\n",
       "      <td>5</td>\n",
       "    </tr>\n",
       "    <tr>\n",
       "      <th>4</th>\n",
       "      <td>interested</td>\n",
       "      <td>positive</td>\n",
       "      <td>30</td>\n",
       "    </tr>\n",
       "    <tr>\n",
       "      <th>5</th>\n",
       "      <td>indifferent</td>\n",
       "      <td>neutral</td>\n",
       "      <td>20</td>\n",
       "    </tr>\n",
       "    <tr>\n",
       "      <th>6</th>\n",
       "      <td>love</td>\n",
       "      <td>positive</td>\n",
       "      <td>65</td>\n",
       "    </tr>\n",
       "    <tr>\n",
       "      <th>7</th>\n",
       "      <td>super love</td>\n",
       "      <td>positive</td>\n",
       "      <td>75</td>\n",
       "    </tr>\n",
       "    <tr>\n",
       "      <th>8</th>\n",
       "      <td>cherish</td>\n",
       "      <td>positive</td>\n",
       "      <td>70</td>\n",
       "    </tr>\n",
       "    <tr>\n",
       "      <th>9</th>\n",
       "      <td>adore</td>\n",
       "      <td>positive</td>\n",
       "      <td>72</td>\n",
       "    </tr>\n",
       "    <tr>\n",
       "      <th>10</th>\n",
       "      <td>like</td>\n",
       "      <td>positive</td>\n",
       "      <td>50</td>\n",
       "    </tr>\n",
       "    <tr>\n",
       "      <th>11</th>\n",
       "      <td>dislike</td>\n",
       "      <td>negative</td>\n",
       "      <td>10</td>\n",
       "    </tr>\n",
       "    <tr>\n",
       "      <th>12</th>\n",
       "      <td>intrigued</td>\n",
       "      <td>positive</td>\n",
       "      <td>45</td>\n",
       "    </tr>\n",
       "    <tr>\n",
       "      <th>13</th>\n",
       "      <td>peeking</td>\n",
       "      <td>neutral</td>\n",
       "      <td>35</td>\n",
       "    </tr>\n",
       "    <tr>\n",
       "      <th>14</th>\n",
       "      <td>scared</td>\n",
       "      <td>negative</td>\n",
       "      <td>15</td>\n",
       "    </tr>\n",
       "    <tr>\n",
       "      <th>15</th>\n",
       "      <td>worried</td>\n",
       "      <td>negative</td>\n",
       "      <td>12</td>\n",
       "    </tr>\n",
       "  </tbody>\n",
       "</table>\n",
       "</div>"
      ],
      "text/plain": [
       "           Type Sentiment  Score\n",
       "0         heart  positive     60\n",
       "1          want  positive     70\n",
       "2       disgust  negative      0\n",
       "3          hate  negative      5\n",
       "4    interested  positive     30\n",
       "5   indifferent   neutral     20\n",
       "6          love  positive     65\n",
       "7    super love  positive     75\n",
       "8       cherish  positive     70\n",
       "9         adore  positive     72\n",
       "10         like  positive     50\n",
       "11      dislike  negative     10\n",
       "12    intrigued  positive     45\n",
       "13      peeking   neutral     35\n",
       "14       scared  negative     15\n",
       "15      worried  negative     12"
      ]
     },
     "execution_count": 5,
     "metadata": {},
     "output_type": "execute_result"
    }
   ],
   "source": [
    "df3"
   ]
  },
  {
   "cell_type": "markdown",
   "id": "bf6f1cb1",
   "metadata": {},
   "source": [
    "### Programmatic Assessment"
   ]
  },
  {
   "cell_type": "markdown",
   "id": "0bd10cc4",
   "metadata": {},
   "source": [
    "#### Content dataset (df1)"
   ]
  },
  {
   "cell_type": "code",
   "execution_count": 6,
   "id": "94d5170c",
   "metadata": {},
   "outputs": [
    {
     "data": {
      "text/html": [
       "<div>\n",
       "<style scoped>\n",
       "    .dataframe tbody tr th:only-of-type {\n",
       "        vertical-align: middle;\n",
       "    }\n",
       "\n",
       "    .dataframe tbody tr th {\n",
       "        vertical-align: top;\n",
       "    }\n",
       "\n",
       "    .dataframe thead th {\n",
       "        text-align: right;\n",
       "    }\n",
       "</style>\n",
       "<table border=\"1\" class=\"dataframe\">\n",
       "  <thead>\n",
       "    <tr style=\"text-align: right;\">\n",
       "      <th></th>\n",
       "      <th>Content ID</th>\n",
       "      <th>User ID</th>\n",
       "      <th>Type</th>\n",
       "      <th>Category</th>\n",
       "      <th>URL</th>\n",
       "    </tr>\n",
       "  </thead>\n",
       "  <tbody>\n",
       "    <tr>\n",
       "      <th>0</th>\n",
       "      <td>97522e57-d9ab-4bd6-97bf-c24d952602d2</td>\n",
       "      <td>8d3cd87d-8a31-4935-9a4f-b319bfe05f31</td>\n",
       "      <td>photo</td>\n",
       "      <td>Studying</td>\n",
       "      <td>https://socialbuzz.cdn.com/content/storage/975...</td>\n",
       "    </tr>\n",
       "    <tr>\n",
       "      <th>1</th>\n",
       "      <td>9f737e0a-3cdd-4d29-9d24-753f4e3be810</td>\n",
       "      <td>beb1f34e-7870-46d6-9fc7-2e12eb83ce43</td>\n",
       "      <td>photo</td>\n",
       "      <td>healthy eating</td>\n",
       "      <td>https://socialbuzz.cdn.com/content/storage/9f7...</td>\n",
       "    </tr>\n",
       "    <tr>\n",
       "      <th>2</th>\n",
       "      <td>230c4e4d-70c3-461d-b42c-ec09396efb3f</td>\n",
       "      <td>a5c65404-5894-4b87-82f2-d787cbee86b4</td>\n",
       "      <td>photo</td>\n",
       "      <td>healthy eating</td>\n",
       "      <td>https://socialbuzz.cdn.com/content/storage/230...</td>\n",
       "    </tr>\n",
       "    <tr>\n",
       "      <th>3</th>\n",
       "      <td>356fff80-da4d-4785-9f43-bc1261031dc6</td>\n",
       "      <td>9fb4ce88-fac1-406c-8544-1a899cee7aaf</td>\n",
       "      <td>photo</td>\n",
       "      <td>technology</td>\n",
       "      <td>https://socialbuzz.cdn.com/content/storage/356...</td>\n",
       "    </tr>\n",
       "    <tr>\n",
       "      <th>4</th>\n",
       "      <td>01ab84dd-6364-4236-abbb-3f237db77180</td>\n",
       "      <td>e206e31b-5f85-4964-b6ea-d7ee5324def1</td>\n",
       "      <td>video</td>\n",
       "      <td>food</td>\n",
       "      <td>https://socialbuzz.cdn.com/content/storage/01a...</td>\n",
       "    </tr>\n",
       "  </tbody>\n",
       "</table>\n",
       "</div>"
      ],
      "text/plain": [
       "                             Content ID                               User ID  \\\n",
       "0  97522e57-d9ab-4bd6-97bf-c24d952602d2  8d3cd87d-8a31-4935-9a4f-b319bfe05f31   \n",
       "1  9f737e0a-3cdd-4d29-9d24-753f4e3be810  beb1f34e-7870-46d6-9fc7-2e12eb83ce43   \n",
       "2  230c4e4d-70c3-461d-b42c-ec09396efb3f  a5c65404-5894-4b87-82f2-d787cbee86b4   \n",
       "3  356fff80-da4d-4785-9f43-bc1261031dc6  9fb4ce88-fac1-406c-8544-1a899cee7aaf   \n",
       "4  01ab84dd-6364-4236-abbb-3f237db77180  e206e31b-5f85-4964-b6ea-d7ee5324def1   \n",
       "\n",
       "    Type        Category                                                URL  \n",
       "0  photo        Studying  https://socialbuzz.cdn.com/content/storage/975...  \n",
       "1  photo  healthy eating  https://socialbuzz.cdn.com/content/storage/9f7...  \n",
       "2  photo  healthy eating  https://socialbuzz.cdn.com/content/storage/230...  \n",
       "3  photo      technology  https://socialbuzz.cdn.com/content/storage/356...  \n",
       "4  video            food  https://socialbuzz.cdn.com/content/storage/01a...  "
      ]
     },
     "execution_count": 6,
     "metadata": {},
     "output_type": "execute_result"
    }
   ],
   "source": [
    "#list first 5 rows\n",
    "df1.head()"
   ]
  },
  {
   "cell_type": "code",
   "execution_count": 7,
   "id": "df9df862",
   "metadata": {},
   "outputs": [
    {
     "name": "stdout",
     "output_type": "stream",
     "text": [
      "<class 'pandas.core.frame.DataFrame'>\n",
      "Int64Index: 1000 entries, 0 to 999\n",
      "Data columns (total 5 columns):\n",
      " #   Column      Non-Null Count  Dtype \n",
      "---  ------      --------------  ----- \n",
      " 0   Content ID  1000 non-null   object\n",
      " 1   User ID     1000 non-null   object\n",
      " 2   Type        1000 non-null   object\n",
      " 3   Category    1000 non-null   object\n",
      " 4   URL         801 non-null    object\n",
      "dtypes: object(5)\n",
      "memory usage: 46.9+ KB\n"
     ]
    }
   ],
   "source": [
    "#check the number of rows, columns, datatypes and missing data\n",
    "df1.info()"
   ]
  },
  {
   "cell_type": "code",
   "execution_count": 8,
   "id": "96af1a0a",
   "metadata": {
    "scrolled": true
   },
   "outputs": [
    {
     "data": {
      "text/html": [
       "<div>\n",
       "<style scoped>\n",
       "    .dataframe tbody tr th:only-of-type {\n",
       "        vertical-align: middle;\n",
       "    }\n",
       "\n",
       "    .dataframe tbody tr th {\n",
       "        vertical-align: top;\n",
       "    }\n",
       "\n",
       "    .dataframe thead th {\n",
       "        text-align: right;\n",
       "    }\n",
       "</style>\n",
       "<table border=\"1\" class=\"dataframe\">\n",
       "  <thead>\n",
       "    <tr style=\"text-align: right;\">\n",
       "      <th></th>\n",
       "      <th>Content ID</th>\n",
       "      <th>User ID</th>\n",
       "      <th>Type</th>\n",
       "      <th>Category</th>\n",
       "      <th>URL</th>\n",
       "    </tr>\n",
       "  </thead>\n",
       "  <tbody>\n",
       "    <tr>\n",
       "      <th>count</th>\n",
       "      <td>1000</td>\n",
       "      <td>1000</td>\n",
       "      <td>1000</td>\n",
       "      <td>1000</td>\n",
       "      <td>801</td>\n",
       "    </tr>\n",
       "    <tr>\n",
       "      <th>unique</th>\n",
       "      <td>1000</td>\n",
       "      <td>446</td>\n",
       "      <td>4</td>\n",
       "      <td>41</td>\n",
       "      <td>801</td>\n",
       "    </tr>\n",
       "    <tr>\n",
       "      <th>top</th>\n",
       "      <td>97522e57-d9ab-4bd6-97bf-c24d952602d2</td>\n",
       "      <td>72d2587e-8fae-4626-a73d-352e6465ba0f</td>\n",
       "      <td>photo</td>\n",
       "      <td>technology</td>\n",
       "      <td>https://socialbuzz.cdn.com/content/storage/975...</td>\n",
       "    </tr>\n",
       "    <tr>\n",
       "      <th>freq</th>\n",
       "      <td>1</td>\n",
       "      <td>8</td>\n",
       "      <td>261</td>\n",
       "      <td>71</td>\n",
       "      <td>1</td>\n",
       "    </tr>\n",
       "  </tbody>\n",
       "</table>\n",
       "</div>"
      ],
      "text/plain": [
       "                                  Content ID  \\\n",
       "count                                   1000   \n",
       "unique                                  1000   \n",
       "top     97522e57-d9ab-4bd6-97bf-c24d952602d2   \n",
       "freq                                       1   \n",
       "\n",
       "                                     User ID   Type    Category  \\\n",
       "count                                   1000   1000        1000   \n",
       "unique                                   446      4          41   \n",
       "top     72d2587e-8fae-4626-a73d-352e6465ba0f  photo  technology   \n",
       "freq                                       8    261          71   \n",
       "\n",
       "                                                      URL  \n",
       "count                                                 801  \n",
       "unique                                                801  \n",
       "top     https://socialbuzz.cdn.com/content/storage/975...  \n",
       "freq                                                    1  "
      ]
     },
     "execution_count": 8,
     "metadata": {},
     "output_type": "execute_result"
    }
   ],
   "source": [
    "#check basic statistics\n",
    "df1.describe()"
   ]
  },
  {
   "cell_type": "code",
   "execution_count": 9,
   "id": "eb577b85",
   "metadata": {},
   "outputs": [
    {
     "data": {
      "text/plain": [
       "Content ID      0\n",
       "User ID         0\n",
       "Type            0\n",
       "Category        0\n",
       "URL           199\n",
       "dtype: int64"
      ]
     },
     "execution_count": 9,
     "metadata": {},
     "output_type": "execute_result"
    }
   ],
   "source": [
    "#check for null values\n",
    "df1.isna().sum()"
   ]
  },
  {
   "cell_type": "code",
   "execution_count": 10,
   "id": "2d029689",
   "metadata": {},
   "outputs": [
    {
     "data": {
      "text/plain": [
       "0"
      ]
     },
     "execution_count": 10,
     "metadata": {},
     "output_type": "execute_result"
    }
   ],
   "source": [
    "#check for duplicates\n",
    "df1.duplicated().sum()"
   ]
  },
  {
   "cell_type": "code",
   "execution_count": 11,
   "id": "f27e4f27",
   "metadata": {},
   "outputs": [
    {
     "data": {
      "text/plain": [
       "554"
      ]
     },
     "execution_count": 11,
     "metadata": {},
     "output_type": "execute_result"
    }
   ],
   "source": [
    "#check for duplicates in User ID\n",
    "df1[\"User ID\"].duplicated().sum()"
   ]
  },
  {
   "cell_type": "code",
   "execution_count": 12,
   "id": "dcb6da89",
   "metadata": {
    "scrolled": true
   },
   "outputs": [
    {
     "data": {
      "text/plain": [
       "array(['photo', 'video', 'GIF', 'audio'], dtype=object)"
      ]
     },
     "execution_count": 12,
     "metadata": {},
     "output_type": "execute_result"
    }
   ],
   "source": [
    "#check the unique values in Type\n",
    "df1.Type.unique()"
   ]
  },
  {
   "cell_type": "code",
   "execution_count": 13,
   "id": "8bb5d325",
   "metadata": {},
   "outputs": [
    {
     "data": {
      "text/plain": [
       "array(['Studying', 'healthy eating', 'technology', 'food', 'cooking',\n",
       "       'dogs', 'soccer', 'public speaking', 'science', 'tennis', 'travel',\n",
       "       'fitness', 'education', 'studying', 'veganism', 'Animals',\n",
       "       'animals', 'culture', '\"culture\"', 'Fitness', '\"studying\"',\n",
       "       'Veganism', '\"animals\"', 'Travel', '\"soccer\"', 'Education',\n",
       "       '\"dogs\"', 'Technology', 'Soccer', '\"tennis\"', 'Culture', '\"food\"',\n",
       "       'Food', '\"technology\"', 'Healthy Eating', '\"cooking\"', 'Science',\n",
       "       '\"public speaking\"', '\"veganism\"', 'Public Speaking', '\"science\"'],\n",
       "      dtype=object)"
      ]
     },
     "execution_count": 13,
     "metadata": {},
     "output_type": "execute_result"
    }
   ],
   "source": [
    "#check the unique values in Type\n",
    "df1.Category.unique()"
   ]
  },
  {
   "cell_type": "markdown",
   "id": "381926f9",
   "metadata": {},
   "source": [
    "#### Reactions dataset (df2)"
   ]
  },
  {
   "cell_type": "code",
   "execution_count": 14,
   "id": "a1781b7c",
   "metadata": {},
   "outputs": [
    {
     "data": {
      "text/html": [
       "<div>\n",
       "<style scoped>\n",
       "    .dataframe tbody tr th:only-of-type {\n",
       "        vertical-align: middle;\n",
       "    }\n",
       "\n",
       "    .dataframe tbody tr th {\n",
       "        vertical-align: top;\n",
       "    }\n",
       "\n",
       "    .dataframe thead th {\n",
       "        text-align: right;\n",
       "    }\n",
       "</style>\n",
       "<table border=\"1\" class=\"dataframe\">\n",
       "  <thead>\n",
       "    <tr style=\"text-align: right;\">\n",
       "      <th></th>\n",
       "      <th>Content ID</th>\n",
       "      <th>User ID</th>\n",
       "      <th>Type</th>\n",
       "      <th>Datetime</th>\n",
       "    </tr>\n",
       "  </thead>\n",
       "  <tbody>\n",
       "    <tr>\n",
       "      <th>0</th>\n",
       "      <td>97522e57-d9ab-4bd6-97bf-c24d952602d2</td>\n",
       "      <td>NaN</td>\n",
       "      <td>NaN</td>\n",
       "      <td>2021-04-22 15:17:15</td>\n",
       "    </tr>\n",
       "    <tr>\n",
       "      <th>1</th>\n",
       "      <td>97522e57-d9ab-4bd6-97bf-c24d952602d2</td>\n",
       "      <td>5d454588-283d-459d-915d-c48a2cb4c27f</td>\n",
       "      <td>disgust</td>\n",
       "      <td>2020-11-07 09:43:50</td>\n",
       "    </tr>\n",
       "    <tr>\n",
       "      <th>2</th>\n",
       "      <td>97522e57-d9ab-4bd6-97bf-c24d952602d2</td>\n",
       "      <td>92b87fa5-f271-43e0-af66-84fac21052e6</td>\n",
       "      <td>dislike</td>\n",
       "      <td>2021-06-17 12:22:51</td>\n",
       "    </tr>\n",
       "    <tr>\n",
       "      <th>3</th>\n",
       "      <td>97522e57-d9ab-4bd6-97bf-c24d952602d2</td>\n",
       "      <td>163daa38-8b77-48c9-9af6-37a6c1447ac2</td>\n",
       "      <td>scared</td>\n",
       "      <td>2021-04-18 05:13:58</td>\n",
       "    </tr>\n",
       "    <tr>\n",
       "      <th>4</th>\n",
       "      <td>97522e57-d9ab-4bd6-97bf-c24d952602d2</td>\n",
       "      <td>34e8add9-0206-47fd-a501-037b994650a2</td>\n",
       "      <td>disgust</td>\n",
       "      <td>2021-01-06 19:13:01</td>\n",
       "    </tr>\n",
       "  </tbody>\n",
       "</table>\n",
       "</div>"
      ],
      "text/plain": [
       "                             Content ID                               User ID  \\\n",
       "0  97522e57-d9ab-4bd6-97bf-c24d952602d2                                   NaN   \n",
       "1  97522e57-d9ab-4bd6-97bf-c24d952602d2  5d454588-283d-459d-915d-c48a2cb4c27f   \n",
       "2  97522e57-d9ab-4bd6-97bf-c24d952602d2  92b87fa5-f271-43e0-af66-84fac21052e6   \n",
       "3  97522e57-d9ab-4bd6-97bf-c24d952602d2  163daa38-8b77-48c9-9af6-37a6c1447ac2   \n",
       "4  97522e57-d9ab-4bd6-97bf-c24d952602d2  34e8add9-0206-47fd-a501-037b994650a2   \n",
       "\n",
       "      Type             Datetime  \n",
       "0      NaN  2021-04-22 15:17:15  \n",
       "1  disgust  2020-11-07 09:43:50  \n",
       "2  dislike  2021-06-17 12:22:51  \n",
       "3   scared  2021-04-18 05:13:58  \n",
       "4  disgust  2021-01-06 19:13:01  "
      ]
     },
     "execution_count": 14,
     "metadata": {},
     "output_type": "execute_result"
    }
   ],
   "source": [
    "#list first 5 rows\n",
    "df2.head()"
   ]
  },
  {
   "cell_type": "code",
   "execution_count": 15,
   "id": "e7757287",
   "metadata": {},
   "outputs": [
    {
     "name": "stdout",
     "output_type": "stream",
     "text": [
      "<class 'pandas.core.frame.DataFrame'>\n",
      "Int64Index: 25553 entries, 0 to 25552\n",
      "Data columns (total 4 columns):\n",
      " #   Column      Non-Null Count  Dtype \n",
      "---  ------      --------------  ----- \n",
      " 0   Content ID  25553 non-null  object\n",
      " 1   User ID     22534 non-null  object\n",
      " 2   Type        24573 non-null  object\n",
      " 3   Datetime    25553 non-null  object\n",
      "dtypes: object(4)\n",
      "memory usage: 998.2+ KB\n"
     ]
    }
   ],
   "source": [
    "#check the number of rows, columns, datatypes and missing data\n",
    "df2.info()"
   ]
  },
  {
   "cell_type": "code",
   "execution_count": 16,
   "id": "fe489814",
   "metadata": {},
   "outputs": [
    {
     "data": {
      "text/html": [
       "<div>\n",
       "<style scoped>\n",
       "    .dataframe tbody tr th:only-of-type {\n",
       "        vertical-align: middle;\n",
       "    }\n",
       "\n",
       "    .dataframe tbody tr th {\n",
       "        vertical-align: top;\n",
       "    }\n",
       "\n",
       "    .dataframe thead th {\n",
       "        text-align: right;\n",
       "    }\n",
       "</style>\n",
       "<table border=\"1\" class=\"dataframe\">\n",
       "  <thead>\n",
       "    <tr style=\"text-align: right;\">\n",
       "      <th></th>\n",
       "      <th>Content ID</th>\n",
       "      <th>User ID</th>\n",
       "      <th>Type</th>\n",
       "      <th>Datetime</th>\n",
       "    </tr>\n",
       "  </thead>\n",
       "  <tbody>\n",
       "    <tr>\n",
       "      <th>count</th>\n",
       "      <td>25553</td>\n",
       "      <td>22534</td>\n",
       "      <td>24573</td>\n",
       "      <td>25553</td>\n",
       "    </tr>\n",
       "    <tr>\n",
       "      <th>unique</th>\n",
       "      <td>980</td>\n",
       "      <td>500</td>\n",
       "      <td>16</td>\n",
       "      <td>25542</td>\n",
       "    </tr>\n",
       "    <tr>\n",
       "      <th>top</th>\n",
       "      <td>4b2d0fff-3b4f-43ca-a7df-c430479cb9ba</td>\n",
       "      <td>c76c3393-88e2-47b0-ac37-dc4f2053f5a5</td>\n",
       "      <td>heart</td>\n",
       "      <td>2020-10-29 20:51:08</td>\n",
       "    </tr>\n",
       "    <tr>\n",
       "      <th>freq</th>\n",
       "      <td>49</td>\n",
       "      <td>65</td>\n",
       "      <td>1622</td>\n",
       "      <td>2</td>\n",
       "    </tr>\n",
       "  </tbody>\n",
       "</table>\n",
       "</div>"
      ],
      "text/plain": [
       "                                  Content ID  \\\n",
       "count                                  25553   \n",
       "unique                                   980   \n",
       "top     4b2d0fff-3b4f-43ca-a7df-c430479cb9ba   \n",
       "freq                                      49   \n",
       "\n",
       "                                     User ID   Type             Datetime  \n",
       "count                                  22534  24573                25553  \n",
       "unique                                   500     16                25542  \n",
       "top     c76c3393-88e2-47b0-ac37-dc4f2053f5a5  heart  2020-10-29 20:51:08  \n",
       "freq                                      65   1622                    2  "
      ]
     },
     "execution_count": 16,
     "metadata": {},
     "output_type": "execute_result"
    }
   ],
   "source": [
    "#check basic statistics\n",
    "df2.describe()"
   ]
  },
  {
   "cell_type": "code",
   "execution_count": 17,
   "id": "4793894b",
   "metadata": {},
   "outputs": [
    {
     "data": {
      "text/plain": [
       "Content ID       0\n",
       "User ID       3019\n",
       "Type           980\n",
       "Datetime         0\n",
       "dtype: int64"
      ]
     },
     "execution_count": 17,
     "metadata": {},
     "output_type": "execute_result"
    }
   ],
   "source": [
    "#check for null values\n",
    "df2.isna().sum()"
   ]
  },
  {
   "cell_type": "code",
   "execution_count": 18,
   "id": "30059c90",
   "metadata": {},
   "outputs": [
    {
     "data": {
      "text/plain": [
       "0"
      ]
     },
     "execution_count": 18,
     "metadata": {},
     "output_type": "execute_result"
    }
   ],
   "source": [
    "#check for duplicates\n",
    "df2.duplicated().sum()"
   ]
  },
  {
   "cell_type": "code",
   "execution_count": 19,
   "id": "5b2f78ce",
   "metadata": {},
   "outputs": [
    {
     "data": {
      "text/plain": [
       "25052"
      ]
     },
     "execution_count": 19,
     "metadata": {},
     "output_type": "execute_result"
    }
   ],
   "source": [
    "#check for duplicates in User ID\n",
    "df2[\"User ID\"].duplicated().sum()"
   ]
  },
  {
   "cell_type": "code",
   "execution_count": 20,
   "id": "c65684a1",
   "metadata": {},
   "outputs": [
    {
     "data": {
      "text/plain": [
       "array([nan, 'disgust', 'dislike', 'scared', 'interested', 'peeking',\n",
       "       'cherish', 'hate', 'love', 'indifferent', 'super love',\n",
       "       'intrigued', 'worried', 'like', 'heart', 'want', 'adore'],\n",
       "      dtype=object)"
      ]
     },
     "execution_count": 20,
     "metadata": {},
     "output_type": "execute_result"
    }
   ],
   "source": [
    "#check the unique values in Type\n",
    "df2.Type.unique()"
   ]
  },
  {
   "cell_type": "markdown",
   "id": "67f0cd15",
   "metadata": {},
   "source": [
    "#### Reaction Types dataset (df3)"
   ]
  },
  {
   "cell_type": "code",
   "execution_count": 21,
   "id": "760d5298",
   "metadata": {},
   "outputs": [
    {
     "data": {
      "text/html": [
       "<div>\n",
       "<style scoped>\n",
       "    .dataframe tbody tr th:only-of-type {\n",
       "        vertical-align: middle;\n",
       "    }\n",
       "\n",
       "    .dataframe tbody tr th {\n",
       "        vertical-align: top;\n",
       "    }\n",
       "\n",
       "    .dataframe thead th {\n",
       "        text-align: right;\n",
       "    }\n",
       "</style>\n",
       "<table border=\"1\" class=\"dataframe\">\n",
       "  <thead>\n",
       "    <tr style=\"text-align: right;\">\n",
       "      <th></th>\n",
       "      <th>Type</th>\n",
       "      <th>Sentiment</th>\n",
       "      <th>Score</th>\n",
       "    </tr>\n",
       "  </thead>\n",
       "  <tbody>\n",
       "    <tr>\n",
       "      <th>0</th>\n",
       "      <td>heart</td>\n",
       "      <td>positive</td>\n",
       "      <td>60</td>\n",
       "    </tr>\n",
       "    <tr>\n",
       "      <th>1</th>\n",
       "      <td>want</td>\n",
       "      <td>positive</td>\n",
       "      <td>70</td>\n",
       "    </tr>\n",
       "    <tr>\n",
       "      <th>2</th>\n",
       "      <td>disgust</td>\n",
       "      <td>negative</td>\n",
       "      <td>0</td>\n",
       "    </tr>\n",
       "    <tr>\n",
       "      <th>3</th>\n",
       "      <td>hate</td>\n",
       "      <td>negative</td>\n",
       "      <td>5</td>\n",
       "    </tr>\n",
       "    <tr>\n",
       "      <th>4</th>\n",
       "      <td>interested</td>\n",
       "      <td>positive</td>\n",
       "      <td>30</td>\n",
       "    </tr>\n",
       "  </tbody>\n",
       "</table>\n",
       "</div>"
      ],
      "text/plain": [
       "         Type Sentiment  Score\n",
       "0       heart  positive     60\n",
       "1        want  positive     70\n",
       "2     disgust  negative      0\n",
       "3        hate  negative      5\n",
       "4  interested  positive     30"
      ]
     },
     "execution_count": 21,
     "metadata": {},
     "output_type": "execute_result"
    }
   ],
   "source": [
    "#list first 5 rows\n",
    "df3.head()"
   ]
  },
  {
   "cell_type": "code",
   "execution_count": 22,
   "id": "008067bb",
   "metadata": {},
   "outputs": [
    {
     "name": "stdout",
     "output_type": "stream",
     "text": [
      "<class 'pandas.core.frame.DataFrame'>\n",
      "Int64Index: 16 entries, 0 to 15\n",
      "Data columns (total 3 columns):\n",
      " #   Column     Non-Null Count  Dtype \n",
      "---  ------     --------------  ----- \n",
      " 0   Type       16 non-null     object\n",
      " 1   Sentiment  16 non-null     object\n",
      " 2   Score      16 non-null     int64 \n",
      "dtypes: int64(1), object(2)\n",
      "memory usage: 512.0+ bytes\n"
     ]
    }
   ],
   "source": [
    "#check the number of rows, columns, datatypes and missing data\n",
    "df3.info()"
   ]
  },
  {
   "cell_type": "code",
   "execution_count": 23,
   "id": "44706b29",
   "metadata": {},
   "outputs": [
    {
     "data": {
      "text/html": [
       "<div>\n",
       "<style scoped>\n",
       "    .dataframe tbody tr th:only-of-type {\n",
       "        vertical-align: middle;\n",
       "    }\n",
       "\n",
       "    .dataframe tbody tr th {\n",
       "        vertical-align: top;\n",
       "    }\n",
       "\n",
       "    .dataframe thead th {\n",
       "        text-align: right;\n",
       "    }\n",
       "</style>\n",
       "<table border=\"1\" class=\"dataframe\">\n",
       "  <thead>\n",
       "    <tr style=\"text-align: right;\">\n",
       "      <th></th>\n",
       "      <th>Score</th>\n",
       "    </tr>\n",
       "  </thead>\n",
       "  <tbody>\n",
       "    <tr>\n",
       "      <th>count</th>\n",
       "      <td>16.000000</td>\n",
       "    </tr>\n",
       "    <tr>\n",
       "      <th>mean</th>\n",
       "      <td>39.625000</td>\n",
       "    </tr>\n",
       "    <tr>\n",
       "      <th>std</th>\n",
       "      <td>26.901983</td>\n",
       "    </tr>\n",
       "    <tr>\n",
       "      <th>min</th>\n",
       "      <td>0.000000</td>\n",
       "    </tr>\n",
       "    <tr>\n",
       "      <th>25%</th>\n",
       "      <td>14.250000</td>\n",
       "    </tr>\n",
       "    <tr>\n",
       "      <th>50%</th>\n",
       "      <td>40.000000</td>\n",
       "    </tr>\n",
       "    <tr>\n",
       "      <th>75%</th>\n",
       "      <td>66.250000</td>\n",
       "    </tr>\n",
       "    <tr>\n",
       "      <th>max</th>\n",
       "      <td>75.000000</td>\n",
       "    </tr>\n",
       "  </tbody>\n",
       "</table>\n",
       "</div>"
      ],
      "text/plain": [
       "           Score\n",
       "count  16.000000\n",
       "mean   39.625000\n",
       "std    26.901983\n",
       "min     0.000000\n",
       "25%    14.250000\n",
       "50%    40.000000\n",
       "75%    66.250000\n",
       "max    75.000000"
      ]
     },
     "execution_count": 23,
     "metadata": {},
     "output_type": "execute_result"
    }
   ],
   "source": [
    "#check basic statistics\n",
    "df3.describe()"
   ]
  },
  {
   "cell_type": "code",
   "execution_count": 24,
   "id": "f4a57b74",
   "metadata": {},
   "outputs": [
    {
     "data": {
      "text/plain": [
       "Type         0\n",
       "Sentiment    0\n",
       "Score        0\n",
       "dtype: int64"
      ]
     },
     "execution_count": 24,
     "metadata": {},
     "output_type": "execute_result"
    }
   ],
   "source": [
    "#check for null values\n",
    "df3.isna().sum()"
   ]
  },
  {
   "cell_type": "code",
   "execution_count": 25,
   "id": "af42ad0a",
   "metadata": {},
   "outputs": [
    {
     "data": {
      "text/plain": [
       "0"
      ]
     },
     "execution_count": 25,
     "metadata": {},
     "output_type": "execute_result"
    }
   ],
   "source": [
    "#check for duplicates\n",
    "df3.duplicated().sum()"
   ]
  },
  {
   "cell_type": "code",
   "execution_count": 26,
   "id": "6cf6b2fd",
   "metadata": {},
   "outputs": [
    {
     "data": {
      "text/plain": [
       "array(['heart', 'want', 'disgust', 'hate', 'interested', 'indifferent',\n",
       "       'love', 'super love', 'cherish', 'adore', 'like', 'dislike',\n",
       "       'intrigued', 'peeking', 'scared', 'worried'], dtype=object)"
      ]
     },
     "execution_count": 26,
     "metadata": {},
     "output_type": "execute_result"
    }
   ],
   "source": [
    "#check the unique values in Type\n",
    "df3.Type.unique()"
   ]
  },
  {
   "cell_type": "code",
   "execution_count": 27,
   "id": "a38f0145",
   "metadata": {},
   "outputs": [
    {
     "data": {
      "text/plain": [
       "array(['positive', 'negative', 'neutral'], dtype=object)"
      ]
     },
     "execution_count": 27,
     "metadata": {},
     "output_type": "execute_result"
    }
   ],
   "source": [
    "#check the unique values in Sentiment\n",
    "df3.Sentiment.unique()"
   ]
  },
  {
   "cell_type": "code",
   "execution_count": 28,
   "id": "1c43bd76",
   "metadata": {},
   "outputs": [
    {
     "data": {
      "text/plain": [
       "array([60, 70,  0,  5, 30, 20, 65, 75, 72, 50, 10, 45, 35, 15, 12],\n",
       "      dtype=int64)"
      ]
     },
     "execution_count": 28,
     "metadata": {},
     "output_type": "execute_result"
    }
   ],
   "source": [
    "#check the unique values in Score\n",
    "df3.Score.unique()"
   ]
  },
  {
   "cell_type": "markdown",
   "id": "a616f925",
   "metadata": {},
   "source": [
    "### Quality issues\n",
    "#### Content dataset (df1)\n",
    "\n",
    "* Content ID and User ID column names are not convenient to use\n",
    "* Type column name is not appropriate\n",
    "* Missing data is present in URL\n",
    "\n",
    "#### Reactions dataset (df2)\n",
    "\n",
    "* Content ID and User ID column names are not convenient to use\n",
    "* Datetime column datatype is string which should not be\n",
    "* Missing data is present in User ID\n",
    "* Missing data is present in Type"
   ]
  },
  {
   "cell_type": "markdown",
   "id": "9d273176",
   "metadata": {},
   "source": [
    "### Tidiness issues\n",
    "\n",
    "* The first two tables and the Score column from the third dataset are not merged together"
   ]
  },
  {
   "cell_type": "markdown",
   "id": "3f7427c7",
   "metadata": {},
   "source": [
    "### Cleaning"
   ]
  },
  {
   "cell_type": "markdown",
   "id": "03284072",
   "metadata": {},
   "source": [
    "### Quality Issues"
   ]
  },
  {
   "cell_type": "code",
   "execution_count": 29,
   "id": "9e42b7b9",
   "metadata": {},
   "outputs": [],
   "source": [
    "#make a copy of the 3 dataset before cleaning\n",
    "#rename `Content ID` to ContendID\n",
    "df1_copy = df1.copy()\n",
    "df2_copy = df2.copy()\n",
    "df3_copy = df3.copy()"
   ]
  },
  {
   "cell_type": "markdown",
   "id": "c78e4ac8",
   "metadata": {},
   "source": [
    "#### Content dataset (df1)"
   ]
  },
  {
   "cell_type": "markdown",
   "id": "d079d84c",
   "metadata": {},
   "source": [
    "#### Define\n",
    "I will rename `Content ID` to `ContendID`, and `User ID` to `UserID`"
   ]
  },
  {
   "cell_type": "markdown",
   "id": "08ef29c0",
   "metadata": {},
   "source": [
    "#### Code"
   ]
  },
  {
   "cell_type": "code",
   "execution_count": 30,
   "id": "729ee2d9",
   "metadata": {},
   "outputs": [],
   "source": [
    "#rename Content ID to ContendID\n",
    "df1.rename(columns={'Content ID':'ContentID','User ID':'UserID'}, inplace=True)"
   ]
  },
  {
   "cell_type": "markdown",
   "id": "a598d9ee",
   "metadata": {},
   "source": [
    "#### Test"
   ]
  },
  {
   "cell_type": "code",
   "execution_count": 31,
   "id": "3af7836c",
   "metadata": {},
   "outputs": [
    {
     "data": {
      "text/plain": [
       "Index(['ContentID', 'UserID', 'Type', 'Category', 'URL'], dtype='object')"
      ]
     },
     "execution_count": 31,
     "metadata": {},
     "output_type": "execute_result"
    }
   ],
   "source": [
    "#list the column names\n",
    "df1.columns"
   ]
  },
  {
   "cell_type": "markdown",
   "id": "338ed228",
   "metadata": {},
   "source": [
    "#### Define\n",
    "I will rename `Type` to `ContendType`"
   ]
  },
  {
   "cell_type": "markdown",
   "id": "ef91a2c1",
   "metadata": {},
   "source": [
    "#### Code"
   ]
  },
  {
   "cell_type": "code",
   "execution_count": 32,
   "id": "f23607ef",
   "metadata": {},
   "outputs": [],
   "source": [
    "#rename Content ID to ContendID\n",
    "df1.rename(columns={'Type':'ContentType'}, inplace=True)"
   ]
  },
  {
   "cell_type": "markdown",
   "id": "ddfa2e1e",
   "metadata": {},
   "source": [
    "#### Test"
   ]
  },
  {
   "cell_type": "code",
   "execution_count": 33,
   "id": "650dc5c6",
   "metadata": {},
   "outputs": [
    {
     "data": {
      "text/plain": [
       "Index(['ContentID', 'UserID', 'ContentType', 'Category', 'URL'], dtype='object')"
      ]
     },
     "execution_count": 33,
     "metadata": {},
     "output_type": "execute_result"
    }
   ],
   "source": [
    "#list the column names\n",
    "df1.columns"
   ]
  },
  {
   "cell_type": "markdown",
   "id": "718721af",
   "metadata": {},
   "source": [
    "#### Define\n",
    "I will drop rows that has no URL"
   ]
  },
  {
   "cell_type": "markdown",
   "id": "b66f478e",
   "metadata": {},
   "source": [
    "#### Code"
   ]
  },
  {
   "cell_type": "code",
   "execution_count": 34,
   "id": "807b70ff",
   "metadata": {},
   "outputs": [],
   "source": [
    "#drop rows that has no URL\n",
    "df1.dropna(inplace=True)"
   ]
  },
  {
   "cell_type": "markdown",
   "id": "091a2242",
   "metadata": {},
   "source": [
    "#### Test"
   ]
  },
  {
   "cell_type": "code",
   "execution_count": 35,
   "id": "a39ed764",
   "metadata": {},
   "outputs": [
    {
     "data": {
      "text/plain": [
       "ContentID      0\n",
       "UserID         0\n",
       "ContentType    0\n",
       "Category       0\n",
       "URL            0\n",
       "dtype: int64"
      ]
     },
     "execution_count": 35,
     "metadata": {},
     "output_type": "execute_result"
    }
   ],
   "source": [
    "#see if missing values exist\n",
    "df1.isna().sum()"
   ]
  },
  {
   "cell_type": "markdown",
   "id": "04f2103b",
   "metadata": {},
   "source": [
    "#### Reactions dataset (df2)"
   ]
  },
  {
   "cell_type": "markdown",
   "id": "a8f13806",
   "metadata": {},
   "source": [
    "#### Define\n",
    "I will rename `Content ID` to `ContendID`, and `User ID` to `UserID`"
   ]
  },
  {
   "cell_type": "markdown",
   "id": "626a0d6e",
   "metadata": {},
   "source": [
    "#### Code"
   ]
  },
  {
   "cell_type": "code",
   "execution_count": 36,
   "id": "62ebe04a",
   "metadata": {},
   "outputs": [],
   "source": [
    "#rename Content ID to ContendID\n",
    "df2.rename(columns={'Content ID':'ContentID','User ID':'UserID'}, inplace=True)"
   ]
  },
  {
   "cell_type": "markdown",
   "id": "24bb19d1",
   "metadata": {},
   "source": [
    "#### Test"
   ]
  },
  {
   "cell_type": "code",
   "execution_count": 37,
   "id": "c6c1c513",
   "metadata": {},
   "outputs": [
    {
     "data": {
      "text/plain": [
       "Index(['ContentID', 'UserID', 'Type', 'Datetime'], dtype='object')"
      ]
     },
     "execution_count": 37,
     "metadata": {},
     "output_type": "execute_result"
    }
   ],
   "source": [
    "#list the column names\n",
    "df2.columns"
   ]
  },
  {
   "cell_type": "markdown",
   "id": "7a72ee9b",
   "metadata": {},
   "source": [
    "#### Define\n",
    "I will change `datetime` datatype to `datetime` datatype"
   ]
  },
  {
   "cell_type": "markdown",
   "id": "59a83701",
   "metadata": {},
   "source": [
    "#### Code"
   ]
  },
  {
   "cell_type": "code",
   "execution_count": 38,
   "id": "620cc67c",
   "metadata": {},
   "outputs": [],
   "source": [
    "#change datetime datatype to datetime\n",
    "df2.Datetime = pd.to_datetime(df2.Datetime)"
   ]
  },
  {
   "cell_type": "markdown",
   "id": "57590944",
   "metadata": {},
   "source": [
    "#### Test"
   ]
  },
  {
   "cell_type": "code",
   "execution_count": 39,
   "id": "7fc9e59a",
   "metadata": {},
   "outputs": [
    {
     "data": {
      "text/plain": [
       "ContentID            object\n",
       "UserID               object\n",
       "Type                 object\n",
       "Datetime     datetime64[ns]\n",
       "dtype: object"
      ]
     },
     "execution_count": 39,
     "metadata": {},
     "output_type": "execute_result"
    }
   ],
   "source": [
    "#see the datatype of the columns\n",
    "df2.dtypes"
   ]
  },
  {
   "cell_type": "markdown",
   "id": "493f6f2f",
   "metadata": {},
   "source": [
    "#### Define\n",
    "I will drop rows that has missing values. I have no reason to impute missing values"
   ]
  },
  {
   "cell_type": "markdown",
   "id": "1a4fbfd8",
   "metadata": {},
   "source": [
    "#### Code"
   ]
  },
  {
   "cell_type": "code",
   "execution_count": 40,
   "id": "e1b0d113",
   "metadata": {},
   "outputs": [],
   "source": [
    "#drop rows that has no URL\n",
    "df2.dropna(inplace=True)"
   ]
  },
  {
   "cell_type": "markdown",
   "id": "bc3dbc64",
   "metadata": {},
   "source": [
    "#### Test"
   ]
  },
  {
   "cell_type": "code",
   "execution_count": 41,
   "id": "aff99a42",
   "metadata": {},
   "outputs": [
    {
     "data": {
      "text/plain": [
       "ContentID    0\n",
       "UserID       0\n",
       "Type         0\n",
       "Datetime     0\n",
       "dtype: int64"
      ]
     },
     "execution_count": 41,
     "metadata": {},
     "output_type": "execute_result"
    }
   ],
   "source": [
    "#see if missing values exist\n",
    "df2.isna().sum()"
   ]
  },
  {
   "cell_type": "markdown",
   "id": "20043e76",
   "metadata": {},
   "source": [
    "#### Reaction Types dataset (df3)"
   ]
  },
  {
   "cell_type": "markdown",
   "id": "bfc333f4",
   "metadata": {},
   "source": [
    "### Tidiness Issues"
   ]
  },
  {
   "cell_type": "markdown",
   "id": "ff6ab7ec",
   "metadata": {},
   "source": [
    "#### Define\n",
    "I will merge df1 and df2 on `ContentID` and also add a Score column from df3 to the merged dataset"
   ]
  },
  {
   "cell_type": "markdown",
   "id": "139ed2c6",
   "metadata": {},
   "source": [
    "#### Code"
   ]
  },
  {
   "cell_type": "code",
   "execution_count": 42,
   "id": "0b4f268f",
   "metadata": {},
   "outputs": [],
   "source": [
    "#merge df1 and df2 on ContentID\n",
    "df_master = pd.merge(df1, df2, on=['ContentID'])"
   ]
  },
  {
   "cell_type": "code",
   "execution_count": 43,
   "id": "9bc2b17b",
   "metadata": {},
   "outputs": [],
   "source": [
    "#make a function that returns the score for a reaction type, using df3\n",
    "def score(reaction):\n",
    "    reaction_types = list(df3.Type)\n",
    "    if reaction in reaction_types:\n",
    "        return (df3.loc[df3.Type == reaction].Score[reaction_types.index(reaction)])\n",
    "    else:\n",
    "        raise ValueError(\"wrong type\")"
   ]
  },
  {
   "cell_type": "code",
   "execution_count": 44,
   "id": "7003f512",
   "metadata": {},
   "outputs": [],
   "source": [
    "#create Score column in df_master to keep track of the score for each reaction\n",
    "df_master['Score'] = df_master.Type.apply(score)"
   ]
  },
  {
   "cell_type": "markdown",
   "id": "cde70fc3",
   "metadata": {},
   "source": [
    "#### Test"
   ]
  },
  {
   "cell_type": "code",
   "execution_count": 45,
   "id": "05717578",
   "metadata": {
    "scrolled": true
   },
   "outputs": [
    {
     "name": "stdout",
     "output_type": "stream",
     "text": [
      "<class 'pandas.core.frame.DataFrame'>\n",
      "Int64Index: 18384 entries, 0 to 18383\n",
      "Data columns (total 9 columns):\n",
      " #   Column       Non-Null Count  Dtype         \n",
      "---  ------       --------------  -----         \n",
      " 0   ContentID    18384 non-null  object        \n",
      " 1   UserID_x     18384 non-null  object        \n",
      " 2   ContentType  18384 non-null  object        \n",
      " 3   Category     18384 non-null  object        \n",
      " 4   URL          18384 non-null  object        \n",
      " 5   UserID_y     18384 non-null  object        \n",
      " 6   Type         18384 non-null  object        \n",
      " 7   Datetime     18384 non-null  datetime64[ns]\n",
      " 8   Score        18384 non-null  int64         \n",
      "dtypes: datetime64[ns](1), int64(1), object(7)\n",
      "memory usage: 1.4+ MB\n"
     ]
    }
   ],
   "source": [
    "#see the datatype of the columns\n",
    "df_master.info()"
   ]
  },
  {
   "cell_type": "markdown",
   "id": "d11b462a",
   "metadata": {},
   "source": [
    "### Visualization"
   ]
  },
  {
   "cell_type": "markdown",
   "id": "8d64ad46",
   "metadata": {},
   "source": [
    "### Dataset structure\n",
    "The master dataset that I will be using has 18,384 rows and 9 columns. Most of the features datatypes are object(strings) while only two are int and datetime datatype."
   ]
  },
  {
   "cell_type": "markdown",
   "id": "9fb7de1f",
   "metadata": {},
   "source": [
    "### Main feature(s) of interest in your dataset\n",
    "My main feature of interest is Category. I want to know the most popular category on `SocialBuzz`"
   ]
  },
  {
   "cell_type": "markdown",
   "id": "ccb2cbd5",
   "metadata": {},
   "source": [
    "### Features in the dataset that will help support my investigation into the feature(s) of interest\n",
    "I would like to use Type and Score to help me in finding the most popular content categories on `SocialBuzz`"
   ]
  },
  {
   "cell_type": "markdown",
   "id": "5fcdb5ec",
   "metadata": {},
   "source": [
    "### Univariate Exploration¶\n",
    "I will begin my exploration with Category, my main feature of interest"
   ]
  },
  {
   "cell_type": "markdown",
   "id": "75b1e529",
   "metadata": {},
   "source": [
    "#### Distribution of Category"
   ]
  },
  {
   "cell_type": "code",
   "execution_count": 46,
   "id": "4f357997",
   "metadata": {
    "scrolled": true
   },
   "outputs": [
    {
     "data": {
      "text/plain": [
       "travel             1368\n",
       "science            1351\n",
       "animals            1323\n",
       "healthy eating     1303\n",
       "cooking            1277\n",
       "culture            1217\n",
       "food               1183\n",
       "tennis             1153\n",
       "technology         1150\n",
       "education          1127\n",
       "soccer             1065\n",
       "fitness            1050\n",
       "dogs               1047\n",
       "veganism            948\n",
       "public speaking     911\n",
       "studying            870\n",
       "Studying             41\n",
       "Name: Category, dtype: int64"
      ]
     },
     "execution_count": 46,
     "metadata": {},
     "output_type": "execute_result"
    }
   ],
   "source": [
    "#see the overview of values in Category\n",
    "df_master.Category.value_counts()"
   ]
  },
  {
   "cell_type": "code",
   "execution_count": 62,
   "id": "7b1639d0",
   "metadata": {},
   "outputs": [],
   "source": [
    "#clean up the data more by replacing Studying category with studying\n",
    "df_master.Category = df_master.Category.str.lower()"
   ]
  },
  {
   "cell_type": "code",
   "execution_count": 63,
   "id": "e73f8cf6",
   "metadata": {},
   "outputs": [
    {
     "data": {
      "text/plain": [
       "travel             1368\n",
       "science            1351\n",
       "animals            1323\n",
       "healthy eating     1303\n",
       "cooking            1277\n",
       "culture            1217\n",
       "food               1183\n",
       "tennis             1153\n",
       "technology         1150\n",
       "education          1127\n",
       "soccer             1065\n",
       "fitness            1050\n",
       "dogs               1047\n",
       "veganism            948\n",
       "studying            911\n",
       "public speaking     911\n",
       "Name: Category, dtype: int64"
      ]
     },
     "execution_count": 63,
     "metadata": {},
     "output_type": "execute_result"
    }
   ],
   "source": [
    "#confirm that `studying` category is in only 1 format\n",
    "df_master.Category.value_counts()"
   ]
  },
  {
   "cell_type": "code",
   "execution_count": 64,
   "id": "3b2ed7ac",
   "metadata": {},
   "outputs": [
    {
     "data": {
      "image/png": "[encoded data removed]",
      "text/plain": [
       "<Figure size 640x480 with 1 Axes>"
      ]
     },
     "metadata": {},
     "output_type": "display_data"
    }
   ],
   "source": [
    "#get the content categories frequency and their indices\n",
    "base_color = sb.color_palette()[3]\n",
    "freq = df_master.Category.value_counts()\n",
    "content_category_order = freq.index\n",
    "#plot the bar chart of content categories in decreasing order of frequency\n",
    "sb.countplot(data=df_master, x='Category', color=base_color, order=content_category_order);\n",
    "plt.xticks(rotation = 90);\n",
    "plt.xlabel('Distribution of Content Categories');"
   ]
  },
  {
   "cell_type": "markdown",
   "id": "633c221e",
   "metadata": {},
   "source": [
    "In the above plot, travel category is the most posted content category, followed by science. The least posted content category is Studying."
   ]
  },
  {
   "cell_type": "code",
   "execution_count": 66,
   "id": "eef46a23",
   "metadata": {},
   "outputs": [
    {
     "data": {
      "text/html": [
       "<div>\n",
       "<style scoped>\n",
       "    .dataframe tbody tr th:only-of-type {\n",
       "        vertical-align: middle;\n",
       "    }\n",
       "\n",
       "    .dataframe tbody tr th {\n",
       "        vertical-align: top;\n",
       "    }\n",
       "\n",
       "    .dataframe thead th {\n",
       "        text-align: right;\n",
       "    }\n",
       "</style>\n",
       "<table border=\"1\" class=\"dataframe\">\n",
       "  <thead>\n",
       "    <tr style=\"text-align: right;\">\n",
       "      <th></th>\n",
       "      <th>ContentID</th>\n",
       "      <th>UserID_x</th>\n",
       "      <th>ContentType</th>\n",
       "      <th>Category</th>\n",
       "      <th>URL</th>\n",
       "      <th>UserID_y</th>\n",
       "      <th>Type</th>\n",
       "      <th>Datetime</th>\n",
       "      <th>Score</th>\n",
       "    </tr>\n",
       "  </thead>\n",
       "  <tbody>\n",
       "    <tr>\n",
       "      <th>0</th>\n",
       "      <td>97522e57-d9ab-4bd6-97bf-c24d952602d2</td>\n",
       "      <td>8d3cd87d-8a31-4935-9a4f-b319bfe05f31</td>\n",
       "      <td>photo</td>\n",
       "      <td>studying</td>\n",
       "      <td>https://socialbuzz.cdn.com/content/storage/975...</td>\n",
       "      <td>5d454588-283d-459d-915d-c48a2cb4c27f</td>\n",
       "      <td>disgust</td>\n",
       "      <td>2020-11-07 09:43:50</td>\n",
       "      <td>0</td>\n",
       "    </tr>\n",
       "    <tr>\n",
       "      <th>1</th>\n",
       "      <td>97522e57-d9ab-4bd6-97bf-c24d952602d2</td>\n",
       "      <td>8d3cd87d-8a31-4935-9a4f-b319bfe05f31</td>\n",
       "      <td>photo</td>\n",
       "      <td>studying</td>\n",
       "      <td>https://socialbuzz.cdn.com/content/storage/975...</td>\n",
       "      <td>92b87fa5-f271-43e0-af66-84fac21052e6</td>\n",
       "      <td>dislike</td>\n",
       "      <td>2021-06-17 12:22:51</td>\n",
       "      <td>10</td>\n",
       "    </tr>\n",
       "    <tr>\n",
       "      <th>2</th>\n",
       "      <td>97522e57-d9ab-4bd6-97bf-c24d952602d2</td>\n",
       "      <td>8d3cd87d-8a31-4935-9a4f-b319bfe05f31</td>\n",
       "      <td>photo</td>\n",
       "      <td>studying</td>\n",
       "      <td>https://socialbuzz.cdn.com/content/storage/975...</td>\n",
       "      <td>163daa38-8b77-48c9-9af6-37a6c1447ac2</td>\n",
       "      <td>scared</td>\n",
       "      <td>2021-04-18 05:13:58</td>\n",
       "      <td>15</td>\n",
       "    </tr>\n",
       "    <tr>\n",
       "      <th>3</th>\n",
       "      <td>97522e57-d9ab-4bd6-97bf-c24d952602d2</td>\n",
       "      <td>8d3cd87d-8a31-4935-9a4f-b319bfe05f31</td>\n",
       "      <td>photo</td>\n",
       "      <td>studying</td>\n",
       "      <td>https://socialbuzz.cdn.com/content/storage/975...</td>\n",
       "      <td>34e8add9-0206-47fd-a501-037b994650a2</td>\n",
       "      <td>disgust</td>\n",
       "      <td>2021-01-06 19:13:01</td>\n",
       "      <td>0</td>\n",
       "    </tr>\n",
       "    <tr>\n",
       "      <th>4</th>\n",
       "      <td>97522e57-d9ab-4bd6-97bf-c24d952602d2</td>\n",
       "      <td>8d3cd87d-8a31-4935-9a4f-b319bfe05f31</td>\n",
       "      <td>photo</td>\n",
       "      <td>studying</td>\n",
       "      <td>https://socialbuzz.cdn.com/content/storage/975...</td>\n",
       "      <td>9b6d35f9-5e15-4cd0-a8d7-b1f3340e02c4</td>\n",
       "      <td>interested</td>\n",
       "      <td>2020-08-23 12:25:58</td>\n",
       "      <td>30</td>\n",
       "    </tr>\n",
       "    <tr>\n",
       "      <th>...</th>\n",
       "      <td>...</td>\n",
       "      <td>...</td>\n",
       "      <td>...</td>\n",
       "      <td>...</td>\n",
       "      <td>...</td>\n",
       "      <td>...</td>\n",
       "      <td>...</td>\n",
       "      <td>...</td>\n",
       "      <td>...</td>\n",
       "    </tr>\n",
       "    <tr>\n",
       "      <th>18035</th>\n",
       "      <td>26c02731-b5d8-4ad3-99a2-5e589e107937</td>\n",
       "      <td>1d8dfb6a-330c-4eb9-a603-364f207c6e57</td>\n",
       "      <td>video</td>\n",
       "      <td>studying</td>\n",
       "      <td>https://socialbuzz.cdn.com/content/storage/26c...</td>\n",
       "      <td>3d13e0d3-e765-4065-9221-3f864689b9e0</td>\n",
       "      <td>super love</td>\n",
       "      <td>2021-05-10 21:55:56</td>\n",
       "      <td>75</td>\n",
       "    </tr>\n",
       "    <tr>\n",
       "      <th>18036</th>\n",
       "      <td>26c02731-b5d8-4ad3-99a2-5e589e107937</td>\n",
       "      <td>1d8dfb6a-330c-4eb9-a603-364f207c6e57</td>\n",
       "      <td>video</td>\n",
       "      <td>studying</td>\n",
       "      <td>https://socialbuzz.cdn.com/content/storage/26c...</td>\n",
       "      <td>cb97b0ea-fc93-4597-b391-846710c6fedc</td>\n",
       "      <td>cherish</td>\n",
       "      <td>2021-04-25 18:57:59</td>\n",
       "      <td>70</td>\n",
       "    </tr>\n",
       "    <tr>\n",
       "      <th>18037</th>\n",
       "      <td>26c02731-b5d8-4ad3-99a2-5e589e107937</td>\n",
       "      <td>1d8dfb6a-330c-4eb9-a603-364f207c6e57</td>\n",
       "      <td>video</td>\n",
       "      <td>studying</td>\n",
       "      <td>https://socialbuzz.cdn.com/content/storage/26c...</td>\n",
       "      <td>d3aa94aa-3e81-49e4-915a-d269e4f42f29</td>\n",
       "      <td>cherish</td>\n",
       "      <td>2020-12-05 17:38:16</td>\n",
       "      <td>70</td>\n",
       "    </tr>\n",
       "    <tr>\n",
       "      <th>18038</th>\n",
       "      <td>26c02731-b5d8-4ad3-99a2-5e589e107937</td>\n",
       "      <td>1d8dfb6a-330c-4eb9-a603-364f207c6e57</td>\n",
       "      <td>video</td>\n",
       "      <td>studying</td>\n",
       "      <td>https://socialbuzz.cdn.com/content/storage/26c...</td>\n",
       "      <td>a8d09ab9-44c6-493c-afdf-93888822a4b0</td>\n",
       "      <td>love</td>\n",
       "      <td>2020-07-19 11:39:33</td>\n",
       "      <td>65</td>\n",
       "    </tr>\n",
       "    <tr>\n",
       "      <th>18095</th>\n",
       "      <td>a7849ef3-5930-4ba9-9cbe-e215811e713e</td>\n",
       "      <td>d9aab962-e964-4afd-83ee-abda0865da67</td>\n",
       "      <td>photo</td>\n",
       "      <td>studying</td>\n",
       "      <td>https://socialbuzz.cdn.com/content/storage/a78...</td>\n",
       "      <td>3af8d78b-55c4-4ac0-8161-7cc3f6ec11c9</td>\n",
       "      <td>heart</td>\n",
       "      <td>2020-09-26 22:01:17</td>\n",
       "      <td>60</td>\n",
       "    </tr>\n",
       "  </tbody>\n",
       "</table>\n",
       "<p>911 rows × 9 columns</p>\n",
       "</div>"
      ],
      "text/plain": [
       "                                  ContentID  \\\n",
       "0      97522e57-d9ab-4bd6-97bf-c24d952602d2   \n",
       "1      97522e57-d9ab-4bd6-97bf-c24d952602d2   \n",
       "2      97522e57-d9ab-4bd6-97bf-c24d952602d2   \n",
       "3      97522e57-d9ab-4bd6-97bf-c24d952602d2   \n",
       "4      97522e57-d9ab-4bd6-97bf-c24d952602d2   \n",
       "...                                     ...   \n",
       "18035  26c02731-b5d8-4ad3-99a2-5e589e107937   \n",
       "18036  26c02731-b5d8-4ad3-99a2-5e589e107937   \n",
       "18037  26c02731-b5d8-4ad3-99a2-5e589e107937   \n",
       "18038  26c02731-b5d8-4ad3-99a2-5e589e107937   \n",
       "18095  a7849ef3-5930-4ba9-9cbe-e215811e713e   \n",
       "\n",
       "                                   UserID_x ContentType  Category  \\\n",
       "0      8d3cd87d-8a31-4935-9a4f-b319bfe05f31       photo  studying   \n",
       "1      8d3cd87d-8a31-4935-9a4f-b319bfe05f31       photo  studying   \n",
       "2      8d3cd87d-8a31-4935-9a4f-b319bfe05f31       photo  studying   \n",
       "3      8d3cd87d-8a31-4935-9a4f-b319bfe05f31       photo  studying   \n",
       "4      8d3cd87d-8a31-4935-9a4f-b319bfe05f31       photo  studying   \n",
       "...                                     ...         ...       ...   \n",
       "18035  1d8dfb6a-330c-4eb9-a603-364f207c6e57       video  studying   \n",
       "18036  1d8dfb6a-330c-4eb9-a603-364f207c6e57       video  studying   \n",
       "18037  1d8dfb6a-330c-4eb9-a603-364f207c6e57       video  studying   \n",
       "18038  1d8dfb6a-330c-4eb9-a603-364f207c6e57       video  studying   \n",
       "18095  d9aab962-e964-4afd-83ee-abda0865da67       photo  studying   \n",
       "\n",
       "                                                     URL  \\\n",
       "0      https://socialbuzz.cdn.com/content/storage/975...   \n",
       "1      https://socialbuzz.cdn.com/content/storage/975...   \n",
       "2      https://socialbuzz.cdn.com/content/storage/975...   \n",
       "3      https://socialbuzz.cdn.com/content/storage/975...   \n",
       "4      https://socialbuzz.cdn.com/content/storage/975...   \n",
       "...                                                  ...   \n",
       "18035  https://socialbuzz.cdn.com/content/storage/26c...   \n",
       "18036  https://socialbuzz.cdn.com/content/storage/26c...   \n",
       "18037  https://socialbuzz.cdn.com/content/storage/26c...   \n",
       "18038  https://socialbuzz.cdn.com/content/storage/26c...   \n",
       "18095  https://socialbuzz.cdn.com/content/storage/a78...   \n",
       "\n",
       "                                   UserID_y        Type            Datetime  \\\n",
       "0      5d454588-283d-459d-915d-c48a2cb4c27f     disgust 2020-11-07 09:43:50   \n",
       "1      92b87fa5-f271-43e0-af66-84fac21052e6     dislike 2021-06-17 12:22:51   \n",
       "2      163daa38-8b77-48c9-9af6-37a6c1447ac2      scared 2021-04-18 05:13:58   \n",
       "3      34e8add9-0206-47fd-a501-037b994650a2     disgust 2021-01-06 19:13:01   \n",
       "4      9b6d35f9-5e15-4cd0-a8d7-b1f3340e02c4  interested 2020-08-23 12:25:58   \n",
       "...                                     ...         ...                 ...   \n",
       "18035  3d13e0d3-e765-4065-9221-3f864689b9e0  super love 2021-05-10 21:55:56   \n",
       "18036  cb97b0ea-fc93-4597-b391-846710c6fedc     cherish 2021-04-25 18:57:59   \n",
       "18037  d3aa94aa-3e81-49e4-915a-d269e4f42f29     cherish 2020-12-05 17:38:16   \n",
       "18038  a8d09ab9-44c6-493c-afdf-93888822a4b0        love 2020-07-19 11:39:33   \n",
       "18095  3af8d78b-55c4-4ac0-8161-7cc3f6ec11c9       heart 2020-09-26 22:01:17   \n",
       "\n",
       "       Score  \n",
       "0          0  \n",
       "1         10  \n",
       "2         15  \n",
       "3          0  \n",
       "4         30  \n",
       "...      ...  \n",
       "18035     75  \n",
       "18036     70  \n",
       "18037     70  \n",
       "18038     65  \n",
       "18095     60  \n",
       "\n",
       "[911 rows x 9 columns]"
      ]
     },
     "execution_count": 66,
     "metadata": {},
     "output_type": "execute_result"
    }
   ],
   "source": [
    "df_master[df_master.Category == 'studying']"
   ]
  },
  {
   "cell_type": "code",
   "execution_count": 67,
   "id": "90840cb2",
   "metadata": {},
   "outputs": [
    {
     "data": {
      "text/plain": [
       "Category\n",
       "animals            52443\n",
       "cooking            49681\n",
       "culture            47710\n",
       "dogs               41816\n",
       "education          45103\n",
       "fitness            41829\n",
       "food               47576\n",
       "healthy eating     52745\n",
       "public speaking    37730\n",
       "science            53657\n",
       "soccer             42031\n",
       "studying           35861\n",
       "technology         46683\n",
       "tennis             43612\n",
       "travel             53935\n",
       "veganism           38513\n",
       "Name: Score, dtype: int64"
      ]
     },
     "execution_count": 67,
     "metadata": {},
     "output_type": "execute_result"
    }
   ],
   "source": [
    "df_master.groupby('Category').Score.sum()"
   ]
  },
  {
   "cell_type": "markdown",
   "id": "624cf593",
   "metadata": {},
   "source": [
    "#### Distribution of Type"
   ]
  },
  {
   "cell_type": "markdown",
   "id": "dbb3c8eb",
   "metadata": {},
   "source": [
    "Next, I will explore the distribution of `Type` variable"
   ]
  },
  {
   "cell_type": "code",
   "execution_count": 50,
   "id": "43fdf712",
   "metadata": {
    "scrolled": true
   },
   "outputs": [
    {
     "data": {
      "text/plain": [
       "heart          1225\n",
       "scared         1174\n",
       "interested     1169\n",
       "indifferent    1167\n",
       "super love     1167\n",
       "love           1165\n",
       "peeking        1157\n",
       "want           1154\n",
       "hate           1153\n",
       "adore          1148\n",
       "disgust        1142\n",
       "like           1132\n",
       "cherish        1119\n",
       "worried        1112\n",
       "dislike        1109\n",
       "intrigued      1091\n",
       "Name: Type, dtype: int64"
      ]
     },
     "execution_count": 50,
     "metadata": {},
     "output_type": "execute_result"
    }
   ],
   "source": [
    "#see the overview of values in Type\n",
    "df_master.Type.value_counts()"
   ]
  },
  {
   "cell_type": "code",
   "execution_count": 51,
   "id": "06d59dd8",
   "metadata": {
    "scrolled": true
   },
   "outputs": [
    {
     "data": {
      "image/png": "[encoded data removed]",
      "text/plain": [
       "<Figure size 640x480 with 1 Axes>"
      ]
     },
     "metadata": {},
     "output_type": "display_data"
    }
   ],
   "source": [
    "#get the Type categories frequency and their indices\n",
    "base_color = sb.color_palette()[3]\n",
    "freq = df_master.Type.value_counts()\n",
    "type_category_order = freq.index\n",
    "#plot the bar chart of Type categories in decreasing order of frequency\n",
    "sb.countplot(data=df_master, x='Type', color=base_color, order=type_category_order);\n",
    "plt.xticks(rotation = 90);\n",
    "plt.xlabel('Distribution of Types');"
   ]
  },
  {
   "cell_type": "markdown",
   "id": "927b5d10",
   "metadata": {},
   "source": [
    "The plot above reveals that we have little difference in the frequency of each type as evidenced by the close height of the bars. Interestingly, `heart` type is the most used and `intrigued` type is the least used."
   ]
  },
  {
   "cell_type": "markdown",
   "id": "97586cb5",
   "metadata": {},
   "source": [
    "#### Distribution of Score"
   ]
  },
  {
   "cell_type": "markdown",
   "id": "2067fd67",
   "metadata": {},
   "source": [
    "I will now explore the distribution of the `Score` variable"
   ]
  },
  {
   "cell_type": "code",
   "execution_count": 52,
   "id": "d6e5ce2f",
   "metadata": {},
   "outputs": [
    {
     "data": {
      "text/plain": [
       "count    18384.000000\n",
       "mean        39.758758\n",
       "std         26.039051\n",
       "min          0.000000\n",
       "25%         15.000000\n",
       "50%         45.000000\n",
       "75%         65.000000\n",
       "max         75.000000\n",
       "Name: Score, dtype: float64"
      ]
     },
     "execution_count": 52,
     "metadata": {},
     "output_type": "execute_result"
    }
   ],
   "source": [
    "#display basic statistics of the variable\n",
    "df_master.Score.describe()"
   ]
  },
  {
   "cell_type": "code",
   "execution_count": 53,
   "id": "5d90dda5",
   "metadata": {
    "scrolled": true
   },
   "outputs": [
    {
     "data": {
      "image/png": "[encoded data removed]",
      "text/plain": [
       "<Figure size 640x480 with 1 Axes>"
      ]
     },
     "metadata": {},
     "output_type": "display_data"
    }
   ],
   "source": [
    "#plot the histogram distribution of Score\n",
    "bins = np.arange(0, df_master.Score.max()+5, 5)\n",
    "plt.hist(data = df_master, x = 'Score', bins = bins);\n",
    "plt.xlabel('Distribution of Score');"
   ]
  },
  {
   "cell_type": "markdown",
   "id": "6718701d",
   "metadata": {},
   "source": [
    "Since the Score variable is not continuous, there are gaps in the distribution of the dataset. The distribution has two peaks (bimodal)"
   ]
  },
  {
   "cell_type": "markdown",
   "id": "0e0a0b2e",
   "metadata": {},
   "source": [
    "### Distribution of the variable of interest\n",
    "Since the `Category` variable is a qualitative one, the bar chart shows that `travel` category is the most posted content category, followed by `science`. The least posted content category is `Studying`."
   ]
  },
  {
   "cell_type": "markdown",
   "id": "9cf08c40",
   "metadata": {},
   "source": [
    "### Distribution of the supporting variables\n"
   ]
  },
  {
   "cell_type": "markdown",
   "id": "1de0c40e",
   "metadata": {},
   "source": [
    "The bar chart plot for the `Type` variable reveals that we have little difference in the frequency of each type as evidenced by the close height of the bars. Interestingly, heart type is the most used and intrigued type is the least used.\n",
    "\n",
    "Since the `Score` variable is not continuous, there are gaps in the distribution of the dataset as shown on the histogram. The distribution has two peaks (bimodal)"
   ]
  },
  {
   "cell_type": "markdown",
   "id": "a3aa6dbb",
   "metadata": {},
   "source": [
    "## Bivariate Exploration\n",
    "To continue my research, I will now look at the relationships between my variable of interest (`Category`) and other supporting variables (`Type` and `Score`)"
   ]
  },
  {
   "cell_type": "markdown",
   "id": "7cae8032",
   "metadata": {},
   "source": [
    "#### `Category` Vs. `Type`\n",
    "I will now investigate the relationship between the `Category` variable and the `Type` variable"
   ]
  },
  {
   "cell_type": "code",
   "execution_count": 70,
   "id": "7f3b7eae",
   "metadata": {},
   "outputs": [
    {
     "data": {
      "text/html": [
       "<div>\n",
       "<style scoped>\n",
       "    .dataframe tbody tr th:only-of-type {\n",
       "        vertical-align: middle;\n",
       "    }\n",
       "\n",
       "    .dataframe tbody tr th {\n",
       "        vertical-align: top;\n",
       "    }\n",
       "\n",
       "    .dataframe thead th {\n",
       "        text-align: right;\n",
       "    }\n",
       "</style>\n",
       "<table border=\"1\" class=\"dataframe\">\n",
       "  <thead>\n",
       "    <tr style=\"text-align: right;\">\n",
       "      <th></th>\n",
       "      <th>Category</th>\n",
       "      <th>Type</th>\n",
       "      <th>count</th>\n",
       "    </tr>\n",
       "  </thead>\n",
       "  <tbody>\n",
       "    <tr>\n",
       "      <th>0</th>\n",
       "      <td>animals</td>\n",
       "      <td>adore</td>\n",
       "      <td>78</td>\n",
       "    </tr>\n",
       "    <tr>\n",
       "      <th>1</th>\n",
       "      <td>animals</td>\n",
       "      <td>cherish</td>\n",
       "      <td>84</td>\n",
       "    </tr>\n",
       "    <tr>\n",
       "      <th>2</th>\n",
       "      <td>animals</td>\n",
       "      <td>disgust</td>\n",
       "      <td>80</td>\n",
       "    </tr>\n",
       "    <tr>\n",
       "      <th>3</th>\n",
       "      <td>animals</td>\n",
       "      <td>dislike</td>\n",
       "      <td>72</td>\n",
       "    </tr>\n",
       "    <tr>\n",
       "      <th>4</th>\n",
       "      <td>animals</td>\n",
       "      <td>hate</td>\n",
       "      <td>91</td>\n",
       "    </tr>\n",
       "    <tr>\n",
       "      <th>...</th>\n",
       "      <td>...</td>\n",
       "      <td>...</td>\n",
       "      <td>...</td>\n",
       "    </tr>\n",
       "    <tr>\n",
       "      <th>251</th>\n",
       "      <td>veganism</td>\n",
       "      <td>peeking</td>\n",
       "      <td>69</td>\n",
       "    </tr>\n",
       "    <tr>\n",
       "      <th>252</th>\n",
       "      <td>veganism</td>\n",
       "      <td>scared</td>\n",
       "      <td>66</td>\n",
       "    </tr>\n",
       "    <tr>\n",
       "      <th>253</th>\n",
       "      <td>veganism</td>\n",
       "      <td>super love</td>\n",
       "      <td>60</td>\n",
       "    </tr>\n",
       "    <tr>\n",
       "      <th>254</th>\n",
       "      <td>veganism</td>\n",
       "      <td>want</td>\n",
       "      <td>59</td>\n",
       "    </tr>\n",
       "    <tr>\n",
       "      <th>255</th>\n",
       "      <td>veganism</td>\n",
       "      <td>worried</td>\n",
       "      <td>58</td>\n",
       "    </tr>\n",
       "  </tbody>\n",
       "</table>\n",
       "<p>256 rows × 3 columns</p>\n",
       "</div>"
      ],
      "text/plain": [
       "     Category        Type  count\n",
       "0     animals       adore     78\n",
       "1     animals     cherish     84\n",
       "2     animals     disgust     80\n",
       "3     animals     dislike     72\n",
       "4     animals        hate     91\n",
       "..        ...         ...    ...\n",
       "251  veganism     peeking     69\n",
       "252  veganism      scared     66\n",
       "253  veganism  super love     60\n",
       "254  veganism        want     59\n",
       "255  veganism     worried     58\n",
       "\n",
       "[256 rows x 3 columns]"
      ]
     },
     "execution_count": 70,
     "metadata": {},
     "output_type": "execute_result"
    }
   ],
   "source": [
    "# Use group_by() and size() to classify the dataset based on Category and Type to obtain pandas Series\n",
    "ct_counts = df_master.groupby(['Category', 'Type']).size()\n",
    "# Use Series.reset_index() to convert a series into a dataframe object\n",
    "ct_counts = ct_counts.reset_index(name='count')\n",
    "ct_counts"
   ]
  },
  {
   "cell_type": "code",
   "execution_count": 71,
   "id": "dd36cb96",
   "metadata": {},
   "outputs": [
    {
     "data": {
      "text/html": [
       "<div>\n",
       "<style scoped>\n",
       "    .dataframe tbody tr th:only-of-type {\n",
       "        vertical-align: middle;\n",
       "    }\n",
       "\n",
       "    .dataframe tbody tr th {\n",
       "        vertical-align: top;\n",
       "    }\n",
       "\n",
       "    .dataframe thead th {\n",
       "        text-align: right;\n",
       "    }\n",
       "</style>\n",
       "<table border=\"1\" class=\"dataframe\">\n",
       "  <thead>\n",
       "    <tr style=\"text-align: right;\">\n",
       "      <th>Type</th>\n",
       "      <th>adore</th>\n",
       "      <th>cherish</th>\n",
       "      <th>disgust</th>\n",
       "      <th>dislike</th>\n",
       "      <th>hate</th>\n",
       "      <th>heart</th>\n",
       "      <th>indifferent</th>\n",
       "      <th>interested</th>\n",
       "      <th>intrigued</th>\n",
       "      <th>like</th>\n",
       "      <th>love</th>\n",
       "      <th>peeking</th>\n",
       "      <th>scared</th>\n",
       "      <th>super love</th>\n",
       "      <th>want</th>\n",
       "      <th>worried</th>\n",
       "    </tr>\n",
       "    <tr>\n",
       "      <th>Category</th>\n",
       "      <th></th>\n",
       "      <th></th>\n",
       "      <th></th>\n",
       "      <th></th>\n",
       "      <th></th>\n",
       "      <th></th>\n",
       "      <th></th>\n",
       "      <th></th>\n",
       "      <th></th>\n",
       "      <th></th>\n",
       "      <th></th>\n",
       "      <th></th>\n",
       "      <th></th>\n",
       "      <th></th>\n",
       "      <th></th>\n",
       "      <th></th>\n",
       "    </tr>\n",
       "  </thead>\n",
       "  <tbody>\n",
       "    <tr>\n",
       "      <th>animals</th>\n",
       "      <td>78</td>\n",
       "      <td>84</td>\n",
       "      <td>80</td>\n",
       "      <td>72</td>\n",
       "      <td>91</td>\n",
       "      <td>84</td>\n",
       "      <td>75</td>\n",
       "      <td>77</td>\n",
       "      <td>83</td>\n",
       "      <td>69</td>\n",
       "      <td>84</td>\n",
       "      <td>92</td>\n",
       "      <td>94</td>\n",
       "      <td>87</td>\n",
       "      <td>87</td>\n",
       "      <td>86</td>\n",
       "    </tr>\n",
       "    <tr>\n",
       "      <th>cooking</th>\n",
       "      <td>79</td>\n",
       "      <td>67</td>\n",
       "      <td>88</td>\n",
       "      <td>77</td>\n",
       "      <td>82</td>\n",
       "      <td>89</td>\n",
       "      <td>67</td>\n",
       "      <td>103</td>\n",
       "      <td>56</td>\n",
       "      <td>82</td>\n",
       "      <td>75</td>\n",
       "      <td>85</td>\n",
       "      <td>94</td>\n",
       "      <td>91</td>\n",
       "      <td>68</td>\n",
       "      <td>74</td>\n",
       "    </tr>\n",
       "    <tr>\n",
       "      <th>culture</th>\n",
       "      <td>66</td>\n",
       "      <td>80</td>\n",
       "      <td>74</td>\n",
       "      <td>74</td>\n",
       "      <td>79</td>\n",
       "      <td>67</td>\n",
       "      <td>86</td>\n",
       "      <td>73</td>\n",
       "      <td>67</td>\n",
       "      <td>75</td>\n",
       "      <td>81</td>\n",
       "      <td>76</td>\n",
       "      <td>77</td>\n",
       "      <td>76</td>\n",
       "      <td>82</td>\n",
       "      <td>84</td>\n",
       "    </tr>\n",
       "    <tr>\n",
       "      <th>dogs</th>\n",
       "      <td>65</td>\n",
       "      <td>55</td>\n",
       "      <td>67</td>\n",
       "      <td>59</td>\n",
       "      <td>70</td>\n",
       "      <td>83</td>\n",
       "      <td>71</td>\n",
       "      <td>70</td>\n",
       "      <td>54</td>\n",
       "      <td>74</td>\n",
       "      <td>59</td>\n",
       "      <td>69</td>\n",
       "      <td>72</td>\n",
       "      <td>70</td>\n",
       "      <td>66</td>\n",
       "      <td>43</td>\n",
       "    </tr>\n",
       "    <tr>\n",
       "      <th>education</th>\n",
       "      <td>66</td>\n",
       "      <td>68</td>\n",
       "      <td>55</td>\n",
       "      <td>68</td>\n",
       "      <td>76</td>\n",
       "      <td>72</td>\n",
       "      <td>75</td>\n",
       "      <td>72</td>\n",
       "      <td>76</td>\n",
       "      <td>73</td>\n",
       "      <td>79</td>\n",
       "      <td>73</td>\n",
       "      <td>64</td>\n",
       "      <td>73</td>\n",
       "      <td>64</td>\n",
       "      <td>73</td>\n",
       "    </tr>\n",
       "    <tr>\n",
       "      <th>fitness</th>\n",
       "      <td>68</td>\n",
       "      <td>63</td>\n",
       "      <td>74</td>\n",
       "      <td>76</td>\n",
       "      <td>58</td>\n",
       "      <td>66</td>\n",
       "      <td>64</td>\n",
       "      <td>55</td>\n",
       "      <td>58</td>\n",
       "      <td>87</td>\n",
       "      <td>68</td>\n",
       "      <td>57</td>\n",
       "      <td>72</td>\n",
       "      <td>76</td>\n",
       "      <td>54</td>\n",
       "      <td>54</td>\n",
       "    </tr>\n",
       "    <tr>\n",
       "      <th>food</th>\n",
       "      <td>63</td>\n",
       "      <td>86</td>\n",
       "      <td>74</td>\n",
       "      <td>68</td>\n",
       "      <td>83</td>\n",
       "      <td>79</td>\n",
       "      <td>67</td>\n",
       "      <td>72</td>\n",
       "      <td>70</td>\n",
       "      <td>63</td>\n",
       "      <td>89</td>\n",
       "      <td>77</td>\n",
       "      <td>75</td>\n",
       "      <td>72</td>\n",
       "      <td>80</td>\n",
       "      <td>65</td>\n",
       "    </tr>\n",
       "    <tr>\n",
       "      <th>healthy eating</th>\n",
       "      <td>87</td>\n",
       "      <td>87</td>\n",
       "      <td>74</td>\n",
       "      <td>78</td>\n",
       "      <td>88</td>\n",
       "      <td>87</td>\n",
       "      <td>83</td>\n",
       "      <td>79</td>\n",
       "      <td>83</td>\n",
       "      <td>85</td>\n",
       "      <td>76</td>\n",
       "      <td>80</td>\n",
       "      <td>80</td>\n",
       "      <td>84</td>\n",
       "      <td>84</td>\n",
       "      <td>68</td>\n",
       "    </tr>\n",
       "    <tr>\n",
       "      <th>public speaking</th>\n",
       "      <td>68</td>\n",
       "      <td>47</td>\n",
       "      <td>51</td>\n",
       "      <td>57</td>\n",
       "      <td>46</td>\n",
       "      <td>58</td>\n",
       "      <td>54</td>\n",
       "      <td>55</td>\n",
       "      <td>66</td>\n",
       "      <td>54</td>\n",
       "      <td>67</td>\n",
       "      <td>47</td>\n",
       "      <td>55</td>\n",
       "      <td>65</td>\n",
       "      <td>64</td>\n",
       "      <td>57</td>\n",
       "    </tr>\n",
       "    <tr>\n",
       "      <th>science</th>\n",
       "      <td>91</td>\n",
       "      <td>77</td>\n",
       "      <td>85</td>\n",
       "      <td>81</td>\n",
       "      <td>72</td>\n",
       "      <td>81</td>\n",
       "      <td>100</td>\n",
       "      <td>94</td>\n",
       "      <td>89</td>\n",
       "      <td>87</td>\n",
       "      <td>88</td>\n",
       "      <td>82</td>\n",
       "      <td>76</td>\n",
       "      <td>70</td>\n",
       "      <td>93</td>\n",
       "      <td>85</td>\n",
       "    </tr>\n",
       "    <tr>\n",
       "      <th>soccer</th>\n",
       "      <td>71</td>\n",
       "      <td>58</td>\n",
       "      <td>66</td>\n",
       "      <td>62</td>\n",
       "      <td>61</td>\n",
       "      <td>68</td>\n",
       "      <td>91</td>\n",
       "      <td>67</td>\n",
       "      <td>67</td>\n",
       "      <td>63</td>\n",
       "      <td>58</td>\n",
       "      <td>61</td>\n",
       "      <td>64</td>\n",
       "      <td>64</td>\n",
       "      <td>77</td>\n",
       "      <td>67</td>\n",
       "    </tr>\n",
       "    <tr>\n",
       "      <th>studying</th>\n",
       "      <td>60</td>\n",
       "      <td>60</td>\n",
       "      <td>50</td>\n",
       "      <td>43</td>\n",
       "      <td>59</td>\n",
       "      <td>69</td>\n",
       "      <td>53</td>\n",
       "      <td>71</td>\n",
       "      <td>55</td>\n",
       "      <td>45</td>\n",
       "      <td>55</td>\n",
       "      <td>66</td>\n",
       "      <td>67</td>\n",
       "      <td>53</td>\n",
       "      <td>42</td>\n",
       "      <td>63</td>\n",
       "    </tr>\n",
       "    <tr>\n",
       "      <th>technology</th>\n",
       "      <td>81</td>\n",
       "      <td>67</td>\n",
       "      <td>75</td>\n",
       "      <td>63</td>\n",
       "      <td>71</td>\n",
       "      <td>79</td>\n",
       "      <td>68</td>\n",
       "      <td>83</td>\n",
       "      <td>58</td>\n",
       "      <td>57</td>\n",
       "      <td>79</td>\n",
       "      <td>74</td>\n",
       "      <td>62</td>\n",
       "      <td>79</td>\n",
       "      <td>81</td>\n",
       "      <td>73</td>\n",
       "    </tr>\n",
       "    <tr>\n",
       "      <th>tennis</th>\n",
       "      <td>59</td>\n",
       "      <td>73</td>\n",
       "      <td>85</td>\n",
       "      <td>84</td>\n",
       "      <td>77</td>\n",
       "      <td>80</td>\n",
       "      <td>75</td>\n",
       "      <td>74</td>\n",
       "      <td>71</td>\n",
       "      <td>67</td>\n",
       "      <td>69</td>\n",
       "      <td>62</td>\n",
       "      <td>72</td>\n",
       "      <td>69</td>\n",
       "      <td>59</td>\n",
       "      <td>77</td>\n",
       "    </tr>\n",
       "    <tr>\n",
       "      <th>travel</th>\n",
       "      <td>85</td>\n",
       "      <td>85</td>\n",
       "      <td>97</td>\n",
       "      <td>96</td>\n",
       "      <td>77</td>\n",
       "      <td>86</td>\n",
       "      <td>78</td>\n",
       "      <td>77</td>\n",
       "      <td>86</td>\n",
       "      <td>92</td>\n",
       "      <td>81</td>\n",
       "      <td>87</td>\n",
       "      <td>84</td>\n",
       "      <td>78</td>\n",
       "      <td>94</td>\n",
       "      <td>85</td>\n",
       "    </tr>\n",
       "    <tr>\n",
       "      <th>veganism</th>\n",
       "      <td>61</td>\n",
       "      <td>62</td>\n",
       "      <td>47</td>\n",
       "      <td>51</td>\n",
       "      <td>63</td>\n",
       "      <td>77</td>\n",
       "      <td>60</td>\n",
       "      <td>47</td>\n",
       "      <td>52</td>\n",
       "      <td>59</td>\n",
       "      <td>57</td>\n",
       "      <td>69</td>\n",
       "      <td>66</td>\n",
       "      <td>60</td>\n",
       "      <td>59</td>\n",
       "      <td>58</td>\n",
       "    </tr>\n",
       "  </tbody>\n",
       "</table>\n",
       "</div>"
      ],
      "text/plain": [
       "Type             adore  cherish  disgust  dislike  hate  heart  indifferent  \\\n",
       "Category                                                                      \n",
       "animals             78       84       80       72    91     84           75   \n",
       "cooking             79       67       88       77    82     89           67   \n",
       "culture             66       80       74       74    79     67           86   \n",
       "dogs                65       55       67       59    70     83           71   \n",
       "education           66       68       55       68    76     72           75   \n",
       "fitness             68       63       74       76    58     66           64   \n",
       "food                63       86       74       68    83     79           67   \n",
       "healthy eating      87       87       74       78    88     87           83   \n",
       "public speaking     68       47       51       57    46     58           54   \n",
       "science             91       77       85       81    72     81          100   \n",
       "soccer              71       58       66       62    61     68           91   \n",
       "studying            60       60       50       43    59     69           53   \n",
       "technology          81       67       75       63    71     79           68   \n",
       "tennis              59       73       85       84    77     80           75   \n",
       "travel              85       85       97       96    77     86           78   \n",
       "veganism            61       62       47       51    63     77           60   \n",
       "\n",
       "Type             interested  intrigued  like  love  peeking  scared  \\\n",
       "Category                                                              \n",
       "animals                  77         83    69    84       92      94   \n",
       "cooking                 103         56    82    75       85      94   \n",
       "culture                  73         67    75    81       76      77   \n",
       "dogs                     70         54    74    59       69      72   \n",
       "education                72         76    73    79       73      64   \n",
       "fitness                  55         58    87    68       57      72   \n",
       "food                     72         70    63    89       77      75   \n",
       "healthy eating           79         83    85    76       80      80   \n",
       "public speaking          55         66    54    67       47      55   \n",
       "science                  94         89    87    88       82      76   \n",
       "soccer                   67         67    63    58       61      64   \n",
       "studying                 71         55    45    55       66      67   \n",
       "technology               83         58    57    79       74      62   \n",
       "tennis                   74         71    67    69       62      72   \n",
       "travel                   77         86    92    81       87      84   \n",
       "veganism                 47         52    59    57       69      66   \n",
       "\n",
       "Type             super love  want  worried  \n",
       "Category                                    \n",
       "animals                  87    87       86  \n",
       "cooking                  91    68       74  \n",
       "culture                  76    82       84  \n",
       "dogs                     70    66       43  \n",
       "education                73    64       73  \n",
       "fitness                  76    54       54  \n",
       "food                     72    80       65  \n",
       "healthy eating           84    84       68  \n",
       "public speaking          65    64       57  \n",
       "science                  70    93       85  \n",
       "soccer                   64    77       67  \n",
       "studying                 53    42       63  \n",
       "technology               79    81       73  \n",
       "tennis                   69    59       77  \n",
       "travel                   78    94       85  \n",
       "veganism                 60    59       58  "
      ]
     },
     "execution_count": 71,
     "metadata": {},
     "output_type": "execute_result"
    }
   ],
   "source": [
    "# Use DataFrame.pivot() to rearrange the data, to have vehicle class on rows\n",
    "ct_counts = ct_counts.pivot(index = 'Category', columns = 'Type', values = 'count')\n",
    "ct_counts"
   ]
  },
  {
   "cell_type": "code",
   "execution_count": 72,
   "id": "54da57f2",
   "metadata": {},
   "outputs": [
    {
     "data": {
      "text/html": [
       "<div>\n",
       "<style scoped>\n",
       "    .dataframe tbody tr th:only-of-type {\n",
       "        vertical-align: middle;\n",
       "    }\n",
       "\n",
       "    .dataframe tbody tr th {\n",
       "        vertical-align: top;\n",
       "    }\n",
       "\n",
       "    .dataframe thead th {\n",
       "        text-align: right;\n",
       "    }\n",
       "</style>\n",
       "<table border=\"1\" class=\"dataframe\">\n",
       "  <thead>\n",
       "    <tr style=\"text-align: right;\">\n",
       "      <th>Type</th>\n",
       "      <th>adore</th>\n",
       "      <th>cherish</th>\n",
       "      <th>disgust</th>\n",
       "      <th>dislike</th>\n",
       "      <th>hate</th>\n",
       "      <th>heart</th>\n",
       "      <th>indifferent</th>\n",
       "      <th>interested</th>\n",
       "      <th>intrigued</th>\n",
       "      <th>like</th>\n",
       "      <th>love</th>\n",
       "      <th>peeking</th>\n",
       "      <th>scared</th>\n",
       "      <th>super love</th>\n",
       "      <th>want</th>\n",
       "      <th>worried</th>\n",
       "      <th>total</th>\n",
       "    </tr>\n",
       "    <tr>\n",
       "      <th>Category</th>\n",
       "      <th></th>\n",
       "      <th></th>\n",
       "      <th></th>\n",
       "      <th></th>\n",
       "      <th></th>\n",
       "      <th></th>\n",
       "      <th></th>\n",
       "      <th></th>\n",
       "      <th></th>\n",
       "      <th></th>\n",
       "      <th></th>\n",
       "      <th></th>\n",
       "      <th></th>\n",
       "      <th></th>\n",
       "      <th></th>\n",
       "      <th></th>\n",
       "      <th></th>\n",
       "    </tr>\n",
       "  </thead>\n",
       "  <tbody>\n",
       "    <tr>\n",
       "      <th>animals</th>\n",
       "      <td>78</td>\n",
       "      <td>84</td>\n",
       "      <td>80</td>\n",
       "      <td>72</td>\n",
       "      <td>91</td>\n",
       "      <td>84</td>\n",
       "      <td>75</td>\n",
       "      <td>77</td>\n",
       "      <td>83</td>\n",
       "      <td>69</td>\n",
       "      <td>84</td>\n",
       "      <td>92</td>\n",
       "      <td>94</td>\n",
       "      <td>87</td>\n",
       "      <td>87</td>\n",
       "      <td>86</td>\n",
       "      <td>1323</td>\n",
       "    </tr>\n",
       "    <tr>\n",
       "      <th>cooking</th>\n",
       "      <td>79</td>\n",
       "      <td>67</td>\n",
       "      <td>88</td>\n",
       "      <td>77</td>\n",
       "      <td>82</td>\n",
       "      <td>89</td>\n",
       "      <td>67</td>\n",
       "      <td>103</td>\n",
       "      <td>56</td>\n",
       "      <td>82</td>\n",
       "      <td>75</td>\n",
       "      <td>85</td>\n",
       "      <td>94</td>\n",
       "      <td>91</td>\n",
       "      <td>68</td>\n",
       "      <td>74</td>\n",
       "      <td>1277</td>\n",
       "    </tr>\n",
       "    <tr>\n",
       "      <th>culture</th>\n",
       "      <td>66</td>\n",
       "      <td>80</td>\n",
       "      <td>74</td>\n",
       "      <td>74</td>\n",
       "      <td>79</td>\n",
       "      <td>67</td>\n",
       "      <td>86</td>\n",
       "      <td>73</td>\n",
       "      <td>67</td>\n",
       "      <td>75</td>\n",
       "      <td>81</td>\n",
       "      <td>76</td>\n",
       "      <td>77</td>\n",
       "      <td>76</td>\n",
       "      <td>82</td>\n",
       "      <td>84</td>\n",
       "      <td>1217</td>\n",
       "    </tr>\n",
       "    <tr>\n",
       "      <th>dogs</th>\n",
       "      <td>65</td>\n",
       "      <td>55</td>\n",
       "      <td>67</td>\n",
       "      <td>59</td>\n",
       "      <td>70</td>\n",
       "      <td>83</td>\n",
       "      <td>71</td>\n",
       "      <td>70</td>\n",
       "      <td>54</td>\n",
       "      <td>74</td>\n",
       "      <td>59</td>\n",
       "      <td>69</td>\n",
       "      <td>72</td>\n",
       "      <td>70</td>\n",
       "      <td>66</td>\n",
       "      <td>43</td>\n",
       "      <td>1047</td>\n",
       "    </tr>\n",
       "    <tr>\n",
       "      <th>education</th>\n",
       "      <td>66</td>\n",
       "      <td>68</td>\n",
       "      <td>55</td>\n",
       "      <td>68</td>\n",
       "      <td>76</td>\n",
       "      <td>72</td>\n",
       "      <td>75</td>\n",
       "      <td>72</td>\n",
       "      <td>76</td>\n",
       "      <td>73</td>\n",
       "      <td>79</td>\n",
       "      <td>73</td>\n",
       "      <td>64</td>\n",
       "      <td>73</td>\n",
       "      <td>64</td>\n",
       "      <td>73</td>\n",
       "      <td>1127</td>\n",
       "    </tr>\n",
       "    <tr>\n",
       "      <th>fitness</th>\n",
       "      <td>68</td>\n",
       "      <td>63</td>\n",
       "      <td>74</td>\n",
       "      <td>76</td>\n",
       "      <td>58</td>\n",
       "      <td>66</td>\n",
       "      <td>64</td>\n",
       "      <td>55</td>\n",
       "      <td>58</td>\n",
       "      <td>87</td>\n",
       "      <td>68</td>\n",
       "      <td>57</td>\n",
       "      <td>72</td>\n",
       "      <td>76</td>\n",
       "      <td>54</td>\n",
       "      <td>54</td>\n",
       "      <td>1050</td>\n",
       "    </tr>\n",
       "    <tr>\n",
       "      <th>food</th>\n",
       "      <td>63</td>\n",
       "      <td>86</td>\n",
       "      <td>74</td>\n",
       "      <td>68</td>\n",
       "      <td>83</td>\n",
       "      <td>79</td>\n",
       "      <td>67</td>\n",
       "      <td>72</td>\n",
       "      <td>70</td>\n",
       "      <td>63</td>\n",
       "      <td>89</td>\n",
       "      <td>77</td>\n",
       "      <td>75</td>\n",
       "      <td>72</td>\n",
       "      <td>80</td>\n",
       "      <td>65</td>\n",
       "      <td>1183</td>\n",
       "    </tr>\n",
       "    <tr>\n",
       "      <th>healthy eating</th>\n",
       "      <td>87</td>\n",
       "      <td>87</td>\n",
       "      <td>74</td>\n",
       "      <td>78</td>\n",
       "      <td>88</td>\n",
       "      <td>87</td>\n",
       "      <td>83</td>\n",
       "      <td>79</td>\n",
       "      <td>83</td>\n",
       "      <td>85</td>\n",
       "      <td>76</td>\n",
       "      <td>80</td>\n",
       "      <td>80</td>\n",
       "      <td>84</td>\n",
       "      <td>84</td>\n",
       "      <td>68</td>\n",
       "      <td>1303</td>\n",
       "    </tr>\n",
       "    <tr>\n",
       "      <th>public speaking</th>\n",
       "      <td>68</td>\n",
       "      <td>47</td>\n",
       "      <td>51</td>\n",
       "      <td>57</td>\n",
       "      <td>46</td>\n",
       "      <td>58</td>\n",
       "      <td>54</td>\n",
       "      <td>55</td>\n",
       "      <td>66</td>\n",
       "      <td>54</td>\n",
       "      <td>67</td>\n",
       "      <td>47</td>\n",
       "      <td>55</td>\n",
       "      <td>65</td>\n",
       "      <td>64</td>\n",
       "      <td>57</td>\n",
       "      <td>911</td>\n",
       "    </tr>\n",
       "    <tr>\n",
       "      <th>science</th>\n",
       "      <td>91</td>\n",
       "      <td>77</td>\n",
       "      <td>85</td>\n",
       "      <td>81</td>\n",
       "      <td>72</td>\n",
       "      <td>81</td>\n",
       "      <td>100</td>\n",
       "      <td>94</td>\n",
       "      <td>89</td>\n",
       "      <td>87</td>\n",
       "      <td>88</td>\n",
       "      <td>82</td>\n",
       "      <td>76</td>\n",
       "      <td>70</td>\n",
       "      <td>93</td>\n",
       "      <td>85</td>\n",
       "      <td>1351</td>\n",
       "    </tr>\n",
       "    <tr>\n",
       "      <th>soccer</th>\n",
       "      <td>71</td>\n",
       "      <td>58</td>\n",
       "      <td>66</td>\n",
       "      <td>62</td>\n",
       "      <td>61</td>\n",
       "      <td>68</td>\n",
       "      <td>91</td>\n",
       "      <td>67</td>\n",
       "      <td>67</td>\n",
       "      <td>63</td>\n",
       "      <td>58</td>\n",
       "      <td>61</td>\n",
       "      <td>64</td>\n",
       "      <td>64</td>\n",
       "      <td>77</td>\n",
       "      <td>67</td>\n",
       "      <td>1065</td>\n",
       "    </tr>\n",
       "    <tr>\n",
       "      <th>studying</th>\n",
       "      <td>60</td>\n",
       "      <td>60</td>\n",
       "      <td>50</td>\n",
       "      <td>43</td>\n",
       "      <td>59</td>\n",
       "      <td>69</td>\n",
       "      <td>53</td>\n",
       "      <td>71</td>\n",
       "      <td>55</td>\n",
       "      <td>45</td>\n",
       "      <td>55</td>\n",
       "      <td>66</td>\n",
       "      <td>67</td>\n",
       "      <td>53</td>\n",
       "      <td>42</td>\n",
       "      <td>63</td>\n",
       "      <td>911</td>\n",
       "    </tr>\n",
       "    <tr>\n",
       "      <th>technology</th>\n",
       "      <td>81</td>\n",
       "      <td>67</td>\n",
       "      <td>75</td>\n",
       "      <td>63</td>\n",
       "      <td>71</td>\n",
       "      <td>79</td>\n",
       "      <td>68</td>\n",
       "      <td>83</td>\n",
       "      <td>58</td>\n",
       "      <td>57</td>\n",
       "      <td>79</td>\n",
       "      <td>74</td>\n",
       "      <td>62</td>\n",
       "      <td>79</td>\n",
       "      <td>81</td>\n",
       "      <td>73</td>\n",
       "      <td>1150</td>\n",
       "    </tr>\n",
       "    <tr>\n",
       "      <th>tennis</th>\n",
       "      <td>59</td>\n",
       "      <td>73</td>\n",
       "      <td>85</td>\n",
       "      <td>84</td>\n",
       "      <td>77</td>\n",
       "      <td>80</td>\n",
       "      <td>75</td>\n",
       "      <td>74</td>\n",
       "      <td>71</td>\n",
       "      <td>67</td>\n",
       "      <td>69</td>\n",
       "      <td>62</td>\n",
       "      <td>72</td>\n",
       "      <td>69</td>\n",
       "      <td>59</td>\n",
       "      <td>77</td>\n",
       "      <td>1153</td>\n",
       "    </tr>\n",
       "    <tr>\n",
       "      <th>travel</th>\n",
       "      <td>85</td>\n",
       "      <td>85</td>\n",
       "      <td>97</td>\n",
       "      <td>96</td>\n",
       "      <td>77</td>\n",
       "      <td>86</td>\n",
       "      <td>78</td>\n",
       "      <td>77</td>\n",
       "      <td>86</td>\n",
       "      <td>92</td>\n",
       "      <td>81</td>\n",
       "      <td>87</td>\n",
       "      <td>84</td>\n",
       "      <td>78</td>\n",
       "      <td>94</td>\n",
       "      <td>85</td>\n",
       "      <td>1368</td>\n",
       "    </tr>\n",
       "    <tr>\n",
       "      <th>veganism</th>\n",
       "      <td>61</td>\n",
       "      <td>62</td>\n",
       "      <td>47</td>\n",
       "      <td>51</td>\n",
       "      <td>63</td>\n",
       "      <td>77</td>\n",
       "      <td>60</td>\n",
       "      <td>47</td>\n",
       "      <td>52</td>\n",
       "      <td>59</td>\n",
       "      <td>57</td>\n",
       "      <td>69</td>\n",
       "      <td>66</td>\n",
       "      <td>60</td>\n",
       "      <td>59</td>\n",
       "      <td>58</td>\n",
       "      <td>948</td>\n",
       "    </tr>\n",
       "  </tbody>\n",
       "</table>\n",
       "</div>"
      ],
      "text/plain": [
       "Type             adore  cherish  disgust  dislike  hate  heart  indifferent  \\\n",
       "Category                                                                      \n",
       "animals             78       84       80       72    91     84           75   \n",
       "cooking             79       67       88       77    82     89           67   \n",
       "culture             66       80       74       74    79     67           86   \n",
       "dogs                65       55       67       59    70     83           71   \n",
       "education           66       68       55       68    76     72           75   \n",
       "fitness             68       63       74       76    58     66           64   \n",
       "food                63       86       74       68    83     79           67   \n",
       "healthy eating      87       87       74       78    88     87           83   \n",
       "public speaking     68       47       51       57    46     58           54   \n",
       "science             91       77       85       81    72     81          100   \n",
       "soccer              71       58       66       62    61     68           91   \n",
       "studying            60       60       50       43    59     69           53   \n",
       "technology          81       67       75       63    71     79           68   \n",
       "tennis              59       73       85       84    77     80           75   \n",
       "travel              85       85       97       96    77     86           78   \n",
       "veganism            61       62       47       51    63     77           60   \n",
       "\n",
       "Type             interested  intrigued  like  love  peeking  scared  \\\n",
       "Category                                                              \n",
       "animals                  77         83    69    84       92      94   \n",
       "cooking                 103         56    82    75       85      94   \n",
       "culture                  73         67    75    81       76      77   \n",
       "dogs                     70         54    74    59       69      72   \n",
       "education                72         76    73    79       73      64   \n",
       "fitness                  55         58    87    68       57      72   \n",
       "food                     72         70    63    89       77      75   \n",
       "healthy eating           79         83    85    76       80      80   \n",
       "public speaking          55         66    54    67       47      55   \n",
       "science                  94         89    87    88       82      76   \n",
       "soccer                   67         67    63    58       61      64   \n",
       "studying                 71         55    45    55       66      67   \n",
       "technology               83         58    57    79       74      62   \n",
       "tennis                   74         71    67    69       62      72   \n",
       "travel                   77         86    92    81       87      84   \n",
       "veganism                 47         52    59    57       69      66   \n",
       "\n",
       "Type             super love  want  worried  total  \n",
       "Category                                           \n",
       "animals                  87    87       86   1323  \n",
       "cooking                  91    68       74   1277  \n",
       "culture                  76    82       84   1217  \n",
       "dogs                     70    66       43   1047  \n",
       "education                73    64       73   1127  \n",
       "fitness                  76    54       54   1050  \n",
       "food                     72    80       65   1183  \n",
       "healthy eating           84    84       68   1303  \n",
       "public speaking          65    64       57    911  \n",
       "science                  70    93       85   1351  \n",
       "soccer                   64    77       67   1065  \n",
       "studying                 53    42       63    911  \n",
       "technology               79    81       73   1150  \n",
       "tennis                   69    59       77   1153  \n",
       "travel                   78    94       85   1368  \n",
       "veganism                 60    59       58    948  "
      ]
     },
     "execution_count": 72,
     "metadata": {},
     "output_type": "execute_result"
    }
   ],
   "source": [
    "#get sum of all the reaction types\n",
    "index = ct_counts.index\n",
    "cols = ct_counts.columns\n",
    "#sum up all the reaction frequency for each category\n",
    "def sumup(index,cols):\n",
    "    count = 0\n",
    "    row = []#store the total frequency for each Category\n",
    "    for ind in index:\n",
    "        for col in cols:\n",
    "            if not math.isnan(ct_counts.loc[ind,col]):\n",
    "                if type(int(ct_counts.loc[ind,col])) == int:#locate the value\n",
    "                    count += ct_counts.loc[ind,col]\n",
    "                    #print(count)\n",
    "        row.append(count)\n",
    "        count = 0\n",
    "    return row\n",
    "#create a new column for the total frequency of reactions for each category\n",
    "ct_counts['total'] = sumup(index,cols)\n",
    "ct_counts"
   ]
  },
  {
   "cell_type": "code",
   "execution_count": 73,
   "id": "8db87dae",
   "metadata": {},
   "outputs": [],
   "source": [
    "#create a new dataframe by extracting the total column\n",
    "ct_counts_2 = ct_counts[['total']].copy()"
   ]
  },
  {
   "cell_type": "code",
   "execution_count": 74,
   "id": "1ea3b57a",
   "metadata": {},
   "outputs": [
    {
     "data": {
      "text/html": [
       "<div>\n",
       "<style scoped>\n",
       "    .dataframe tbody tr th:only-of-type {\n",
       "        vertical-align: middle;\n",
       "    }\n",
       "\n",
       "    .dataframe tbody tr th {\n",
       "        vertical-align: top;\n",
       "    }\n",
       "\n",
       "    .dataframe thead th {\n",
       "        text-align: right;\n",
       "    }\n",
       "</style>\n",
       "<table border=\"1\" class=\"dataframe\">\n",
       "  <thead>\n",
       "    <tr style=\"text-align: right;\">\n",
       "      <th>Type</th>\n",
       "      <th>total</th>\n",
       "    </tr>\n",
       "    <tr>\n",
       "      <th>Category</th>\n",
       "      <th></th>\n",
       "    </tr>\n",
       "  </thead>\n",
       "  <tbody>\n",
       "    <tr>\n",
       "      <th>animals</th>\n",
       "      <td>1323</td>\n",
       "    </tr>\n",
       "    <tr>\n",
       "      <th>cooking</th>\n",
       "      <td>1277</td>\n",
       "    </tr>\n",
       "    <tr>\n",
       "      <th>culture</th>\n",
       "      <td>1217</td>\n",
       "    </tr>\n",
       "    <tr>\n",
       "      <th>dogs</th>\n",
       "      <td>1047</td>\n",
       "    </tr>\n",
       "    <tr>\n",
       "      <th>education</th>\n",
       "      <td>1127</td>\n",
       "    </tr>\n",
       "    <tr>\n",
       "      <th>fitness</th>\n",
       "      <td>1050</td>\n",
       "    </tr>\n",
       "    <tr>\n",
       "      <th>food</th>\n",
       "      <td>1183</td>\n",
       "    </tr>\n",
       "    <tr>\n",
       "      <th>healthy eating</th>\n",
       "      <td>1303</td>\n",
       "    </tr>\n",
       "    <tr>\n",
       "      <th>public speaking</th>\n",
       "      <td>911</td>\n",
       "    </tr>\n",
       "    <tr>\n",
       "      <th>science</th>\n",
       "      <td>1351</td>\n",
       "    </tr>\n",
       "    <tr>\n",
       "      <th>soccer</th>\n",
       "      <td>1065</td>\n",
       "    </tr>\n",
       "    <tr>\n",
       "      <th>studying</th>\n",
       "      <td>911</td>\n",
       "    </tr>\n",
       "    <tr>\n",
       "      <th>technology</th>\n",
       "      <td>1150</td>\n",
       "    </tr>\n",
       "    <tr>\n",
       "      <th>tennis</th>\n",
       "      <td>1153</td>\n",
       "    </tr>\n",
       "    <tr>\n",
       "      <th>travel</th>\n",
       "      <td>1368</td>\n",
       "    </tr>\n",
       "    <tr>\n",
       "      <th>veganism</th>\n",
       "      <td>948</td>\n",
       "    </tr>\n",
       "  </tbody>\n",
       "</table>\n",
       "</div>"
      ],
      "text/plain": [
       "Type             total\n",
       "Category              \n",
       "animals           1323\n",
       "cooking           1277\n",
       "culture           1217\n",
       "dogs              1047\n",
       "education         1127\n",
       "fitness           1050\n",
       "food              1183\n",
       "healthy eating    1303\n",
       "public speaking    911\n",
       "science           1351\n",
       "soccer            1065\n",
       "studying           911\n",
       "technology        1150\n",
       "tennis            1153\n",
       "travel            1368\n",
       "veganism           948"
      ]
     },
     "execution_count": 74,
     "metadata": {},
     "output_type": "execute_result"
    }
   ],
   "source": [
    "#show the values in the new dataframe\n",
    "ct_counts_2"
   ]
  },
  {
   "cell_type": "code",
   "execution_count": 75,
   "id": "63a8e450",
   "metadata": {},
   "outputs": [
    {
     "data": {
      "image/png": "[encoded data removed]",
      "text/plain": [
       "<Figure size 640x480 with 2 Axes>"
      ]
     },
     "metadata": {},
     "output_type": "display_data"
    }
   ],
   "source": [
    "#plot the heatmap using the new dataframe\n",
    "sb.heatmap(ct_counts_2);\n",
    "plt.xlabel('');"
   ]
  },
  {
   "cell_type": "markdown",
   "id": "c1cad25d",
   "metadata": {},
   "source": [
    "The plot above reveals that `travel`, `science`, and `animals` category have the most number of reactions, while `studying` and `public speaking` have the least number of reactions."
   ]
  },
  {
   "cell_type": "code",
   "execution_count": null,
   "id": "6fe1d9d6",
   "metadata": {},
   "outputs": [],
   "source": []
  },
  {
   "cell_type": "code",
   "execution_count": null,
   "id": "668422e8",
   "metadata": {},
   "outputs": [],
   "source": []
  },
  {
   "cell_type": "code",
   "execution_count": null,
   "id": "9ae01af0",
   "metadata": {},
   "outputs": [],
   "source": []
  },
  {
   "cell_type": "code",
   "execution_count": null,
   "id": "b3c6ff9b",
   "metadata": {},
   "outputs": [],
   "source": []
  },
  {
   "cell_type": "code",
   "execution_count": null,
   "id": "061594a9",
   "metadata": {},
   "outputs": [],
   "source": []
  },
  {
   "cell_type": "code",
   "execution_count": null,
   "id": "54d34293",
   "metadata": {},
   "outputs": [],
   "source": []
  },
  {
   "cell_type": "code",
   "execution_count": null,
   "id": "964841c8",
   "metadata": {},
   "outputs": [],
   "source": []
  },
  {
   "cell_type": "code",
   "execution_count": null,
   "id": "a50d8986",
   "metadata": {},
   "outputs": [],
   "source": []
  },
  {
   "cell_type": "code",
   "execution_count": null,
   "id": "99d82df8",
   "metadata": {},
   "outputs": [],
   "source": []
  },
  {
   "cell_type": "code",
   "execution_count": null,
   "id": "b00a8535",
   "metadata": {},
   "outputs": [],
   "source": []
  }
 ],
 "metadata": {
  "kernelspec": {
   "display_name": "Python 3 (ipykernel)",
   "language": "python",
   "name": "python3"
  },
  "language_info": {
   "codemirror_mode": {
    "name": "ipython",
    "version": 3
   },
   "file_extension": ".py",
   "mimetype": "text/x-python",
   "name": "python",
   "nbconvert_exporter": "python",
   "pygments_lexer": "ipython3",
   "version": "3.10.9"
  }
 },
 "nbformat": 4,
 "nbformat_minor": 5
}
