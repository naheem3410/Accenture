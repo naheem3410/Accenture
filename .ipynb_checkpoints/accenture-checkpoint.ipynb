{
 "cells": [
  {
   "cell_type": "markdown",
   "id": "06177985",
   "metadata": {},
   "source": [
    "## Introduction\n",
    "The project is about finding the most popular content category for a social media company called \"Social Buzz\".\n",
    "I will be using three datasets to achieve this objective. The datasets are:\n",
    "* Content\n",
    "* Reaction\n",
    "* ReactionTypes\n",
    "More details on the datasets:\n",
    "### Content\n",
    "ID: Unique ID of the content that was uploaded (automatically generated)\n",
    "\n",
    "User ID: Unique ID of a user that exists in the User table\n",
    "\n",
    "Type: A string detailing the type of content that was uploaded\n",
    "\n",
    "Category: A string detailing the category that this content is relevant to\n",
    "\n",
    "URL: Link to the location where this content is stored\n",
    "\n",
    "### Reaction\n",
    "Content ID: Unique ID of a piece of content that was uploaded\n",
    "\n",
    "User ID: Unique ID of a user that exists in the User table who reacted to this piece of content\n",
    "\n",
    "Type: A string detailing the type of reaction this user gave\n",
    "\n",
    "Datetime: The date and time of this reaction\n",
    "\n",
    "### ReactionTypes\n",
    "Type: A string detailing the type of reaction this user gave\n",
    "\n",
    "Sentiment: A string detailing whether this type of reaction is considered as positive, negative or neutral\n",
    "\n",
    "Score: This is a number calculated by Social Buzz that quantifies how “popular” each reaction is. A reaction type with a higher score\n",
    "should be considered as a more popular reaction."
   ]
  },
  {
   "cell_type": "markdown",
   "id": "c5095bfc",
   "metadata": {},
   "source": [
    "#### Import libraries"
   ]
  },
  {
   "cell_type": "code",
   "execution_count": 1,
   "id": "e9d19991",
   "metadata": {},
   "outputs": [],
   "source": [
    "import numpy as np\n",
    "import pandas as pd\n",
    "import matplotlib.pyplot as plt\n",
    "import seaborn as sb\n",
    "%matplotlib inline \n",
    "\n",
    "import math"
   ]
  },
  {
   "cell_type": "markdown",
   "id": "2b060e8d",
   "metadata": {},
   "source": [
    "## Data Wrangling"
   ]
  },
  {
   "cell_type": "markdown",
   "id": "fd737a1f",
   "metadata": {},
   "source": [
    "### Data Gathering  "
   ]
  },
  {
   "cell_type": "code",
   "execution_count": 2,
   "id": "6709d0d4",
   "metadata": {},
   "outputs": [],
   "source": [
    "#import datasets\n",
    "df1 = pd.read_csv('Content.csv',index_col=0)\n",
    "df2 = pd.read_csv('Reactions.csv',index_col=0)\n",
    "df3 = pd.read_csv('ReactionTypes.csv',index_col=0)"
   ]
  },
  {
   "cell_type": "markdown",
   "id": "0ef8e040",
   "metadata": {},
   "source": [
    "### Assessing Data"
   ]
  },
  {
   "cell_type": "markdown",
   "id": "277fe94d",
   "metadata": {},
   "source": [
    "### Visual Assessment"
   ]
  },
  {
   "cell_type": "markdown",
   "id": "a2214277",
   "metadata": {},
   "source": [
    "#### Content dataset (df1)"
   ]
  },
  {
   "cell_type": "code",
   "execution_count": 3,
   "id": "841d7abe",
   "metadata": {},
   "outputs": [
    {
     "data": {
      "text/html": [
       "<div>\n",
       "<style scoped>\n",
       "    .dataframe tbody tr th:only-of-type {\n",
       "        vertical-align: middle;\n",
       "    }\n",
       "\n",
       "    .dataframe tbody tr th {\n",
       "        vertical-align: top;\n",
       "    }\n",
       "\n",
       "    .dataframe thead th {\n",
       "        text-align: right;\n",
       "    }\n",
       "</style>\n",
       "<table border=\"1\" class=\"dataframe\">\n",
       "  <thead>\n",
       "    <tr style=\"text-align: right;\">\n",
       "      <th></th>\n",
       "      <th>Content ID</th>\n",
       "      <th>User ID</th>\n",
       "      <th>Type</th>\n",
       "      <th>Category</th>\n",
       "      <th>URL</th>\n",
       "    </tr>\n",
       "  </thead>\n",
       "  <tbody>\n",
       "    <tr>\n",
       "      <th>0</th>\n",
       "      <td>97522e57-d9ab-4bd6-97bf-c24d952602d2</td>\n",
       "      <td>8d3cd87d-8a31-4935-9a4f-b319bfe05f31</td>\n",
       "      <td>photo</td>\n",
       "      <td>Studying</td>\n",
       "      <td>https://socialbuzz.cdn.com/content/storage/975...</td>\n",
       "    </tr>\n",
       "    <tr>\n",
       "      <th>1</th>\n",
       "      <td>9f737e0a-3cdd-4d29-9d24-753f4e3be810</td>\n",
       "      <td>beb1f34e-7870-46d6-9fc7-2e12eb83ce43</td>\n",
       "      <td>photo</td>\n",
       "      <td>healthy eating</td>\n",
       "      <td>https://socialbuzz.cdn.com/content/storage/9f7...</td>\n",
       "    </tr>\n",
       "    <tr>\n",
       "      <th>2</th>\n",
       "      <td>230c4e4d-70c3-461d-b42c-ec09396efb3f</td>\n",
       "      <td>a5c65404-5894-4b87-82f2-d787cbee86b4</td>\n",
       "      <td>photo</td>\n",
       "      <td>healthy eating</td>\n",
       "      <td>https://socialbuzz.cdn.com/content/storage/230...</td>\n",
       "    </tr>\n",
       "    <tr>\n",
       "      <th>3</th>\n",
       "      <td>356fff80-da4d-4785-9f43-bc1261031dc6</td>\n",
       "      <td>9fb4ce88-fac1-406c-8544-1a899cee7aaf</td>\n",
       "      <td>photo</td>\n",
       "      <td>technology</td>\n",
       "      <td>https://socialbuzz.cdn.com/content/storage/356...</td>\n",
       "    </tr>\n",
       "    <tr>\n",
       "      <th>4</th>\n",
       "      <td>01ab84dd-6364-4236-abbb-3f237db77180</td>\n",
       "      <td>e206e31b-5f85-4964-b6ea-d7ee5324def1</td>\n",
       "      <td>video</td>\n",
       "      <td>food</td>\n",
       "      <td>https://socialbuzz.cdn.com/content/storage/01a...</td>\n",
       "    </tr>\n",
       "    <tr>\n",
       "      <th>...</th>\n",
       "      <td>...</td>\n",
       "      <td>...</td>\n",
       "      <td>...</td>\n",
       "      <td>...</td>\n",
       "      <td>...</td>\n",
       "    </tr>\n",
       "    <tr>\n",
       "      <th>995</th>\n",
       "      <td>b4cef9ef-627b-41d7-a051-5961b0204ebb</td>\n",
       "      <td>5b62e10e-3c19-4d28-a57c-e9bdc3d6758d</td>\n",
       "      <td>video</td>\n",
       "      <td>public speaking</td>\n",
       "      <td>NaN</td>\n",
       "    </tr>\n",
       "    <tr>\n",
       "      <th>996</th>\n",
       "      <td>7a79f4e4-3b7d-44dc-bdef-bc990740252c</td>\n",
       "      <td>4fe420fa-a193-4408-bd5d-62a020233609</td>\n",
       "      <td>GIF</td>\n",
       "      <td>technology</td>\n",
       "      <td>https://socialbuzz.cdn.com/content/storage/7a7...</td>\n",
       "    </tr>\n",
       "    <tr>\n",
       "      <th>997</th>\n",
       "      <td>435007a5-6261-4d8b-b0a4-55fdc189754b</td>\n",
       "      <td>35d6a1f3-e358-4d4b-8074-05f3b7f35c2a</td>\n",
       "      <td>audio</td>\n",
       "      <td>veganism</td>\n",
       "      <td>https://socialbuzz.cdn.com/content/storage/435...</td>\n",
       "    </tr>\n",
       "    <tr>\n",
       "      <th>998</th>\n",
       "      <td>4e4c9690-c013-4ee7-9e66-943d8cbd27b7</td>\n",
       "      <td>b9bcd994-f000-4f6b-87fc-caae08acfaa1</td>\n",
       "      <td>GIF</td>\n",
       "      <td>culture</td>\n",
       "      <td>https://socialbuzz.cdn.com/content/storage/4e4...</td>\n",
       "    </tr>\n",
       "    <tr>\n",
       "      <th>999</th>\n",
       "      <td>75d6b589-7fae-4a6d-b0d0-752845150e56</td>\n",
       "      <td>b8c653b5-0118-4d7e-9bde-07c2de90f0ff</td>\n",
       "      <td>audio</td>\n",
       "      <td>technology</td>\n",
       "      <td>https://socialbuzz.cdn.com/content/storage/75d...</td>\n",
       "    </tr>\n",
       "  </tbody>\n",
       "</table>\n",
       "<p>1000 rows × 5 columns</p>\n",
       "</div>"
      ],
      "text/plain": [
       "                               Content ID  \\\n",
       "0    97522e57-d9ab-4bd6-97bf-c24d952602d2   \n",
       "1    9f737e0a-3cdd-4d29-9d24-753f4e3be810   \n",
       "2    230c4e4d-70c3-461d-b42c-ec09396efb3f   \n",
       "3    356fff80-da4d-4785-9f43-bc1261031dc6   \n",
       "4    01ab84dd-6364-4236-abbb-3f237db77180   \n",
       "..                                    ...   \n",
       "995  b4cef9ef-627b-41d7-a051-5961b0204ebb   \n",
       "996  7a79f4e4-3b7d-44dc-bdef-bc990740252c   \n",
       "997  435007a5-6261-4d8b-b0a4-55fdc189754b   \n",
       "998  4e4c9690-c013-4ee7-9e66-943d8cbd27b7   \n",
       "999  75d6b589-7fae-4a6d-b0d0-752845150e56   \n",
       "\n",
       "                                  User ID   Type         Category  \\\n",
       "0    8d3cd87d-8a31-4935-9a4f-b319bfe05f31  photo         Studying   \n",
       "1    beb1f34e-7870-46d6-9fc7-2e12eb83ce43  photo   healthy eating   \n",
       "2    a5c65404-5894-4b87-82f2-d787cbee86b4  photo   healthy eating   \n",
       "3    9fb4ce88-fac1-406c-8544-1a899cee7aaf  photo       technology   \n",
       "4    e206e31b-5f85-4964-b6ea-d7ee5324def1  video             food   \n",
       "..                                    ...    ...              ...   \n",
       "995  5b62e10e-3c19-4d28-a57c-e9bdc3d6758d  video  public speaking   \n",
       "996  4fe420fa-a193-4408-bd5d-62a020233609    GIF       technology   \n",
       "997  35d6a1f3-e358-4d4b-8074-05f3b7f35c2a  audio         veganism   \n",
       "998  b9bcd994-f000-4f6b-87fc-caae08acfaa1    GIF          culture   \n",
       "999  b8c653b5-0118-4d7e-9bde-07c2de90f0ff  audio       technology   \n",
       "\n",
       "                                                   URL  \n",
       "0    https://socialbuzz.cdn.com/content/storage/975...  \n",
       "1    https://socialbuzz.cdn.com/content/storage/9f7...  \n",
       "2    https://socialbuzz.cdn.com/content/storage/230...  \n",
       "3    https://socialbuzz.cdn.com/content/storage/356...  \n",
       "4    https://socialbuzz.cdn.com/content/storage/01a...  \n",
       "..                                                 ...  \n",
       "995                                                NaN  \n",
       "996  https://socialbuzz.cdn.com/content/storage/7a7...  \n",
       "997  https://socialbuzz.cdn.com/content/storage/435...  \n",
       "998  https://socialbuzz.cdn.com/content/storage/4e4...  \n",
       "999  https://socialbuzz.cdn.com/content/storage/75d...  \n",
       "\n",
       "[1000 rows x 5 columns]"
      ]
     },
     "execution_count": 3,
     "metadata": {},
     "output_type": "execute_result"
    }
   ],
   "source": [
    "#show all rows and columns from dataset\n",
    "df1"
   ]
  },
  {
   "cell_type": "markdown",
   "id": "f3811cd4",
   "metadata": {},
   "source": [
    "#### Reactions dataset (df2)"
   ]
  },
  {
   "cell_type": "code",
   "execution_count": 4,
   "id": "379ffc9d",
   "metadata": {},
   "outputs": [
    {
     "data": {
      "text/html": [
       "<div>\n",
       "<style scoped>\n",
       "    .dataframe tbody tr th:only-of-type {\n",
       "        vertical-align: middle;\n",
       "    }\n",
       "\n",
       "    .dataframe tbody tr th {\n",
       "        vertical-align: top;\n",
       "    }\n",
       "\n",
       "    .dataframe thead th {\n",
       "        text-align: right;\n",
       "    }\n",
       "</style>\n",
       "<table border=\"1\" class=\"dataframe\">\n",
       "  <thead>\n",
       "    <tr style=\"text-align: right;\">\n",
       "      <th></th>\n",
       "      <th>Content ID</th>\n",
       "      <th>User ID</th>\n",
       "      <th>Type</th>\n",
       "      <th>Datetime</th>\n",
       "    </tr>\n",
       "  </thead>\n",
       "  <tbody>\n",
       "    <tr>\n",
       "      <th>0</th>\n",
       "      <td>97522e57-d9ab-4bd6-97bf-c24d952602d2</td>\n",
       "      <td>NaN</td>\n",
       "      <td>NaN</td>\n",
       "      <td>2021-04-22 15:17:15</td>\n",
       "    </tr>\n",
       "    <tr>\n",
       "      <th>1</th>\n",
       "      <td>97522e57-d9ab-4bd6-97bf-c24d952602d2</td>\n",
       "      <td>5d454588-283d-459d-915d-c48a2cb4c27f</td>\n",
       "      <td>disgust</td>\n",
       "      <td>2020-11-07 09:43:50</td>\n",
       "    </tr>\n",
       "    <tr>\n",
       "      <th>2</th>\n",
       "      <td>97522e57-d9ab-4bd6-97bf-c24d952602d2</td>\n",
       "      <td>92b87fa5-f271-43e0-af66-84fac21052e6</td>\n",
       "      <td>dislike</td>\n",
       "      <td>2021-06-17 12:22:51</td>\n",
       "    </tr>\n",
       "    <tr>\n",
       "      <th>3</th>\n",
       "      <td>97522e57-d9ab-4bd6-97bf-c24d952602d2</td>\n",
       "      <td>163daa38-8b77-48c9-9af6-37a6c1447ac2</td>\n",
       "      <td>scared</td>\n",
       "      <td>2021-04-18 05:13:58</td>\n",
       "    </tr>\n",
       "    <tr>\n",
       "      <th>4</th>\n",
       "      <td>97522e57-d9ab-4bd6-97bf-c24d952602d2</td>\n",
       "      <td>34e8add9-0206-47fd-a501-037b994650a2</td>\n",
       "      <td>disgust</td>\n",
       "      <td>2021-01-06 19:13:01</td>\n",
       "    </tr>\n",
       "    <tr>\n",
       "      <th>...</th>\n",
       "      <td>...</td>\n",
       "      <td>...</td>\n",
       "      <td>...</td>\n",
       "      <td>...</td>\n",
       "    </tr>\n",
       "    <tr>\n",
       "      <th>25548</th>\n",
       "      <td>75d6b589-7fae-4a6d-b0d0-752845150e56</td>\n",
       "      <td>80c9ce48-46f9-4f5e-b3ca-3b698fc2e949</td>\n",
       "      <td>dislike</td>\n",
       "      <td>2020-06-27 09:46:48</td>\n",
       "    </tr>\n",
       "    <tr>\n",
       "      <th>25549</th>\n",
       "      <td>75d6b589-7fae-4a6d-b0d0-752845150e56</td>\n",
       "      <td>2bd9c167-e06c-47c1-a978-3403d6724606</td>\n",
       "      <td>intrigued</td>\n",
       "      <td>2021-02-16 17:17:02</td>\n",
       "    </tr>\n",
       "    <tr>\n",
       "      <th>25550</th>\n",
       "      <td>75d6b589-7fae-4a6d-b0d0-752845150e56</td>\n",
       "      <td>NaN</td>\n",
       "      <td>interested</td>\n",
       "      <td>2020-09-12 03:54:58</td>\n",
       "    </tr>\n",
       "    <tr>\n",
       "      <th>25551</th>\n",
       "      <td>75d6b589-7fae-4a6d-b0d0-752845150e56</td>\n",
       "      <td>5ffd8b51-164e-47e2-885e-8b8c46eb63ed</td>\n",
       "      <td>worried</td>\n",
       "      <td>2020-11-04 20:08:31</td>\n",
       "    </tr>\n",
       "    <tr>\n",
       "      <th>25552</th>\n",
       "      <td>75d6b589-7fae-4a6d-b0d0-752845150e56</td>\n",
       "      <td>4edc3d1a-a7d9-4db6-89c3-f784d9954172</td>\n",
       "      <td>cherish</td>\n",
       "      <td>2021-01-04 04:55:11</td>\n",
       "    </tr>\n",
       "  </tbody>\n",
       "</table>\n",
       "<p>25553 rows × 4 columns</p>\n",
       "</div>"
      ],
      "text/plain": [
       "                                 Content ID  \\\n",
       "0      97522e57-d9ab-4bd6-97bf-c24d952602d2   \n",
       "1      97522e57-d9ab-4bd6-97bf-c24d952602d2   \n",
       "2      97522e57-d9ab-4bd6-97bf-c24d952602d2   \n",
       "3      97522e57-d9ab-4bd6-97bf-c24d952602d2   \n",
       "4      97522e57-d9ab-4bd6-97bf-c24d952602d2   \n",
       "...                                     ...   \n",
       "25548  75d6b589-7fae-4a6d-b0d0-752845150e56   \n",
       "25549  75d6b589-7fae-4a6d-b0d0-752845150e56   \n",
       "25550  75d6b589-7fae-4a6d-b0d0-752845150e56   \n",
       "25551  75d6b589-7fae-4a6d-b0d0-752845150e56   \n",
       "25552  75d6b589-7fae-4a6d-b0d0-752845150e56   \n",
       "\n",
       "                                    User ID        Type             Datetime  \n",
       "0                                       NaN         NaN  2021-04-22 15:17:15  \n",
       "1      5d454588-283d-459d-915d-c48a2cb4c27f     disgust  2020-11-07 09:43:50  \n",
       "2      92b87fa5-f271-43e0-af66-84fac21052e6     dislike  2021-06-17 12:22:51  \n",
       "3      163daa38-8b77-48c9-9af6-37a6c1447ac2      scared  2021-04-18 05:13:58  \n",
       "4      34e8add9-0206-47fd-a501-037b994650a2     disgust  2021-01-06 19:13:01  \n",
       "...                                     ...         ...                  ...  \n",
       "25548  80c9ce48-46f9-4f5e-b3ca-3b698fc2e949     dislike  2020-06-27 09:46:48  \n",
       "25549  2bd9c167-e06c-47c1-a978-3403d6724606   intrigued  2021-02-16 17:17:02  \n",
       "25550                                   NaN  interested  2020-09-12 03:54:58  \n",
       "25551  5ffd8b51-164e-47e2-885e-8b8c46eb63ed     worried  2020-11-04 20:08:31  \n",
       "25552  4edc3d1a-a7d9-4db6-89c3-f784d9954172     cherish  2021-01-04 04:55:11  \n",
       "\n",
       "[25553 rows x 4 columns]"
      ]
     },
     "execution_count": 4,
     "metadata": {},
     "output_type": "execute_result"
    }
   ],
   "source": [
    "df2"
   ]
  },
  {
   "cell_type": "markdown",
   "id": "5e8ac721",
   "metadata": {},
   "source": [
    "#### Reaction Types dataset (df3)"
   ]
  },
  {
   "cell_type": "code",
   "execution_count": 5,
   "id": "4f179d62",
   "metadata": {},
   "outputs": [
    {
     "data": {
      "text/html": [
       "<div>\n",
       "<style scoped>\n",
       "    .dataframe tbody tr th:only-of-type {\n",
       "        vertical-align: middle;\n",
       "    }\n",
       "\n",
       "    .dataframe tbody tr th {\n",
       "        vertical-align: top;\n",
       "    }\n",
       "\n",
       "    .dataframe thead th {\n",
       "        text-align: right;\n",
       "    }\n",
       "</style>\n",
       "<table border=\"1\" class=\"dataframe\">\n",
       "  <thead>\n",
       "    <tr style=\"text-align: right;\">\n",
       "      <th></th>\n",
       "      <th>Type</th>\n",
       "      <th>Sentiment</th>\n",
       "      <th>Score</th>\n",
       "    </tr>\n",
       "  </thead>\n",
       "  <tbody>\n",
       "    <tr>\n",
       "      <th>0</th>\n",
       "      <td>heart</td>\n",
       "      <td>positive</td>\n",
       "      <td>60</td>\n",
       "    </tr>\n",
       "    <tr>\n",
       "      <th>1</th>\n",
       "      <td>want</td>\n",
       "      <td>positive</td>\n",
       "      <td>70</td>\n",
       "    </tr>\n",
       "    <tr>\n",
       "      <th>2</th>\n",
       "      <td>disgust</td>\n",
       "      <td>negative</td>\n",
       "      <td>0</td>\n",
       "    </tr>\n",
       "    <tr>\n",
       "      <th>3</th>\n",
       "      <td>hate</td>\n",
       "      <td>negative</td>\n",
       "      <td>5</td>\n",
       "    </tr>\n",
       "    <tr>\n",
       "      <th>4</th>\n",
       "      <td>interested</td>\n",
       "      <td>positive</td>\n",
       "      <td>30</td>\n",
       "    </tr>\n",
       "    <tr>\n",
       "      <th>5</th>\n",
       "      <td>indifferent</td>\n",
       "      <td>neutral</td>\n",
       "      <td>20</td>\n",
       "    </tr>\n",
       "    <tr>\n",
       "      <th>6</th>\n",
       "      <td>love</td>\n",
       "      <td>positive</td>\n",
       "      <td>65</td>\n",
       "    </tr>\n",
       "    <tr>\n",
       "      <th>7</th>\n",
       "      <td>super love</td>\n",
       "      <td>positive</td>\n",
       "      <td>75</td>\n",
       "    </tr>\n",
       "    <tr>\n",
       "      <th>8</th>\n",
       "      <td>cherish</td>\n",
       "      <td>positive</td>\n",
       "      <td>70</td>\n",
       "    </tr>\n",
       "    <tr>\n",
       "      <th>9</th>\n",
       "      <td>adore</td>\n",
       "      <td>positive</td>\n",
       "      <td>72</td>\n",
       "    </tr>\n",
       "    <tr>\n",
       "      <th>10</th>\n",
       "      <td>like</td>\n",
       "      <td>positive</td>\n",
       "      <td>50</td>\n",
       "    </tr>\n",
       "    <tr>\n",
       "      <th>11</th>\n",
       "      <td>dislike</td>\n",
       "      <td>negative</td>\n",
       "      <td>10</td>\n",
       "    </tr>\n",
       "    <tr>\n",
       "      <th>12</th>\n",
       "      <td>intrigued</td>\n",
       "      <td>positive</td>\n",
       "      <td>45</td>\n",
       "    </tr>\n",
       "    <tr>\n",
       "      <th>13</th>\n",
       "      <td>peeking</td>\n",
       "      <td>neutral</td>\n",
       "      <td>35</td>\n",
       "    </tr>\n",
       "    <tr>\n",
       "      <th>14</th>\n",
       "      <td>scared</td>\n",
       "      <td>negative</td>\n",
       "      <td>15</td>\n",
       "    </tr>\n",
       "    <tr>\n",
       "      <th>15</th>\n",
       "      <td>worried</td>\n",
       "      <td>negative</td>\n",
       "      <td>12</td>\n",
       "    </tr>\n",
       "  </tbody>\n",
       "</table>\n",
       "</div>"
      ],
      "text/plain": [
       "           Type Sentiment  Score\n",
       "0         heart  positive     60\n",
       "1          want  positive     70\n",
       "2       disgust  negative      0\n",
       "3          hate  negative      5\n",
       "4    interested  positive     30\n",
       "5   indifferent   neutral     20\n",
       "6          love  positive     65\n",
       "7    super love  positive     75\n",
       "8       cherish  positive     70\n",
       "9         adore  positive     72\n",
       "10         like  positive     50\n",
       "11      dislike  negative     10\n",
       "12    intrigued  positive     45\n",
       "13      peeking   neutral     35\n",
       "14       scared  negative     15\n",
       "15      worried  negative     12"
      ]
     },
     "execution_count": 5,
     "metadata": {},
     "output_type": "execute_result"
    }
   ],
   "source": [
    "df3"
   ]
  },
  {
   "cell_type": "markdown",
   "id": "bf6f1cb1",
   "metadata": {},
   "source": [
    "### Programmatic Assessment"
   ]
  },
  {
   "cell_type": "markdown",
   "id": "0bd10cc4",
   "metadata": {},
   "source": [
    "#### Content dataset (df1)"
   ]
  },
  {
   "cell_type": "code",
   "execution_count": 6,
   "id": "94d5170c",
   "metadata": {},
   "outputs": [
    {
     "data": {
      "text/html": [
       "<div>\n",
       "<style scoped>\n",
       "    .dataframe tbody tr th:only-of-type {\n",
       "        vertical-align: middle;\n",
       "    }\n",
       "\n",
       "    .dataframe tbody tr th {\n",
       "        vertical-align: top;\n",
       "    }\n",
       "\n",
       "    .dataframe thead th {\n",
       "        text-align: right;\n",
       "    }\n",
       "</style>\n",
       "<table border=\"1\" class=\"dataframe\">\n",
       "  <thead>\n",
       "    <tr style=\"text-align: right;\">\n",
       "      <th></th>\n",
       "      <th>Content ID</th>\n",
       "      <th>User ID</th>\n",
       "      <th>Type</th>\n",
       "      <th>Category</th>\n",
       "      <th>URL</th>\n",
       "    </tr>\n",
       "  </thead>\n",
       "  <tbody>\n",
       "    <tr>\n",
       "      <th>0</th>\n",
       "      <td>97522e57-d9ab-4bd6-97bf-c24d952602d2</td>\n",
       "      <td>8d3cd87d-8a31-4935-9a4f-b319bfe05f31</td>\n",
       "      <td>photo</td>\n",
       "      <td>Studying</td>\n",
       "      <td>https://socialbuzz.cdn.com/content/storage/975...</td>\n",
       "    </tr>\n",
       "    <tr>\n",
       "      <th>1</th>\n",
       "      <td>9f737e0a-3cdd-4d29-9d24-753f4e3be810</td>\n",
       "      <td>beb1f34e-7870-46d6-9fc7-2e12eb83ce43</td>\n",
       "      <td>photo</td>\n",
       "      <td>healthy eating</td>\n",
       "      <td>https://socialbuzz.cdn.com/content/storage/9f7...</td>\n",
       "    </tr>\n",
       "    <tr>\n",
       "      <th>2</th>\n",
       "      <td>230c4e4d-70c3-461d-b42c-ec09396efb3f</td>\n",
       "      <td>a5c65404-5894-4b87-82f2-d787cbee86b4</td>\n",
       "      <td>photo</td>\n",
       "      <td>healthy eating</td>\n",
       "      <td>https://socialbuzz.cdn.com/content/storage/230...</td>\n",
       "    </tr>\n",
       "    <tr>\n",
       "      <th>3</th>\n",
       "      <td>356fff80-da4d-4785-9f43-bc1261031dc6</td>\n",
       "      <td>9fb4ce88-fac1-406c-8544-1a899cee7aaf</td>\n",
       "      <td>photo</td>\n",
       "      <td>technology</td>\n",
       "      <td>https://socialbuzz.cdn.com/content/storage/356...</td>\n",
       "    </tr>\n",
       "    <tr>\n",
       "      <th>4</th>\n",
       "      <td>01ab84dd-6364-4236-abbb-3f237db77180</td>\n",
       "      <td>e206e31b-5f85-4964-b6ea-d7ee5324def1</td>\n",
       "      <td>video</td>\n",
       "      <td>food</td>\n",
       "      <td>https://socialbuzz.cdn.com/content/storage/01a...</td>\n",
       "    </tr>\n",
       "  </tbody>\n",
       "</table>\n",
       "</div>"
      ],
      "text/plain": [
       "                             Content ID                               User ID  \\\n",
       "0  97522e57-d9ab-4bd6-97bf-c24d952602d2  8d3cd87d-8a31-4935-9a4f-b319bfe05f31   \n",
       "1  9f737e0a-3cdd-4d29-9d24-753f4e3be810  beb1f34e-7870-46d6-9fc7-2e12eb83ce43   \n",
       "2  230c4e4d-70c3-461d-b42c-ec09396efb3f  a5c65404-5894-4b87-82f2-d787cbee86b4   \n",
       "3  356fff80-da4d-4785-9f43-bc1261031dc6  9fb4ce88-fac1-406c-8544-1a899cee7aaf   \n",
       "4  01ab84dd-6364-4236-abbb-3f237db77180  e206e31b-5f85-4964-b6ea-d7ee5324def1   \n",
       "\n",
       "    Type        Category                                                URL  \n",
       "0  photo        Studying  https://socialbuzz.cdn.com/content/storage/975...  \n",
       "1  photo  healthy eating  https://socialbuzz.cdn.com/content/storage/9f7...  \n",
       "2  photo  healthy eating  https://socialbuzz.cdn.com/content/storage/230...  \n",
       "3  photo      technology  https://socialbuzz.cdn.com/content/storage/356...  \n",
       "4  video            food  https://socialbuzz.cdn.com/content/storage/01a...  "
      ]
     },
     "execution_count": 6,
     "metadata": {},
     "output_type": "execute_result"
    }
   ],
   "source": [
    "#list first 5 rows\n",
    "df1.head()"
   ]
  },
  {
   "cell_type": "code",
   "execution_count": 7,
   "id": "df9df862",
   "metadata": {},
   "outputs": [
    {
     "name": "stdout",
     "output_type": "stream",
     "text": [
      "<class 'pandas.core.frame.DataFrame'>\n",
      "Int64Index: 1000 entries, 0 to 999\n",
      "Data columns (total 5 columns):\n",
      " #   Column      Non-Null Count  Dtype \n",
      "---  ------      --------------  ----- \n",
      " 0   Content ID  1000 non-null   object\n",
      " 1   User ID     1000 non-null   object\n",
      " 2   Type        1000 non-null   object\n",
      " 3   Category    1000 non-null   object\n",
      " 4   URL         801 non-null    object\n",
      "dtypes: object(5)\n",
      "memory usage: 46.9+ KB\n"
     ]
    }
   ],
   "source": [
    "#check the number of rows, columns, datatypes and missing data\n",
    "df1.info()"
   ]
  },
  {
   "cell_type": "code",
   "execution_count": 8,
   "id": "96af1a0a",
   "metadata": {
    "scrolled": true
   },
   "outputs": [
    {
     "data": {
      "text/html": [
       "<div>\n",
       "<style scoped>\n",
       "    .dataframe tbody tr th:only-of-type {\n",
       "        vertical-align: middle;\n",
       "    }\n",
       "\n",
       "    .dataframe tbody tr th {\n",
       "        vertical-align: top;\n",
       "    }\n",
       "\n",
       "    .dataframe thead th {\n",
       "        text-align: right;\n",
       "    }\n",
       "</style>\n",
       "<table border=\"1\" class=\"dataframe\">\n",
       "  <thead>\n",
       "    <tr style=\"text-align: right;\">\n",
       "      <th></th>\n",
       "      <th>Content ID</th>\n",
       "      <th>User ID</th>\n",
       "      <th>Type</th>\n",
       "      <th>Category</th>\n",
       "      <th>URL</th>\n",
       "    </tr>\n",
       "  </thead>\n",
       "  <tbody>\n",
       "    <tr>\n",
       "      <th>count</th>\n",
       "      <td>1000</td>\n",
       "      <td>1000</td>\n",
       "      <td>1000</td>\n",
       "      <td>1000</td>\n",
       "      <td>801</td>\n",
       "    </tr>\n",
       "    <tr>\n",
       "      <th>unique</th>\n",
       "      <td>1000</td>\n",
       "      <td>446</td>\n",
       "      <td>4</td>\n",
       "      <td>41</td>\n",
       "      <td>801</td>\n",
       "    </tr>\n",
       "    <tr>\n",
       "      <th>top</th>\n",
       "      <td>97522e57-d9ab-4bd6-97bf-c24d952602d2</td>\n",
       "      <td>72d2587e-8fae-4626-a73d-352e6465ba0f</td>\n",
       "      <td>photo</td>\n",
       "      <td>technology</td>\n",
       "      <td>https://socialbuzz.cdn.com/content/storage/975...</td>\n",
       "    </tr>\n",
       "    <tr>\n",
       "      <th>freq</th>\n",
       "      <td>1</td>\n",
       "      <td>8</td>\n",
       "      <td>261</td>\n",
       "      <td>71</td>\n",
       "      <td>1</td>\n",
       "    </tr>\n",
       "  </tbody>\n",
       "</table>\n",
       "</div>"
      ],
      "text/plain": [
       "                                  Content ID  \\\n",
       "count                                   1000   \n",
       "unique                                  1000   \n",
       "top     97522e57-d9ab-4bd6-97bf-c24d952602d2   \n",
       "freq                                       1   \n",
       "\n",
       "                                     User ID   Type    Category  \\\n",
       "count                                   1000   1000        1000   \n",
       "unique                                   446      4          41   \n",
       "top     72d2587e-8fae-4626-a73d-352e6465ba0f  photo  technology   \n",
       "freq                                       8    261          71   \n",
       "\n",
       "                                                      URL  \n",
       "count                                                 801  \n",
       "unique                                                801  \n",
       "top     https://socialbuzz.cdn.com/content/storage/975...  \n",
       "freq                                                    1  "
      ]
     },
     "execution_count": 8,
     "metadata": {},
     "output_type": "execute_result"
    }
   ],
   "source": [
    "#check basic statistics\n",
    "df1.describe()"
   ]
  },
  {
   "cell_type": "code",
   "execution_count": 9,
   "id": "eb577b85",
   "metadata": {},
   "outputs": [
    {
     "data": {
      "text/plain": [
       "Content ID      0\n",
       "User ID         0\n",
       "Type            0\n",
       "Category        0\n",
       "URL           199\n",
       "dtype: int64"
      ]
     },
     "execution_count": 9,
     "metadata": {},
     "output_type": "execute_result"
    }
   ],
   "source": [
    "#check for null values\n",
    "df1.isna().sum()"
   ]
  },
  {
   "cell_type": "code",
   "execution_count": 10,
   "id": "2d029689",
   "metadata": {},
   "outputs": [
    {
     "data": {
      "text/plain": [
       "0"
      ]
     },
     "execution_count": 10,
     "metadata": {},
     "output_type": "execute_result"
    }
   ],
   "source": [
    "#check for duplicates\n",
    "df1.duplicated().sum()"
   ]
  },
  {
   "cell_type": "code",
   "execution_count": 11,
   "id": "f27e4f27",
   "metadata": {},
   "outputs": [
    {
     "data": {
      "text/plain": [
       "554"
      ]
     },
     "execution_count": 11,
     "metadata": {},
     "output_type": "execute_result"
    }
   ],
   "source": [
    "#check for duplicates in User ID\n",
    "df1[\"User ID\"].duplicated().sum()"
   ]
  },
  {
   "cell_type": "code",
   "execution_count": 12,
   "id": "dcb6da89",
   "metadata": {
    "scrolled": true
   },
   "outputs": [
    {
     "data": {
      "text/plain": [
       "array(['photo', 'video', 'GIF', 'audio'], dtype=object)"
      ]
     },
     "execution_count": 12,
     "metadata": {},
     "output_type": "execute_result"
    }
   ],
   "source": [
    "#check the unique values in Type\n",
    "df1.Type.unique()"
   ]
  },
  {
   "cell_type": "code",
   "execution_count": 13,
   "id": "8bb5d325",
   "metadata": {},
   "outputs": [
    {
     "data": {
      "text/plain": [
       "array(['Studying', 'healthy eating', 'technology', 'food', 'cooking',\n",
       "       'dogs', 'soccer', 'public speaking', 'science', 'tennis', 'travel',\n",
       "       'fitness', 'education', 'studying', 'veganism', 'Animals',\n",
       "       'animals', 'culture', '\"culture\"', 'Fitness', '\"studying\"',\n",
       "       'Veganism', '\"animals\"', 'Travel', '\"soccer\"', 'Education',\n",
       "       '\"dogs\"', 'Technology', 'Soccer', '\"tennis\"', 'Culture', '\"food\"',\n",
       "       'Food', '\"technology\"', 'Healthy Eating', '\"cooking\"', 'Science',\n",
       "       '\"public speaking\"', '\"veganism\"', 'Public Speaking', '\"science\"'],\n",
       "      dtype=object)"
      ]
     },
     "execution_count": 13,
     "metadata": {},
     "output_type": "execute_result"
    }
   ],
   "source": [
    "#check the unique values in Type\n",
    "df1.Category.unique()"
   ]
  },
  {
   "cell_type": "code",
   "execution_count": 14,
   "id": "1ab93155",
   "metadata": {},
   "outputs": [
    {
     "data": {
      "text/plain": [
       "technology           71\n",
       "animals              67\n",
       "travel               67\n",
       "culture              63\n",
       "science              63\n",
       "fitness              61\n",
       "food                 61\n",
       "healthy eating       61\n",
       "cooking              60\n",
       "soccer               58\n",
       "tennis               58\n",
       "education            57\n",
       "dogs                 56\n",
       "studying             55\n",
       "veganism             48\n",
       "public speaking      48\n",
       "Fitness               5\n",
       "Animals               4\n",
       "Science               4\n",
       "\"soccer\"              3\n",
       "\"culture\"             3\n",
       "Soccer                3\n",
       "\"dogs\"                2\n",
       "Education             2\n",
       "Studying              2\n",
       "Travel                2\n",
       "Food                  2\n",
       "\"veganism\"            1\n",
       "\"public speaking\"     1\n",
       "Public Speaking       1\n",
       "\"technology\"          1\n",
       "\"cooking\"             1\n",
       "Healthy Eating        1\n",
       "\"studying\"            1\n",
       "\"food\"                1\n",
       "Culture               1\n",
       "\"tennis\"              1\n",
       "Technology            1\n",
       "\"animals\"             1\n",
       "Veganism              1\n",
       "\"science\"             1\n",
       "Name: Category, dtype: int64"
      ]
     },
     "execution_count": 14,
     "metadata": {},
     "output_type": "execute_result"
    }
   ],
   "source": [
    "#see the format of the values\n",
    "df1.Category.value_counts()"
   ]
  },
  {
   "cell_type": "markdown",
   "id": "381926f9",
   "metadata": {},
   "source": [
    "#### Reactions dataset (df2)"
   ]
  },
  {
   "cell_type": "code",
   "execution_count": 15,
   "id": "a1781b7c",
   "metadata": {},
   "outputs": [
    {
     "data": {
      "text/html": [
       "<div>\n",
       "<style scoped>\n",
       "    .dataframe tbody tr th:only-of-type {\n",
       "        vertical-align: middle;\n",
       "    }\n",
       "\n",
       "    .dataframe tbody tr th {\n",
       "        vertical-align: top;\n",
       "    }\n",
       "\n",
       "    .dataframe thead th {\n",
       "        text-align: right;\n",
       "    }\n",
       "</style>\n",
       "<table border=\"1\" class=\"dataframe\">\n",
       "  <thead>\n",
       "    <tr style=\"text-align: right;\">\n",
       "      <th></th>\n",
       "      <th>Content ID</th>\n",
       "      <th>User ID</th>\n",
       "      <th>Type</th>\n",
       "      <th>Datetime</th>\n",
       "    </tr>\n",
       "  </thead>\n",
       "  <tbody>\n",
       "    <tr>\n",
       "      <th>0</th>\n",
       "      <td>97522e57-d9ab-4bd6-97bf-c24d952602d2</td>\n",
       "      <td>NaN</td>\n",
       "      <td>NaN</td>\n",
       "      <td>2021-04-22 15:17:15</td>\n",
       "    </tr>\n",
       "    <tr>\n",
       "      <th>1</th>\n",
       "      <td>97522e57-d9ab-4bd6-97bf-c24d952602d2</td>\n",
       "      <td>5d454588-283d-459d-915d-c48a2cb4c27f</td>\n",
       "      <td>disgust</td>\n",
       "      <td>2020-11-07 09:43:50</td>\n",
       "    </tr>\n",
       "    <tr>\n",
       "      <th>2</th>\n",
       "      <td>97522e57-d9ab-4bd6-97bf-c24d952602d2</td>\n",
       "      <td>92b87fa5-f271-43e0-af66-84fac21052e6</td>\n",
       "      <td>dislike</td>\n",
       "      <td>2021-06-17 12:22:51</td>\n",
       "    </tr>\n",
       "    <tr>\n",
       "      <th>3</th>\n",
       "      <td>97522e57-d9ab-4bd6-97bf-c24d952602d2</td>\n",
       "      <td>163daa38-8b77-48c9-9af6-37a6c1447ac2</td>\n",
       "      <td>scared</td>\n",
       "      <td>2021-04-18 05:13:58</td>\n",
       "    </tr>\n",
       "    <tr>\n",
       "      <th>4</th>\n",
       "      <td>97522e57-d9ab-4bd6-97bf-c24d952602d2</td>\n",
       "      <td>34e8add9-0206-47fd-a501-037b994650a2</td>\n",
       "      <td>disgust</td>\n",
       "      <td>2021-01-06 19:13:01</td>\n",
       "    </tr>\n",
       "  </tbody>\n",
       "</table>\n",
       "</div>"
      ],
      "text/plain": [
       "                             Content ID                               User ID  \\\n",
       "0  97522e57-d9ab-4bd6-97bf-c24d952602d2                                   NaN   \n",
       "1  97522e57-d9ab-4bd6-97bf-c24d952602d2  5d454588-283d-459d-915d-c48a2cb4c27f   \n",
       "2  97522e57-d9ab-4bd6-97bf-c24d952602d2  92b87fa5-f271-43e0-af66-84fac21052e6   \n",
       "3  97522e57-d9ab-4bd6-97bf-c24d952602d2  163daa38-8b77-48c9-9af6-37a6c1447ac2   \n",
       "4  97522e57-d9ab-4bd6-97bf-c24d952602d2  34e8add9-0206-47fd-a501-037b994650a2   \n",
       "\n",
       "      Type             Datetime  \n",
       "0      NaN  2021-04-22 15:17:15  \n",
       "1  disgust  2020-11-07 09:43:50  \n",
       "2  dislike  2021-06-17 12:22:51  \n",
       "3   scared  2021-04-18 05:13:58  \n",
       "4  disgust  2021-01-06 19:13:01  "
      ]
     },
     "execution_count": 15,
     "metadata": {},
     "output_type": "execute_result"
    }
   ],
   "source": [
    "#list first 5 rows\n",
    "df2.head()"
   ]
  },
  {
   "cell_type": "code",
   "execution_count": 16,
   "id": "e7757287",
   "metadata": {},
   "outputs": [
    {
     "name": "stdout",
     "output_type": "stream",
     "text": [
      "<class 'pandas.core.frame.DataFrame'>\n",
      "Int64Index: 25553 entries, 0 to 25552\n",
      "Data columns (total 4 columns):\n",
      " #   Column      Non-Null Count  Dtype \n",
      "---  ------      --------------  ----- \n",
      " 0   Content ID  25553 non-null  object\n",
      " 1   User ID     22534 non-null  object\n",
      " 2   Type        24573 non-null  object\n",
      " 3   Datetime    25553 non-null  object\n",
      "dtypes: object(4)\n",
      "memory usage: 998.2+ KB\n"
     ]
    }
   ],
   "source": [
    "#check the number of rows, columns, datatypes and missing data\n",
    "df2.info()"
   ]
  },
  {
   "cell_type": "code",
   "execution_count": 17,
   "id": "fe489814",
   "metadata": {},
   "outputs": [
    {
     "data": {
      "text/html": [
       "<div>\n",
       "<style scoped>\n",
       "    .dataframe tbody tr th:only-of-type {\n",
       "        vertical-align: middle;\n",
       "    }\n",
       "\n",
       "    .dataframe tbody tr th {\n",
       "        vertical-align: top;\n",
       "    }\n",
       "\n",
       "    .dataframe thead th {\n",
       "        text-align: right;\n",
       "    }\n",
       "</style>\n",
       "<table border=\"1\" class=\"dataframe\">\n",
       "  <thead>\n",
       "    <tr style=\"text-align: right;\">\n",
       "      <th></th>\n",
       "      <th>Content ID</th>\n",
       "      <th>User ID</th>\n",
       "      <th>Type</th>\n",
       "      <th>Datetime</th>\n",
       "    </tr>\n",
       "  </thead>\n",
       "  <tbody>\n",
       "    <tr>\n",
       "      <th>count</th>\n",
       "      <td>25553</td>\n",
       "      <td>22534</td>\n",
       "      <td>24573</td>\n",
       "      <td>25553</td>\n",
       "    </tr>\n",
       "    <tr>\n",
       "      <th>unique</th>\n",
       "      <td>980</td>\n",
       "      <td>500</td>\n",
       "      <td>16</td>\n",
       "      <td>25542</td>\n",
       "    </tr>\n",
       "    <tr>\n",
       "      <th>top</th>\n",
       "      <td>4b2d0fff-3b4f-43ca-a7df-c430479cb9ba</td>\n",
       "      <td>c76c3393-88e2-47b0-ac37-dc4f2053f5a5</td>\n",
       "      <td>heart</td>\n",
       "      <td>2020-10-29 20:51:08</td>\n",
       "    </tr>\n",
       "    <tr>\n",
       "      <th>freq</th>\n",
       "      <td>49</td>\n",
       "      <td>65</td>\n",
       "      <td>1622</td>\n",
       "      <td>2</td>\n",
       "    </tr>\n",
       "  </tbody>\n",
       "</table>\n",
       "</div>"
      ],
      "text/plain": [
       "                                  Content ID  \\\n",
       "count                                  25553   \n",
       "unique                                   980   \n",
       "top     4b2d0fff-3b4f-43ca-a7df-c430479cb9ba   \n",
       "freq                                      49   \n",
       "\n",
       "                                     User ID   Type             Datetime  \n",
       "count                                  22534  24573                25553  \n",
       "unique                                   500     16                25542  \n",
       "top     c76c3393-88e2-47b0-ac37-dc4f2053f5a5  heart  2020-10-29 20:51:08  \n",
       "freq                                      65   1622                    2  "
      ]
     },
     "execution_count": 17,
     "metadata": {},
     "output_type": "execute_result"
    }
   ],
   "source": [
    "#check basic statistics\n",
    "df2.describe()"
   ]
  },
  {
   "cell_type": "code",
   "execution_count": 18,
   "id": "4793894b",
   "metadata": {},
   "outputs": [
    {
     "data": {
      "text/plain": [
       "Content ID       0\n",
       "User ID       3019\n",
       "Type           980\n",
       "Datetime         0\n",
       "dtype: int64"
      ]
     },
     "execution_count": 18,
     "metadata": {},
     "output_type": "execute_result"
    }
   ],
   "source": [
    "#check for null values\n",
    "df2.isna().sum()"
   ]
  },
  {
   "cell_type": "code",
   "execution_count": 19,
   "id": "30059c90",
   "metadata": {},
   "outputs": [
    {
     "data": {
      "text/plain": [
       "0"
      ]
     },
     "execution_count": 19,
     "metadata": {},
     "output_type": "execute_result"
    }
   ],
   "source": [
    "#check for duplicates\n",
    "df2.duplicated().sum()"
   ]
  },
  {
   "cell_type": "code",
   "execution_count": 20,
   "id": "5b2f78ce",
   "metadata": {},
   "outputs": [
    {
     "data": {
      "text/plain": [
       "25052"
      ]
     },
     "execution_count": 20,
     "metadata": {},
     "output_type": "execute_result"
    }
   ],
   "source": [
    "#check for duplicates in User ID\n",
    "df2[\"User ID\"].duplicated().sum()"
   ]
  },
  {
   "cell_type": "code",
   "execution_count": 21,
   "id": "c65684a1",
   "metadata": {},
   "outputs": [
    {
     "data": {
      "text/plain": [
       "array([nan, 'disgust', 'dislike', 'scared', 'interested', 'peeking',\n",
       "       'cherish', 'hate', 'love', 'indifferent', 'super love',\n",
       "       'intrigued', 'worried', 'like', 'heart', 'want', 'adore'],\n",
       "      dtype=object)"
      ]
     },
     "execution_count": 21,
     "metadata": {},
     "output_type": "execute_result"
    }
   ],
   "source": [
    "#check the unique values in Type\n",
    "df2.Type.unique()"
   ]
  },
  {
   "cell_type": "markdown",
   "id": "67f0cd15",
   "metadata": {},
   "source": [
    "#### Reaction Types dataset (df3)"
   ]
  },
  {
   "cell_type": "code",
   "execution_count": 22,
   "id": "760d5298",
   "metadata": {},
   "outputs": [
    {
     "data": {
      "text/html": [
       "<div>\n",
       "<style scoped>\n",
       "    .dataframe tbody tr th:only-of-type {\n",
       "        vertical-align: middle;\n",
       "    }\n",
       "\n",
       "    .dataframe tbody tr th {\n",
       "        vertical-align: top;\n",
       "    }\n",
       "\n",
       "    .dataframe thead th {\n",
       "        text-align: right;\n",
       "    }\n",
       "</style>\n",
       "<table border=\"1\" class=\"dataframe\">\n",
       "  <thead>\n",
       "    <tr style=\"text-align: right;\">\n",
       "      <th></th>\n",
       "      <th>Type</th>\n",
       "      <th>Sentiment</th>\n",
       "      <th>Score</th>\n",
       "    </tr>\n",
       "  </thead>\n",
       "  <tbody>\n",
       "    <tr>\n",
       "      <th>0</th>\n",
       "      <td>heart</td>\n",
       "      <td>positive</td>\n",
       "      <td>60</td>\n",
       "    </tr>\n",
       "    <tr>\n",
       "      <th>1</th>\n",
       "      <td>want</td>\n",
       "      <td>positive</td>\n",
       "      <td>70</td>\n",
       "    </tr>\n",
       "    <tr>\n",
       "      <th>2</th>\n",
       "      <td>disgust</td>\n",
       "      <td>negative</td>\n",
       "      <td>0</td>\n",
       "    </tr>\n",
       "    <tr>\n",
       "      <th>3</th>\n",
       "      <td>hate</td>\n",
       "      <td>negative</td>\n",
       "      <td>5</td>\n",
       "    </tr>\n",
       "    <tr>\n",
       "      <th>4</th>\n",
       "      <td>interested</td>\n",
       "      <td>positive</td>\n",
       "      <td>30</td>\n",
       "    </tr>\n",
       "  </tbody>\n",
       "</table>\n",
       "</div>"
      ],
      "text/plain": [
       "         Type Sentiment  Score\n",
       "0       heart  positive     60\n",
       "1        want  positive     70\n",
       "2     disgust  negative      0\n",
       "3        hate  negative      5\n",
       "4  interested  positive     30"
      ]
     },
     "execution_count": 22,
     "metadata": {},
     "output_type": "execute_result"
    }
   ],
   "source": [
    "#list first 5 rows\n",
    "df3.head()"
   ]
  },
  {
   "cell_type": "code",
   "execution_count": 23,
   "id": "008067bb",
   "metadata": {},
   "outputs": [
    {
     "name": "stdout",
     "output_type": "stream",
     "text": [
      "<class 'pandas.core.frame.DataFrame'>\n",
      "Int64Index: 16 entries, 0 to 15\n",
      "Data columns (total 3 columns):\n",
      " #   Column     Non-Null Count  Dtype \n",
      "---  ------     --------------  ----- \n",
      " 0   Type       16 non-null     object\n",
      " 1   Sentiment  16 non-null     object\n",
      " 2   Score      16 non-null     int64 \n",
      "dtypes: int64(1), object(2)\n",
      "memory usage: 512.0+ bytes\n"
     ]
    }
   ],
   "source": [
    "#check the number of rows, columns, datatypes and missing data\n",
    "df3.info()"
   ]
  },
  {
   "cell_type": "code",
   "execution_count": 24,
   "id": "44706b29",
   "metadata": {},
   "outputs": [
    {
     "data": {
      "text/html": [
       "<div>\n",
       "<style scoped>\n",
       "    .dataframe tbody tr th:only-of-type {\n",
       "        vertical-align: middle;\n",
       "    }\n",
       "\n",
       "    .dataframe tbody tr th {\n",
       "        vertical-align: top;\n",
       "    }\n",
       "\n",
       "    .dataframe thead th {\n",
       "        text-align: right;\n",
       "    }\n",
       "</style>\n",
       "<table border=\"1\" class=\"dataframe\">\n",
       "  <thead>\n",
       "    <tr style=\"text-align: right;\">\n",
       "      <th></th>\n",
       "      <th>Score</th>\n",
       "    </tr>\n",
       "  </thead>\n",
       "  <tbody>\n",
       "    <tr>\n",
       "      <th>count</th>\n",
       "      <td>16.000000</td>\n",
       "    </tr>\n",
       "    <tr>\n",
       "      <th>mean</th>\n",
       "      <td>39.625000</td>\n",
       "    </tr>\n",
       "    <tr>\n",
       "      <th>std</th>\n",
       "      <td>26.901983</td>\n",
       "    </tr>\n",
       "    <tr>\n",
       "      <th>min</th>\n",
       "      <td>0.000000</td>\n",
       "    </tr>\n",
       "    <tr>\n",
       "      <th>25%</th>\n",
       "      <td>14.250000</td>\n",
       "    </tr>\n",
       "    <tr>\n",
       "      <th>50%</th>\n",
       "      <td>40.000000</td>\n",
       "    </tr>\n",
       "    <tr>\n",
       "      <th>75%</th>\n",
       "      <td>66.250000</td>\n",
       "    </tr>\n",
       "    <tr>\n",
       "      <th>max</th>\n",
       "      <td>75.000000</td>\n",
       "    </tr>\n",
       "  </tbody>\n",
       "</table>\n",
       "</div>"
      ],
      "text/plain": [
       "           Score\n",
       "count  16.000000\n",
       "mean   39.625000\n",
       "std    26.901983\n",
       "min     0.000000\n",
       "25%    14.250000\n",
       "50%    40.000000\n",
       "75%    66.250000\n",
       "max    75.000000"
      ]
     },
     "execution_count": 24,
     "metadata": {},
     "output_type": "execute_result"
    }
   ],
   "source": [
    "#check basic statistics\n",
    "df3.describe()"
   ]
  },
  {
   "cell_type": "code",
   "execution_count": 25,
   "id": "f4a57b74",
   "metadata": {},
   "outputs": [
    {
     "data": {
      "text/plain": [
       "Type         0\n",
       "Sentiment    0\n",
       "Score        0\n",
       "dtype: int64"
      ]
     },
     "execution_count": 25,
     "metadata": {},
     "output_type": "execute_result"
    }
   ],
   "source": [
    "#check for null values\n",
    "df3.isna().sum()"
   ]
  },
  {
   "cell_type": "code",
   "execution_count": 26,
   "id": "af42ad0a",
   "metadata": {},
   "outputs": [
    {
     "data": {
      "text/plain": [
       "0"
      ]
     },
     "execution_count": 26,
     "metadata": {},
     "output_type": "execute_result"
    }
   ],
   "source": [
    "#check for duplicates\n",
    "df3.duplicated().sum()"
   ]
  },
  {
   "cell_type": "code",
   "execution_count": 27,
   "id": "6cf6b2fd",
   "metadata": {},
   "outputs": [
    {
     "data": {
      "text/plain": [
       "array(['heart', 'want', 'disgust', 'hate', 'interested', 'indifferent',\n",
       "       'love', 'super love', 'cherish', 'adore', 'like', 'dislike',\n",
       "       'intrigued', 'peeking', 'scared', 'worried'], dtype=object)"
      ]
     },
     "execution_count": 27,
     "metadata": {},
     "output_type": "execute_result"
    }
   ],
   "source": [
    "#check the unique values in Type\n",
    "df3.Type.unique()"
   ]
  },
  {
   "cell_type": "code",
   "execution_count": 28,
   "id": "a38f0145",
   "metadata": {},
   "outputs": [
    {
     "data": {
      "text/plain": [
       "array(['positive', 'negative', 'neutral'], dtype=object)"
      ]
     },
     "execution_count": 28,
     "metadata": {},
     "output_type": "execute_result"
    }
   ],
   "source": [
    "#check the unique values in Sentiment\n",
    "df3.Sentiment.unique()"
   ]
  },
  {
   "cell_type": "code",
   "execution_count": 29,
   "id": "1c43bd76",
   "metadata": {},
   "outputs": [
    {
     "data": {
      "text/plain": [
       "array([60, 70,  0,  5, 30, 20, 65, 75, 72, 50, 10, 45, 35, 15, 12],\n",
       "      dtype=int64)"
      ]
     },
     "execution_count": 29,
     "metadata": {},
     "output_type": "execute_result"
    }
   ],
   "source": [
    "#check the unique values in Score\n",
    "df3.Score.unique()"
   ]
  },
  {
   "cell_type": "markdown",
   "id": "a616f925",
   "metadata": {},
   "source": [
    "### Quality issues\n",
    "#### Content dataset (df1)\n",
    "\n",
    "* Content ID and User ID column names are not convenient to use\n",
    "* Type column name is not appropriate\n",
    "* User ID column is present\n",
    "* Missing data is present in URL\n",
    "* Category column contains different format of values\n",
    "\n",
    "#### Reactions dataset (df2)\n",
    "\n",
    "* Content ID and User ID column names are not convenient to use\n",
    "* Datetime column datatype is string which should not be\n",
    "* Missing data is present in User ID\n",
    "* Missing data is present in Type"
   ]
  },
  {
   "cell_type": "markdown",
   "id": "9d273176",
   "metadata": {},
   "source": [
    "### Tidiness issues\n",
    "\n",
    "* The first two tables and the Score column from the third dataset are not merged together"
   ]
  },
  {
   "cell_type": "markdown",
   "id": "3f7427c7",
   "metadata": {},
   "source": [
    "### Cleaning"
   ]
  },
  {
   "cell_type": "markdown",
   "id": "03284072",
   "metadata": {},
   "source": [
    "### Quality Issues"
   ]
  },
  {
   "cell_type": "code",
   "execution_count": 30,
   "id": "9e42b7b9",
   "metadata": {},
   "outputs": [],
   "source": [
    "#make a copy of the 3 dataset before cleaning\n",
    "#rename `Content ID` to ContendID\n",
    "df1_copy = df1.copy()\n",
    "df2_copy = df2.copy()\n",
    "df3_copy = df3.copy()"
   ]
  },
  {
   "cell_type": "markdown",
   "id": "c78e4ac8",
   "metadata": {},
   "source": [
    "#### Content dataset (df1)"
   ]
  },
  {
   "cell_type": "markdown",
   "id": "d079d84c",
   "metadata": {},
   "source": [
    "#### Define\n",
    "I will rename `Content ID` to `ContendID`, and `User ID` to `UserID`"
   ]
  },
  {
   "cell_type": "markdown",
   "id": "08ef29c0",
   "metadata": {},
   "source": [
    "#### Code"
   ]
  },
  {
   "cell_type": "code",
   "execution_count": 31,
   "id": "729ee2d9",
   "metadata": {},
   "outputs": [],
   "source": [
    "#rename Content ID to ContendID\n",
    "df1.rename(columns={'Content ID':'ContentID','User ID':'UserID'}, inplace=True)"
   ]
  },
  {
   "cell_type": "markdown",
   "id": "a598d9ee",
   "metadata": {},
   "source": [
    "#### Test"
   ]
  },
  {
   "cell_type": "code",
   "execution_count": 32,
   "id": "3af7836c",
   "metadata": {},
   "outputs": [
    {
     "data": {
      "text/plain": [
       "Index(['ContentID', 'UserID', 'Type', 'Category', 'URL'], dtype='object')"
      ]
     },
     "execution_count": 32,
     "metadata": {},
     "output_type": "execute_result"
    }
   ],
   "source": [
    "#list the column names\n",
    "df1.columns"
   ]
  },
  {
   "cell_type": "markdown",
   "id": "338ed228",
   "metadata": {},
   "source": [
    "#### Define\n",
    "I will rename `Type` to `ContendType`"
   ]
  },
  {
   "cell_type": "markdown",
   "id": "ef91a2c1",
   "metadata": {},
   "source": [
    "#### Code"
   ]
  },
  {
   "cell_type": "code",
   "execution_count": 33,
   "id": "f23607ef",
   "metadata": {},
   "outputs": [],
   "source": [
    "#rename Content ID to ContendID\n",
    "df1.rename(columns={'Type':'ContentType'}, inplace=True)"
   ]
  },
  {
   "cell_type": "markdown",
   "id": "ddfa2e1e",
   "metadata": {},
   "source": [
    "#### Test"
   ]
  },
  {
   "cell_type": "code",
   "execution_count": 34,
   "id": "650dc5c6",
   "metadata": {},
   "outputs": [
    {
     "data": {
      "text/plain": [
       "Index(['ContentID', 'UserID', 'ContentType', 'Category', 'URL'], dtype='object')"
      ]
     },
     "execution_count": 34,
     "metadata": {},
     "output_type": "execute_result"
    }
   ],
   "source": [
    "#list the column names\n",
    "df1.columns"
   ]
  },
  {
   "cell_type": "markdown",
   "id": "6e5548cc",
   "metadata": {},
   "source": [
    "#### Define\n",
    "Drop the UserID column since it will not be needed during the analysis"
   ]
  },
  {
   "cell_type": "markdown",
   "id": "6c902919",
   "metadata": {},
   "source": [
    "#### Code"
   ]
  },
  {
   "cell_type": "code",
   "execution_count": 35,
   "id": "391f3a15",
   "metadata": {},
   "outputs": [],
   "source": [
    "#drop UserID column\n",
    "df1.drop(columns='UserID', inplace=True)"
   ]
  },
  {
   "cell_type": "markdown",
   "id": "20aed348",
   "metadata": {},
   "source": [
    "#### Test"
   ]
  },
  {
   "cell_type": "code",
   "execution_count": 36,
   "id": "e598c6e5",
   "metadata": {},
   "outputs": [
    {
     "data": {
      "text/plain": [
       "Index(['ContentID', 'ContentType', 'Category', 'URL'], dtype='object')"
      ]
     },
     "execution_count": 36,
     "metadata": {},
     "output_type": "execute_result"
    }
   ],
   "source": [
    "#see if UserID column exists\n",
    "df1.columns"
   ]
  },
  {
   "cell_type": "markdown",
   "id": "718721af",
   "metadata": {},
   "source": [
    "#### Define\n",
    "Drop the URL column since it will not be needed during the analysis"
   ]
  },
  {
   "cell_type": "markdown",
   "id": "b66f478e",
   "metadata": {},
   "source": [
    "#### Code"
   ]
  },
  {
   "cell_type": "code",
   "execution_count": 37,
   "id": "807b70ff",
   "metadata": {},
   "outputs": [],
   "source": [
    "#drop URL column\n",
    "df1.drop(columns='URL', inplace=True)"
   ]
  },
  {
   "cell_type": "markdown",
   "id": "091a2242",
   "metadata": {},
   "source": [
    "#### Test"
   ]
  },
  {
   "cell_type": "code",
   "execution_count": 38,
   "id": "a39ed764",
   "metadata": {},
   "outputs": [
    {
     "data": {
      "text/plain": [
       "Index(['ContentID', 'ContentType', 'Category'], dtype='object')"
      ]
     },
     "execution_count": 38,
     "metadata": {},
     "output_type": "execute_result"
    }
   ],
   "source": [
    "#see if URL column exists\n",
    "df1.columns"
   ]
  },
  {
   "cell_type": "markdown",
   "id": "0dad75bf",
   "metadata": {},
   "source": [
    "#### Define\n",
    "Values in the `Category` column will be standardized by stripping out the quotes and converting all to lower case"
   ]
  },
  {
   "cell_type": "markdown",
   "id": "b2bb1f7a",
   "metadata": {},
   "source": [
    "#### Code"
   ]
  },
  {
   "cell_type": "code",
   "execution_count": 39,
   "id": "fb9fc977",
   "metadata": {},
   "outputs": [],
   "source": [
    "#strip off the quotes that are present in some\n",
    "df1.Category = df1.Category.str.strip('\"\"')\n",
    "#turn the values to all lower case\n",
    "df1.Category = df1.Category.str.lower()"
   ]
  },
  {
   "cell_type": "markdown",
   "id": "7d6fa13a",
   "metadata": {},
   "source": [
    "#### Test"
   ]
  },
  {
   "cell_type": "code",
   "execution_count": 40,
   "id": "67de8046",
   "metadata": {},
   "outputs": [
    {
     "data": {
      "text/plain": [
       "technology         73\n",
       "animals            72\n",
       "travel             69\n",
       "science            68\n",
       "culture            67\n",
       "fitness            66\n",
       "food               64\n",
       "soccer             64\n",
       "healthy eating     62\n",
       "cooking            61\n",
       "tennis             59\n",
       "education          59\n",
       "studying           58\n",
       "dogs               58\n",
       "public speaking    50\n",
       "veganism           50\n",
       "Name: Category, dtype: int64"
      ]
     },
     "execution_count": 40,
     "metadata": {},
     "output_type": "execute_result"
    }
   ],
   "source": [
    "#see if the values are in the same format\n",
    "df1.Category.value_counts()"
   ]
  },
  {
   "cell_type": "markdown",
   "id": "04f2103b",
   "metadata": {},
   "source": [
    "#### Reactions dataset (df2)"
   ]
  },
  {
   "cell_type": "markdown",
   "id": "a8f13806",
   "metadata": {},
   "source": [
    "#### Define\n",
    "I will rename `Content ID` to `ContendID`, and `User ID` to `UserID`"
   ]
  },
  {
   "cell_type": "markdown",
   "id": "626a0d6e",
   "metadata": {},
   "source": [
    "#### Code"
   ]
  },
  {
   "cell_type": "code",
   "execution_count": 41,
   "id": "62ebe04a",
   "metadata": {},
   "outputs": [],
   "source": [
    "#rename Content ID to ContendID\n",
    "df2.rename(columns={'Content ID':'ContentID','User ID':'UserID'}, inplace=True)"
   ]
  },
  {
   "cell_type": "markdown",
   "id": "24bb19d1",
   "metadata": {},
   "source": [
    "#### Test"
   ]
  },
  {
   "cell_type": "code",
   "execution_count": 42,
   "id": "c6c1c513",
   "metadata": {},
   "outputs": [
    {
     "data": {
      "text/plain": [
       "Index(['ContentID', 'UserID', 'Type', 'Datetime'], dtype='object')"
      ]
     },
     "execution_count": 42,
     "metadata": {},
     "output_type": "execute_result"
    }
   ],
   "source": [
    "#list the column names\n",
    "df2.columns"
   ]
  },
  {
   "cell_type": "markdown",
   "id": "7a72ee9b",
   "metadata": {},
   "source": [
    "#### Define\n",
    "I will change `datetime` datatype to `datetime` datatype"
   ]
  },
  {
   "cell_type": "markdown",
   "id": "59a83701",
   "metadata": {},
   "source": [
    "#### Code"
   ]
  },
  {
   "cell_type": "code",
   "execution_count": 43,
   "id": "620cc67c",
   "metadata": {},
   "outputs": [],
   "source": [
    "#change datetime datatype to datetime\n",
    "df2.Datetime = pd.to_datetime(df2.Datetime)"
   ]
  },
  {
   "cell_type": "markdown",
   "id": "57590944",
   "metadata": {},
   "source": [
    "#### Test"
   ]
  },
  {
   "cell_type": "code",
   "execution_count": 44,
   "id": "7fc9e59a",
   "metadata": {},
   "outputs": [
    {
     "data": {
      "text/plain": [
       "ContentID            object\n",
       "UserID               object\n",
       "Type                 object\n",
       "Datetime     datetime64[ns]\n",
       "dtype: object"
      ]
     },
     "execution_count": 44,
     "metadata": {},
     "output_type": "execute_result"
    }
   ],
   "source": [
    "#see the datatype of the columns\n",
    "df2.dtypes"
   ]
  },
  {
   "cell_type": "markdown",
   "id": "4d316ca2",
   "metadata": {},
   "source": [
    "#### Define\n",
    "Drop the UserID column since it will not be needed during the analysis"
   ]
  },
  {
   "cell_type": "markdown",
   "id": "135e69e4",
   "metadata": {},
   "source": [
    "#### Code"
   ]
  },
  {
   "cell_type": "code",
   "execution_count": 45,
   "id": "61f71b9c",
   "metadata": {},
   "outputs": [],
   "source": [
    "#drop UserID column\n",
    "df2.drop(columns='UserID', inplace=True)"
   ]
  },
  {
   "cell_type": "markdown",
   "id": "ed8ba63e",
   "metadata": {},
   "source": [
    "#### Test"
   ]
  },
  {
   "cell_type": "code",
   "execution_count": 46,
   "id": "f5e7ebaf",
   "metadata": {},
   "outputs": [
    {
     "data": {
      "text/plain": [
       "Index(['ContentID', 'Type', 'Datetime'], dtype='object')"
      ]
     },
     "execution_count": 46,
     "metadata": {},
     "output_type": "execute_result"
    }
   ],
   "source": [
    "#see if UserID column exists\n",
    "df2.columns"
   ]
  },
  {
   "cell_type": "markdown",
   "id": "493f6f2f",
   "metadata": {},
   "source": [
    "#### Define\n",
    "I will drop rows that has missing values for the `Type` column"
   ]
  },
  {
   "cell_type": "markdown",
   "id": "1a4fbfd8",
   "metadata": {},
   "source": [
    "#### Code"
   ]
  },
  {
   "cell_type": "code",
   "execution_count": 47,
   "id": "e1b0d113",
   "metadata": {},
   "outputs": [],
   "source": [
    "#drop rows that has missing values for the Type column\n",
    "df2.dropna(subset='Type', inplace=True)"
   ]
  },
  {
   "cell_type": "markdown",
   "id": "bc3dbc64",
   "metadata": {},
   "source": [
    "#### Test"
   ]
  },
  {
   "cell_type": "code",
   "execution_count": 48,
   "id": "aff99a42",
   "metadata": {},
   "outputs": [
    {
     "data": {
      "text/plain": [
       "ContentID    0\n",
       "Type         0\n",
       "Datetime     0\n",
       "dtype: int64"
      ]
     },
     "execution_count": 48,
     "metadata": {},
     "output_type": "execute_result"
    }
   ],
   "source": [
    "#see if missing values exist\n",
    "df2.isna().sum()"
   ]
  },
  {
   "cell_type": "markdown",
   "id": "20043e76",
   "metadata": {},
   "source": [
    "#### Reaction Types dataset (df3)"
   ]
  },
  {
   "cell_type": "markdown",
   "id": "bfc333f4",
   "metadata": {},
   "source": [
    "### Tidiness Issues"
   ]
  },
  {
   "cell_type": "markdown",
   "id": "ff6ab7ec",
   "metadata": {},
   "source": [
    "#### Define\n",
    "I will merge df1 and df2 on `ContentID` and also add a Score column from df3 to the merged dataset"
   ]
  },
  {
   "cell_type": "markdown",
   "id": "139ed2c6",
   "metadata": {},
   "source": [
    "#### Code"
   ]
  },
  {
   "cell_type": "code",
   "execution_count": 49,
   "id": "0b4f268f",
   "metadata": {},
   "outputs": [],
   "source": [
    "#merge df1 and df2 on ContentID\n",
    "df_master = pd.merge(df1, df2, on=['ContentID'])"
   ]
  },
  {
   "cell_type": "code",
   "execution_count": 50,
   "id": "9bc2b17b",
   "metadata": {},
   "outputs": [],
   "source": [
    "#make a function that returns the score for a reaction type, using df3\n",
    "def score(reaction):\n",
    "    reaction_types = list(df3.Type)\n",
    "    if reaction in reaction_types:\n",
    "        return (df3.loc[df3.Type == reaction].Score[reaction_types.index(reaction)])\n",
    "    else:\n",
    "        raise ValueError(\"wrong type\")"
   ]
  },
  {
   "cell_type": "code",
   "execution_count": 51,
   "id": "7003f512",
   "metadata": {},
   "outputs": [],
   "source": [
    "#create Score column in df_master to keep track of the score for each reaction\n",
    "df_master['Score'] = df_master.Type.apply(score)"
   ]
  },
  {
   "cell_type": "markdown",
   "id": "cde70fc3",
   "metadata": {},
   "source": [
    "#### Test"
   ]
  },
  {
   "cell_type": "code",
   "execution_count": 52,
   "id": "05717578",
   "metadata": {
    "scrolled": true
   },
   "outputs": [
    {
     "name": "stdout",
     "output_type": "stream",
     "text": [
      "<class 'pandas.core.frame.DataFrame'>\n",
      "Int64Index: 24573 entries, 0 to 24572\n",
      "Data columns (total 6 columns):\n",
      " #   Column       Non-Null Count  Dtype         \n",
      "---  ------       --------------  -----         \n",
      " 0   ContentID    24573 non-null  object        \n",
      " 1   ContentType  24573 non-null  object        \n",
      " 2   Category     24573 non-null  object        \n",
      " 3   Type         24573 non-null  object        \n",
      " 4   Datetime     24573 non-null  datetime64[ns]\n",
      " 5   Score        24573 non-null  int64         \n",
      "dtypes: datetime64[ns](1), int64(1), object(4)\n",
      "memory usage: 1.3+ MB\n"
     ]
    }
   ],
   "source": [
    "#see the datatype of the columns\n",
    "df_master.info()"
   ]
  },
  {
   "cell_type": "code",
   "execution_count": 53,
   "id": "3c6fbf2b",
   "metadata": {},
   "outputs": [],
   "source": [
    "#convert dataframe to csv\n",
    "df_master.to_csv('accenture_master.csv')"
   ]
  },
  {
   "cell_type": "markdown",
   "id": "d11b462a",
   "metadata": {},
   "source": [
    "### Visualization"
   ]
  },
  {
   "cell_type": "markdown",
   "id": "8d64ad46",
   "metadata": {},
   "source": [
    "### Dataset structure\n",
    "The master dataset that I will be using has 18,384 rows and 9 columns. Most of the features datatypes are object(strings) while only two are int and datetime datatype."
   ]
  },
  {
   "cell_type": "markdown",
   "id": "9fb7de1f",
   "metadata": {},
   "source": [
    "### Main feature(s) of interest in your dataset\n",
    "My main feature of interest is Category. I want to know the most popular category on `SocialBuzz`"
   ]
  },
  {
   "cell_type": "markdown",
   "id": "ccb2cbd5",
   "metadata": {},
   "source": [
    "### Features in the dataset that will help support my investigation into the feature(s) of interest\n",
    "I would like to use Type and Score to help me in finding the most popular content categories on `SocialBuzz`. I will also use the Datetime variable to know the month people reacted most."
   ]
  },
  {
   "cell_type": "markdown",
   "id": "5fcdb5ec",
   "metadata": {},
   "source": [
    "### Univariate Exploration¶\n",
    "I will begin my exploration with Category, my main feature of interest"
   ]
  },
  {
   "cell_type": "markdown",
   "id": "75b1e529",
   "metadata": {},
   "source": [
    "#### Distribution of Category"
   ]
  },
  {
   "cell_type": "code",
   "execution_count": 54,
   "id": "4f357997",
   "metadata": {
    "scrolled": true
   },
   "outputs": [
    {
     "data": {
      "text/plain": [
       "animals            1897\n",
       "science            1796\n",
       "healthy eating     1717\n",
       "food               1699\n",
       "technology         1698\n",
       "culture            1676\n",
       "cooking            1664\n",
       "travel             1647\n",
       "soccer             1457\n",
       "education          1433\n",
       "fitness            1395\n",
       "studying           1363\n",
       "dogs               1338\n",
       "tennis             1328\n",
       "veganism           1248\n",
       "public speaking    1217\n",
       "Name: Category, dtype: int64"
      ]
     },
     "execution_count": 54,
     "metadata": {},
     "output_type": "execute_result"
    }
   ],
   "source": [
    "#see the overview of values in Category\n",
    "df_master.Category.value_counts()"
   ]
  },
  {
   "cell_type": "code",
   "execution_count": 55,
   "id": "3b2ed7ac",
   "metadata": {},
   "outputs": [
    {
     "data": {
      "image/png": "[encoded data removed]",
      "text/plain": [
       "<Figure size 640x480 with 1 Axes>"
      ]
     },
     "metadata": {},
     "output_type": "display_data"
    }
   ],
   "source": [
    "#get the content categories frequency and their indices\n",
    "base_color = sb.color_palette()[3]\n",
    "freq = df_master.Category.value_counts()\n",
    "content_category_order = freq.index\n",
    "#plot the bar chart of content categories in decreasing order of frequency\n",
    "sb.countplot(data=df_master, x='Category', color=base_color, order=content_category_order);\n",
    "plt.xticks(rotation = 90);\n",
    "plt.xlabel('Distribution of Content Categories');"
   ]
  },
  {
   "cell_type": "markdown",
   "id": "633c221e",
   "metadata": {},
   "source": [
    "In the above plot, animals category is the most posted content category, followed by science. The least posted content category is public speaking."
   ]
  },
  {
   "cell_type": "markdown",
   "id": "624cf593",
   "metadata": {},
   "source": [
    "#### Distribution of Type"
   ]
  },
  {
   "cell_type": "markdown",
   "id": "dbb3c8eb",
   "metadata": {},
   "source": [
    "Next, I will explore the distribution of `Type` variable"
   ]
  },
  {
   "cell_type": "code",
   "execution_count": 56,
   "id": "43fdf712",
   "metadata": {
    "scrolled": true
   },
   "outputs": [
    {
     "data": {
      "text/plain": [
       "heart          1622\n",
       "scared         1572\n",
       "peeking        1559\n",
       "hate           1552\n",
       "interested     1549\n",
       "dislike        1548\n",
       "adore          1548\n",
       "want           1539\n",
       "love           1534\n",
       "disgust        1526\n",
       "like           1520\n",
       "super love     1519\n",
       "indifferent    1512\n",
       "cherish        1501\n",
       "worried        1497\n",
       "intrigued      1475\n",
       "Name: Type, dtype: int64"
      ]
     },
     "execution_count": 56,
     "metadata": {},
     "output_type": "execute_result"
    }
   ],
   "source": [
    "#see the overview of values in Type\n",
    "df_master.Type.value_counts()"
   ]
  },
  {
   "cell_type": "code",
   "execution_count": 57,
   "id": "06d59dd8",
   "metadata": {
    "scrolled": true
   },
   "outputs": [
    {
     "data": {
      "image/png": "[encoded data removed]",
      "text/plain": [
       "<Figure size 640x480 with 1 Axes>"
      ]
     },
     "metadata": {},
     "output_type": "display_data"
    }
   ],
   "source": [
    "#get the Type categories frequency and their indices\n",
    "base_color = sb.color_palette()[4]\n",
    "freq = df_master.Type.value_counts()\n",
    "type_category_order = freq.index\n",
    "#plot the bar chart of Type categories in decreasing order of frequency\n",
    "sb.countplot(data=df_master, x='Type', color=base_color, order=type_category_order);\n",
    "plt.xticks(rotation = 90);\n",
    "plt.xlabel('Distribution of Types');"
   ]
  },
  {
   "cell_type": "markdown",
   "id": "927b5d10",
   "metadata": {},
   "source": [
    "The plot above reveals that we have little difference in the frequency of each type as evidenced by the close height of the bars. Interestingly, `heart` type is the most used and `intrigued` type is the least used."
   ]
  },
  {
   "cell_type": "markdown",
   "id": "97586cb5",
   "metadata": {},
   "source": [
    "#### Distribution of Score"
   ]
  },
  {
   "cell_type": "markdown",
   "id": "2067fd67",
   "metadata": {},
   "source": [
    "I will now explore the distribution of the `Score` variable"
   ]
  },
  {
   "cell_type": "code",
   "execution_count": 58,
   "id": "d6e5ce2f",
   "metadata": {},
   "outputs": [
    {
     "data": {
      "text/plain": [
       "count    24573.000000\n",
       "mean        39.622553\n",
       "std         26.043011\n",
       "min          0.000000\n",
       "25%         15.000000\n",
       "50%         35.000000\n",
       "75%         65.000000\n",
       "max         75.000000\n",
       "Name: Score, dtype: float64"
      ]
     },
     "execution_count": 58,
     "metadata": {},
     "output_type": "execute_result"
    }
   ],
   "source": [
    "#display basic statistics of the variable\n",
    "df_master.Score.describe()"
   ]
  },
  {
   "cell_type": "code",
   "execution_count": 59,
   "id": "5d90dda5",
   "metadata": {
    "scrolled": true
   },
   "outputs": [
    {
     "data": {
      "image/png": "[encoded data removed]",
      "text/plain": [
       "<Figure size 640x480 with 1 Axes>"
      ]
     },
     "metadata": {},
     "output_type": "display_data"
    }
   ],
   "source": [
    "#plot the histogram distribution of Score\n",
    "bins = np.arange(0, df_master.Score.max()+5, 5)\n",
    "plt.hist(data = df_master, x = 'Score', bins = bins);\n",
    "plt.xlabel('Distribution of Score');"
   ]
  },
  {
   "cell_type": "markdown",
   "id": "6718701d",
   "metadata": {},
   "source": [
    "Since the Score variable is not continuous, there are gaps in the distribution of the dataset. The distribution has two peaks (bimodal)"
   ]
  },
  {
   "cell_type": "markdown",
   "id": "7d95027f",
   "metadata": {},
   "source": [
    "### Popular month that people reacted most\n",
    "I will now investigate the popular month in which reactions are much"
   ]
  },
  {
   "cell_type": "code",
   "execution_count": 60,
   "id": "dfb44766",
   "metadata": {},
   "outputs": [
    {
     "data": {
      "text/html": [
       "<div>\n",
       "<style scoped>\n",
       "    .dataframe tbody tr th:only-of-type {\n",
       "        vertical-align: middle;\n",
       "    }\n",
       "\n",
       "    .dataframe tbody tr th {\n",
       "        vertical-align: top;\n",
       "    }\n",
       "\n",
       "    .dataframe thead th {\n",
       "        text-align: right;\n",
       "    }\n",
       "</style>\n",
       "<table border=\"1\" class=\"dataframe\">\n",
       "  <thead>\n",
       "    <tr style=\"text-align: right;\">\n",
       "      <th></th>\n",
       "      <th>month</th>\n",
       "    </tr>\n",
       "    <tr>\n",
       "      <th>index</th>\n",
       "      <th></th>\n",
       "    </tr>\n",
       "  </thead>\n",
       "  <tbody>\n",
       "    <tr>\n",
       "      <th>0</th>\n",
       "      <td>11</td>\n",
       "    </tr>\n",
       "    <tr>\n",
       "      <th>1</th>\n",
       "      <td>6</td>\n",
       "    </tr>\n",
       "    <tr>\n",
       "      <th>2</th>\n",
       "      <td>4</td>\n",
       "    </tr>\n",
       "    <tr>\n",
       "      <th>3</th>\n",
       "      <td>1</td>\n",
       "    </tr>\n",
       "    <tr>\n",
       "      <th>4</th>\n",
       "      <td>8</td>\n",
       "    </tr>\n",
       "    <tr>\n",
       "      <th>...</th>\n",
       "      <td>...</td>\n",
       "    </tr>\n",
       "    <tr>\n",
       "      <th>24568</th>\n",
       "      <td>6</td>\n",
       "    </tr>\n",
       "    <tr>\n",
       "      <th>24569</th>\n",
       "      <td>2</td>\n",
       "    </tr>\n",
       "    <tr>\n",
       "      <th>24570</th>\n",
       "      <td>9</td>\n",
       "    </tr>\n",
       "    <tr>\n",
       "      <th>24571</th>\n",
       "      <td>11</td>\n",
       "    </tr>\n",
       "    <tr>\n",
       "      <th>24572</th>\n",
       "      <td>1</td>\n",
       "    </tr>\n",
       "  </tbody>\n",
       "</table>\n",
       "<p>24573 rows × 1 columns</p>\n",
       "</div>"
      ],
      "text/plain": [
       "       month\n",
       "index       \n",
       "0         11\n",
       "1          6\n",
       "2          4\n",
       "3          1\n",
       "4          8\n",
       "...      ...\n",
       "24568      6\n",
       "24569      2\n",
       "24570      9\n",
       "24571     11\n",
       "24572      1\n",
       "\n",
       "[24573 rows x 1 columns]"
      ]
     },
     "execution_count": 60,
     "metadata": {},
     "output_type": "execute_result"
    }
   ],
   "source": [
    "#create a new dataframe that include month only, then get the most frequent month\n",
    "df_month = df_master.Datetime.dt.month.reset_index(name='month').set_index('index')\n",
    "df_month"
   ]
  },
  {
   "cell_type": "code",
   "execution_count": 61,
   "id": "0191b699",
   "metadata": {},
   "outputs": [
    {
     "data": {
      "text/html": [
       "<div>\n",
       "<style scoped>\n",
       "    .dataframe tbody tr th:only-of-type {\n",
       "        vertical-align: middle;\n",
       "    }\n",
       "\n",
       "    .dataframe tbody tr th {\n",
       "        vertical-align: top;\n",
       "    }\n",
       "\n",
       "    .dataframe thead th {\n",
       "        text-align: right;\n",
       "    }\n",
       "</style>\n",
       "<table border=\"1\" class=\"dataframe\">\n",
       "  <thead>\n",
       "    <tr style=\"text-align: right;\">\n",
       "      <th></th>\n",
       "      <th>month</th>\n",
       "    </tr>\n",
       "    <tr>\n",
       "      <th>index</th>\n",
       "      <th></th>\n",
       "    </tr>\n",
       "  </thead>\n",
       "  <tbody>\n",
       "    <tr>\n",
       "      <th>0</th>\n",
       "      <td>November</td>\n",
       "    </tr>\n",
       "    <tr>\n",
       "      <th>1</th>\n",
       "      <td>June</td>\n",
       "    </tr>\n",
       "    <tr>\n",
       "      <th>2</th>\n",
       "      <td>April</td>\n",
       "    </tr>\n",
       "    <tr>\n",
       "      <th>3</th>\n",
       "      <td>January</td>\n",
       "    </tr>\n",
       "    <tr>\n",
       "      <th>4</th>\n",
       "      <td>August</td>\n",
       "    </tr>\n",
       "    <tr>\n",
       "      <th>...</th>\n",
       "      <td>...</td>\n",
       "    </tr>\n",
       "    <tr>\n",
       "      <th>24568</th>\n",
       "      <td>June</td>\n",
       "    </tr>\n",
       "    <tr>\n",
       "      <th>24569</th>\n",
       "      <td>February</td>\n",
       "    </tr>\n",
       "    <tr>\n",
       "      <th>24570</th>\n",
       "      <td>September</td>\n",
       "    </tr>\n",
       "    <tr>\n",
       "      <th>24571</th>\n",
       "      <td>November</td>\n",
       "    </tr>\n",
       "    <tr>\n",
       "      <th>24572</th>\n",
       "      <td>January</td>\n",
       "    </tr>\n",
       "  </tbody>\n",
       "</table>\n",
       "<p>24573 rows × 1 columns</p>\n",
       "</div>"
      ],
      "text/plain": [
       "           month\n",
       "index           \n",
       "0       November\n",
       "1           June\n",
       "2          April\n",
       "3        January\n",
       "4         August\n",
       "...          ...\n",
       "24568       June\n",
       "24569   February\n",
       "24570  September\n",
       "24571   November\n",
       "24572    January\n",
       "\n",
       "[24573 rows x 1 columns]"
      ]
     },
     "execution_count": 61,
     "metadata": {},
     "output_type": "execute_result"
    }
   ],
   "source": [
    "#create a list to map the month number to their name\n",
    "months_tuple = ['month','January','February','March','April','May','June','July','August','September','October','November','December']\n",
    "#replace the month numbers with their name\n",
    "df_month.month = df_month.month.apply(lambda x: months_tuple[x])\n",
    "df_month"
   ]
  },
  {
   "cell_type": "code",
   "execution_count": 62,
   "id": "972e8470",
   "metadata": {},
   "outputs": [
    {
     "data": {
      "text/html": [
       "<div>\n",
       "<style scoped>\n",
       "    .dataframe tbody tr th:only-of-type {\n",
       "        vertical-align: middle;\n",
       "    }\n",
       "\n",
       "    .dataframe tbody tr th {\n",
       "        vertical-align: top;\n",
       "    }\n",
       "\n",
       "    .dataframe thead th {\n",
       "        text-align: right;\n",
       "    }\n",
       "</style>\n",
       "<table border=\"1\" class=\"dataframe\">\n",
       "  <thead>\n",
       "    <tr style=\"text-align: right;\">\n",
       "      <th></th>\n",
       "      <th>month</th>\n",
       "      <th>count</th>\n",
       "    </tr>\n",
       "  </thead>\n",
       "  <tbody>\n",
       "    <tr>\n",
       "      <th>0</th>\n",
       "      <td>April</td>\n",
       "      <td>1974</td>\n",
       "    </tr>\n",
       "    <tr>\n",
       "      <th>1</th>\n",
       "      <td>August</td>\n",
       "      <td>2114</td>\n",
       "    </tr>\n",
       "    <tr>\n",
       "      <th>2</th>\n",
       "      <td>December</td>\n",
       "      <td>2092</td>\n",
       "    </tr>\n",
       "    <tr>\n",
       "      <th>3</th>\n",
       "      <td>February</td>\n",
       "      <td>1914</td>\n",
       "    </tr>\n",
       "    <tr>\n",
       "      <th>4</th>\n",
       "      <td>January</td>\n",
       "      <td>2126</td>\n",
       "    </tr>\n",
       "    <tr>\n",
       "      <th>5</th>\n",
       "      <td>July</td>\n",
       "      <td>2070</td>\n",
       "    </tr>\n",
       "    <tr>\n",
       "      <th>6</th>\n",
       "      <td>June</td>\n",
       "      <td>2021</td>\n",
       "    </tr>\n",
       "    <tr>\n",
       "      <th>7</th>\n",
       "      <td>March</td>\n",
       "      <td>2012</td>\n",
       "    </tr>\n",
       "    <tr>\n",
       "      <th>8</th>\n",
       "      <td>May</td>\n",
       "      <td>2138</td>\n",
       "    </tr>\n",
       "    <tr>\n",
       "      <th>9</th>\n",
       "      <td>November</td>\n",
       "      <td>2034</td>\n",
       "    </tr>\n",
       "    <tr>\n",
       "      <th>10</th>\n",
       "      <td>October</td>\n",
       "      <td>2056</td>\n",
       "    </tr>\n",
       "    <tr>\n",
       "      <th>11</th>\n",
       "      <td>September</td>\n",
       "      <td>2022</td>\n",
       "    </tr>\n",
       "  </tbody>\n",
       "</table>\n",
       "</div>"
      ],
      "text/plain": [
       "        month  count\n",
       "0       April   1974\n",
       "1      August   2114\n",
       "2    December   2092\n",
       "3    February   1914\n",
       "4     January   2126\n",
       "5        July   2070\n",
       "6        June   2021\n",
       "7       March   2012\n",
       "8         May   2138\n",
       "9    November   2034\n",
       "10    October   2056\n",
       "11  September   2022"
      ]
     },
     "execution_count": 62,
     "metadata": {},
     "output_type": "execute_result"
    }
   ],
   "source": [
    "#group the data by the month amd generate a new dataframe\n",
    "df_month = df_month.groupby('month').value_counts().reset_index(name = 'count')\n",
    "df_month"
   ]
  },
  {
   "cell_type": "code",
   "execution_count": 63,
   "id": "f676f1c7",
   "metadata": {},
   "outputs": [],
   "source": [
    "#sort values using count column in descending order\n",
    "df_month.sort_values(by = 'count', ascending = False, inplace=True)"
   ]
  },
  {
   "cell_type": "code",
   "execution_count": 64,
   "id": "d870f23b",
   "metadata": {},
   "outputs": [
    {
     "data": {
      "image/png": "[encoded data removed]",
      "text/plain": [
       "<Figure size 640x480 with 1 Axes>"
      ]
     },
     "metadata": {},
     "output_type": "display_data"
    }
   ],
   "source": [
    "#plot the barchart of each month\n",
    "base_color = sb.color_palette()[9]\n",
    "sb.barplot(data= df_month, x ='count', y = 'month', color=base_color);"
   ]
  },
  {
   "cell_type": "markdown",
   "id": "dc6b8131",
   "metadata": {},
   "source": [
    "The chart shows that people reacted most in the month of May, January, August, December and July"
   ]
  },
  {
   "cell_type": "markdown",
   "id": "0e0a0b2e",
   "metadata": {},
   "source": [
    "### Distribution of the variable of interest\n",
    "Since the `Category` variable is a qualitative one, the bar chart shows that `animals` category is the most posted content category, followed by `science`. The least posted content category is `public speaking`."
   ]
  },
  {
   "cell_type": "markdown",
   "id": "9cf08c40",
   "metadata": {},
   "source": [
    "### Distribution of the supporting variables\n"
   ]
  },
  {
   "cell_type": "markdown",
   "id": "1de0c40e",
   "metadata": {},
   "source": [
    "The bar chart plot for the `Type` variable reveals that we have little difference in the frequency of each type as evidenced by the close height of the bars. Interestingly, heart type is the most used and intrigued type is the least used.\n",
    "\n",
    "Since the `Score` variable is not continuous, there are gaps in the distribution of the dataset as shown on the histogram. The distribution has two peaks (bimodal)\n",
    "\n",
    "The Datetime analysis shows that people reacted most in the month of May, January, August, December and July. I will not go ahead analyzing the Datetime column, as I have discovered the trend needed."
   ]
  },
  {
   "cell_type": "markdown",
   "id": "a3aa6dbb",
   "metadata": {},
   "source": [
    "## Bivariate Exploration\n",
    "To continue my research, I will now look at the relationships between my variable of interest (`Category`) and other supporting variables (`Type` and `Score`)"
   ]
  },
  {
   "cell_type": "markdown",
   "id": "7cae8032",
   "metadata": {},
   "source": [
    "#### `Category` Vs. `Type`\n",
    "I will now investigate the relationship between the `Category` variable and the `Type` variable. To obtain a significant insight, I will sum up the frequency of the reactions for each category and plot against each category."
   ]
  },
  {
   "cell_type": "code",
   "execution_count": 65,
   "id": "7f3b7eae",
   "metadata": {},
   "outputs": [
    {
     "data": {
      "text/html": [
       "<div>\n",
       "<style scoped>\n",
       "    .dataframe tbody tr th:only-of-type {\n",
       "        vertical-align: middle;\n",
       "    }\n",
       "\n",
       "    .dataframe tbody tr th {\n",
       "        vertical-align: top;\n",
       "    }\n",
       "\n",
       "    .dataframe thead th {\n",
       "        text-align: right;\n",
       "    }\n",
       "</style>\n",
       "<table border=\"1\" class=\"dataframe\">\n",
       "  <thead>\n",
       "    <tr style=\"text-align: right;\">\n",
       "      <th></th>\n",
       "      <th>Category</th>\n",
       "      <th>Type</th>\n",
       "      <th>count</th>\n",
       "    </tr>\n",
       "  </thead>\n",
       "  <tbody>\n",
       "    <tr>\n",
       "      <th>0</th>\n",
       "      <td>animals</td>\n",
       "      <td>adore</td>\n",
       "      <td>114</td>\n",
       "    </tr>\n",
       "    <tr>\n",
       "      <th>1</th>\n",
       "      <td>animals</td>\n",
       "      <td>cherish</td>\n",
       "      <td>125</td>\n",
       "    </tr>\n",
       "    <tr>\n",
       "      <th>2</th>\n",
       "      <td>animals</td>\n",
       "      <td>disgust</td>\n",
       "      <td>122</td>\n",
       "    </tr>\n",
       "    <tr>\n",
       "      <th>3</th>\n",
       "      <td>animals</td>\n",
       "      <td>dislike</td>\n",
       "      <td>115</td>\n",
       "    </tr>\n",
       "    <tr>\n",
       "      <th>4</th>\n",
       "      <td>animals</td>\n",
       "      <td>hate</td>\n",
       "      <td>128</td>\n",
       "    </tr>\n",
       "    <tr>\n",
       "      <th>...</th>\n",
       "      <td>...</td>\n",
       "      <td>...</td>\n",
       "      <td>...</td>\n",
       "    </tr>\n",
       "    <tr>\n",
       "      <th>251</th>\n",
       "      <td>veganism</td>\n",
       "      <td>peeking</td>\n",
       "      <td>89</td>\n",
       "    </tr>\n",
       "    <tr>\n",
       "      <th>252</th>\n",
       "      <td>veganism</td>\n",
       "      <td>scared</td>\n",
       "      <td>85</td>\n",
       "    </tr>\n",
       "    <tr>\n",
       "      <th>253</th>\n",
       "      <td>veganism</td>\n",
       "      <td>super love</td>\n",
       "      <td>79</td>\n",
       "    </tr>\n",
       "    <tr>\n",
       "      <th>254</th>\n",
       "      <td>veganism</td>\n",
       "      <td>want</td>\n",
       "      <td>77</td>\n",
       "    </tr>\n",
       "    <tr>\n",
       "      <th>255</th>\n",
       "      <td>veganism</td>\n",
       "      <td>worried</td>\n",
       "      <td>81</td>\n",
       "    </tr>\n",
       "  </tbody>\n",
       "</table>\n",
       "<p>256 rows × 3 columns</p>\n",
       "</div>"
      ],
      "text/plain": [
       "     Category        Type  count\n",
       "0     animals       adore    114\n",
       "1     animals     cherish    125\n",
       "2     animals     disgust    122\n",
       "3     animals     dislike    115\n",
       "4     animals        hate    128\n",
       "..        ...         ...    ...\n",
       "251  veganism     peeking     89\n",
       "252  veganism      scared     85\n",
       "253  veganism  super love     79\n",
       "254  veganism        want     77\n",
       "255  veganism     worried     81\n",
       "\n",
       "[256 rows x 3 columns]"
      ]
     },
     "execution_count": 65,
     "metadata": {},
     "output_type": "execute_result"
    }
   ],
   "source": [
    "# Use group_by() and size() to classify the dataset based on Category and Type to obtain pandas Series\n",
    "ct_counts = df_master.groupby(['Category', 'Type']).size()\n",
    "# Use Series.reset_index() to convert a series into a dataframe object\n",
    "ct_counts = ct_counts.reset_index(name='count')\n",
    "ct_counts"
   ]
  },
  {
   "cell_type": "code",
   "execution_count": 66,
   "id": "dd36cb96",
   "metadata": {},
   "outputs": [
    {
     "data": {
      "text/html": [
       "<div>\n",
       "<style scoped>\n",
       "    .dataframe tbody tr th:only-of-type {\n",
       "        vertical-align: middle;\n",
       "    }\n",
       "\n",
       "    .dataframe tbody tr th {\n",
       "        vertical-align: top;\n",
       "    }\n",
       "\n",
       "    .dataframe thead th {\n",
       "        text-align: right;\n",
       "    }\n",
       "</style>\n",
       "<table border=\"1\" class=\"dataframe\">\n",
       "  <thead>\n",
       "    <tr style=\"text-align: right;\">\n",
       "      <th>Type</th>\n",
       "      <th>adore</th>\n",
       "      <th>cherish</th>\n",
       "      <th>disgust</th>\n",
       "      <th>dislike</th>\n",
       "      <th>hate</th>\n",
       "      <th>heart</th>\n",
       "      <th>indifferent</th>\n",
       "      <th>interested</th>\n",
       "      <th>intrigued</th>\n",
       "      <th>like</th>\n",
       "      <th>love</th>\n",
       "      <th>peeking</th>\n",
       "      <th>scared</th>\n",
       "      <th>super love</th>\n",
       "      <th>want</th>\n",
       "      <th>worried</th>\n",
       "    </tr>\n",
       "    <tr>\n",
       "      <th>Category</th>\n",
       "      <th></th>\n",
       "      <th></th>\n",
       "      <th></th>\n",
       "      <th></th>\n",
       "      <th></th>\n",
       "      <th></th>\n",
       "      <th></th>\n",
       "      <th></th>\n",
       "      <th></th>\n",
       "      <th></th>\n",
       "      <th></th>\n",
       "      <th></th>\n",
       "      <th></th>\n",
       "      <th></th>\n",
       "      <th></th>\n",
       "      <th></th>\n",
       "    </tr>\n",
       "  </thead>\n",
       "  <tbody>\n",
       "    <tr>\n",
       "      <th>animals</th>\n",
       "      <td>114</td>\n",
       "      <td>125</td>\n",
       "      <td>122</td>\n",
       "      <td>115</td>\n",
       "      <td>128</td>\n",
       "      <td>120</td>\n",
       "      <td>100</td>\n",
       "      <td>110</td>\n",
       "      <td>116</td>\n",
       "      <td>101</td>\n",
       "      <td>119</td>\n",
       "      <td>129</td>\n",
       "      <td>132</td>\n",
       "      <td>123</td>\n",
       "      <td>122</td>\n",
       "      <td>121</td>\n",
       "    </tr>\n",
       "    <tr>\n",
       "      <th>cooking</th>\n",
       "      <td>106</td>\n",
       "      <td>84</td>\n",
       "      <td>109</td>\n",
       "      <td>115</td>\n",
       "      <td>104</td>\n",
       "      <td>112</td>\n",
       "      <td>81</td>\n",
       "      <td>125</td>\n",
       "      <td>88</td>\n",
       "      <td>114</td>\n",
       "      <td>99</td>\n",
       "      <td>101</td>\n",
       "      <td>120</td>\n",
       "      <td>110</td>\n",
       "      <td>94</td>\n",
       "      <td>102</td>\n",
       "    </tr>\n",
       "    <tr>\n",
       "      <th>culture</th>\n",
       "      <td>95</td>\n",
       "      <td>113</td>\n",
       "      <td>98</td>\n",
       "      <td>112</td>\n",
       "      <td>94</td>\n",
       "      <td>97</td>\n",
       "      <td>111</td>\n",
       "      <td>110</td>\n",
       "      <td>101</td>\n",
       "      <td>97</td>\n",
       "      <td>108</td>\n",
       "      <td>99</td>\n",
       "      <td>117</td>\n",
       "      <td>100</td>\n",
       "      <td>122</td>\n",
       "      <td>102</td>\n",
       "    </tr>\n",
       "    <tr>\n",
       "      <th>dogs</th>\n",
       "      <td>81</td>\n",
       "      <td>72</td>\n",
       "      <td>87</td>\n",
       "      <td>84</td>\n",
       "      <td>87</td>\n",
       "      <td>97</td>\n",
       "      <td>93</td>\n",
       "      <td>91</td>\n",
       "      <td>70</td>\n",
       "      <td>93</td>\n",
       "      <td>73</td>\n",
       "      <td>92</td>\n",
       "      <td>89</td>\n",
       "      <td>84</td>\n",
       "      <td>83</td>\n",
       "      <td>62</td>\n",
       "    </tr>\n",
       "    <tr>\n",
       "      <th>education</th>\n",
       "      <td>83</td>\n",
       "      <td>87</td>\n",
       "      <td>73</td>\n",
       "      <td>91</td>\n",
       "      <td>96</td>\n",
       "      <td>91</td>\n",
       "      <td>89</td>\n",
       "      <td>88</td>\n",
       "      <td>96</td>\n",
       "      <td>90</td>\n",
       "      <td>105</td>\n",
       "      <td>99</td>\n",
       "      <td>80</td>\n",
       "      <td>92</td>\n",
       "      <td>83</td>\n",
       "      <td>90</td>\n",
       "    </tr>\n",
       "    <tr>\n",
       "      <th>fitness</th>\n",
       "      <td>96</td>\n",
       "      <td>73</td>\n",
       "      <td>96</td>\n",
       "      <td>95</td>\n",
       "      <td>71</td>\n",
       "      <td>83</td>\n",
       "      <td>82</td>\n",
       "      <td>81</td>\n",
       "      <td>82</td>\n",
       "      <td>111</td>\n",
       "      <td>88</td>\n",
       "      <td>86</td>\n",
       "      <td>96</td>\n",
       "      <td>100</td>\n",
       "      <td>72</td>\n",
       "      <td>83</td>\n",
       "    </tr>\n",
       "    <tr>\n",
       "      <th>food</th>\n",
       "      <td>93</td>\n",
       "      <td>119</td>\n",
       "      <td>107</td>\n",
       "      <td>106</td>\n",
       "      <td>130</td>\n",
       "      <td>107</td>\n",
       "      <td>97</td>\n",
       "      <td>108</td>\n",
       "      <td>94</td>\n",
       "      <td>100</td>\n",
       "      <td>123</td>\n",
       "      <td>115</td>\n",
       "      <td>101</td>\n",
       "      <td>89</td>\n",
       "      <td>110</td>\n",
       "      <td>100</td>\n",
       "    </tr>\n",
       "    <tr>\n",
       "      <th>healthy eating</th>\n",
       "      <td>122</td>\n",
       "      <td>105</td>\n",
       "      <td>103</td>\n",
       "      <td>101</td>\n",
       "      <td>121</td>\n",
       "      <td>114</td>\n",
       "      <td>108</td>\n",
       "      <td>101</td>\n",
       "      <td>107</td>\n",
       "      <td>106</td>\n",
       "      <td>103</td>\n",
       "      <td>104</td>\n",
       "      <td>100</td>\n",
       "      <td>116</td>\n",
       "      <td>111</td>\n",
       "      <td>95</td>\n",
       "    </tr>\n",
       "    <tr>\n",
       "      <th>public speaking</th>\n",
       "      <td>76</td>\n",
       "      <td>65</td>\n",
       "      <td>69</td>\n",
       "      <td>82</td>\n",
       "      <td>61</td>\n",
       "      <td>88</td>\n",
       "      <td>77</td>\n",
       "      <td>75</td>\n",
       "      <td>92</td>\n",
       "      <td>74</td>\n",
       "      <td>85</td>\n",
       "      <td>65</td>\n",
       "      <td>75</td>\n",
       "      <td>76</td>\n",
       "      <td>81</td>\n",
       "      <td>76</td>\n",
       "    </tr>\n",
       "    <tr>\n",
       "      <th>science</th>\n",
       "      <td>118</td>\n",
       "      <td>103</td>\n",
       "      <td>114</td>\n",
       "      <td>113</td>\n",
       "      <td>102</td>\n",
       "      <td>115</td>\n",
       "      <td>122</td>\n",
       "      <td>118</td>\n",
       "      <td>111</td>\n",
       "      <td>113</td>\n",
       "      <td>119</td>\n",
       "      <td>112</td>\n",
       "      <td>102</td>\n",
       "      <td>92</td>\n",
       "      <td>126</td>\n",
       "      <td>116</td>\n",
       "    </tr>\n",
       "    <tr>\n",
       "      <th>soccer</th>\n",
       "      <td>87</td>\n",
       "      <td>86</td>\n",
       "      <td>91</td>\n",
       "      <td>81</td>\n",
       "      <td>87</td>\n",
       "      <td>93</td>\n",
       "      <td>116</td>\n",
       "      <td>88</td>\n",
       "      <td>93</td>\n",
       "      <td>91</td>\n",
       "      <td>87</td>\n",
       "      <td>84</td>\n",
       "      <td>99</td>\n",
       "      <td>95</td>\n",
       "      <td>97</td>\n",
       "      <td>82</td>\n",
       "    </tr>\n",
       "    <tr>\n",
       "      <th>studying</th>\n",
       "      <td>89</td>\n",
       "      <td>92</td>\n",
       "      <td>77</td>\n",
       "      <td>74</td>\n",
       "      <td>86</td>\n",
       "      <td>101</td>\n",
       "      <td>77</td>\n",
       "      <td>87</td>\n",
       "      <td>84</td>\n",
       "      <td>80</td>\n",
       "      <td>83</td>\n",
       "      <td>93</td>\n",
       "      <td>95</td>\n",
       "      <td>86</td>\n",
       "      <td>66</td>\n",
       "      <td>93</td>\n",
       "    </tr>\n",
       "    <tr>\n",
       "      <th>technology</th>\n",
       "      <td>129</td>\n",
       "      <td>114</td>\n",
       "      <td>110</td>\n",
       "      <td>95</td>\n",
       "      <td>112</td>\n",
       "      <td>114</td>\n",
       "      <td>98</td>\n",
       "      <td>121</td>\n",
       "      <td>87</td>\n",
       "      <td>87</td>\n",
       "      <td>96</td>\n",
       "      <td>116</td>\n",
       "      <td>88</td>\n",
       "      <td>113</td>\n",
       "      <td>113</td>\n",
       "      <td>105</td>\n",
       "    </tr>\n",
       "    <tr>\n",
       "      <th>tennis</th>\n",
       "      <td>73</td>\n",
       "      <td>81</td>\n",
       "      <td>94</td>\n",
       "      <td>92</td>\n",
       "      <td>87</td>\n",
       "      <td>90</td>\n",
       "      <td>86</td>\n",
       "      <td>87</td>\n",
       "      <td>82</td>\n",
       "      <td>80</td>\n",
       "      <td>77</td>\n",
       "      <td>76</td>\n",
       "      <td>88</td>\n",
       "      <td>73</td>\n",
       "      <td>73</td>\n",
       "      <td>89</td>\n",
       "    </tr>\n",
       "    <tr>\n",
       "      <th>travel</th>\n",
       "      <td>115</td>\n",
       "      <td>99</td>\n",
       "      <td>111</td>\n",
       "      <td>122</td>\n",
       "      <td>95</td>\n",
       "      <td>105</td>\n",
       "      <td>97</td>\n",
       "      <td>90</td>\n",
       "      <td>104</td>\n",
       "      <td>111</td>\n",
       "      <td>94</td>\n",
       "      <td>99</td>\n",
       "      <td>105</td>\n",
       "      <td>91</td>\n",
       "      <td>109</td>\n",
       "      <td>100</td>\n",
       "    </tr>\n",
       "    <tr>\n",
       "      <th>veganism</th>\n",
       "      <td>71</td>\n",
       "      <td>83</td>\n",
       "      <td>65</td>\n",
       "      <td>70</td>\n",
       "      <td>91</td>\n",
       "      <td>95</td>\n",
       "      <td>78</td>\n",
       "      <td>69</td>\n",
       "      <td>68</td>\n",
       "      <td>72</td>\n",
       "      <td>75</td>\n",
       "      <td>89</td>\n",
       "      <td>85</td>\n",
       "      <td>79</td>\n",
       "      <td>77</td>\n",
       "      <td>81</td>\n",
       "    </tr>\n",
       "  </tbody>\n",
       "</table>\n",
       "</div>"
      ],
      "text/plain": [
       "Type             adore  cherish  disgust  dislike  hate  heart  indifferent  \\\n",
       "Category                                                                      \n",
       "animals            114      125      122      115   128    120          100   \n",
       "cooking            106       84      109      115   104    112           81   \n",
       "culture             95      113       98      112    94     97          111   \n",
       "dogs                81       72       87       84    87     97           93   \n",
       "education           83       87       73       91    96     91           89   \n",
       "fitness             96       73       96       95    71     83           82   \n",
       "food                93      119      107      106   130    107           97   \n",
       "healthy eating     122      105      103      101   121    114          108   \n",
       "public speaking     76       65       69       82    61     88           77   \n",
       "science            118      103      114      113   102    115          122   \n",
       "soccer              87       86       91       81    87     93          116   \n",
       "studying            89       92       77       74    86    101           77   \n",
       "technology         129      114      110       95   112    114           98   \n",
       "tennis              73       81       94       92    87     90           86   \n",
       "travel             115       99      111      122    95    105           97   \n",
       "veganism            71       83       65       70    91     95           78   \n",
       "\n",
       "Type             interested  intrigued  like  love  peeking  scared  \\\n",
       "Category                                                              \n",
       "animals                 110        116   101   119      129     132   \n",
       "cooking                 125         88   114    99      101     120   \n",
       "culture                 110        101    97   108       99     117   \n",
       "dogs                     91         70    93    73       92      89   \n",
       "education                88         96    90   105       99      80   \n",
       "fitness                  81         82   111    88       86      96   \n",
       "food                    108         94   100   123      115     101   \n",
       "healthy eating          101        107   106   103      104     100   \n",
       "public speaking          75         92    74    85       65      75   \n",
       "science                 118        111   113   119      112     102   \n",
       "soccer                   88         93    91    87       84      99   \n",
       "studying                 87         84    80    83       93      95   \n",
       "technology              121         87    87    96      116      88   \n",
       "tennis                   87         82    80    77       76      88   \n",
       "travel                   90        104   111    94       99     105   \n",
       "veganism                 69         68    72    75       89      85   \n",
       "\n",
       "Type             super love  want  worried  \n",
       "Category                                    \n",
       "animals                 123   122      121  \n",
       "cooking                 110    94      102  \n",
       "culture                 100   122      102  \n",
       "dogs                     84    83       62  \n",
       "education                92    83       90  \n",
       "fitness                 100    72       83  \n",
       "food                     89   110      100  \n",
       "healthy eating          116   111       95  \n",
       "public speaking          76    81       76  \n",
       "science                  92   126      116  \n",
       "soccer                   95    97       82  \n",
       "studying                 86    66       93  \n",
       "technology              113   113      105  \n",
       "tennis                   73    73       89  \n",
       "travel                   91   109      100  \n",
       "veganism                 79    77       81  "
      ]
     },
     "execution_count": 66,
     "metadata": {},
     "output_type": "execute_result"
    }
   ],
   "source": [
    "# Use DataFrame.pivot() to rearrange the data, to have Category on rows\n",
    "ct_counts = ct_counts.pivot(index = 'Category', columns = 'Type', values = 'count')\n",
    "ct_counts"
   ]
  },
  {
   "cell_type": "code",
   "execution_count": 67,
   "id": "54da57f2",
   "metadata": {},
   "outputs": [
    {
     "data": {
      "text/html": [
       "<div>\n",
       "<style scoped>\n",
       "    .dataframe tbody tr th:only-of-type {\n",
       "        vertical-align: middle;\n",
       "    }\n",
       "\n",
       "    .dataframe tbody tr th {\n",
       "        vertical-align: top;\n",
       "    }\n",
       "\n",
       "    .dataframe thead th {\n",
       "        text-align: right;\n",
       "    }\n",
       "</style>\n",
       "<table border=\"1\" class=\"dataframe\">\n",
       "  <thead>\n",
       "    <tr style=\"text-align: right;\">\n",
       "      <th>Type</th>\n",
       "      <th>adore</th>\n",
       "      <th>cherish</th>\n",
       "      <th>disgust</th>\n",
       "      <th>dislike</th>\n",
       "      <th>hate</th>\n",
       "      <th>heart</th>\n",
       "      <th>indifferent</th>\n",
       "      <th>interested</th>\n",
       "      <th>intrigued</th>\n",
       "      <th>like</th>\n",
       "      <th>love</th>\n",
       "      <th>peeking</th>\n",
       "      <th>scared</th>\n",
       "      <th>super love</th>\n",
       "      <th>want</th>\n",
       "      <th>worried</th>\n",
       "      <th>total</th>\n",
       "    </tr>\n",
       "    <tr>\n",
       "      <th>Category</th>\n",
       "      <th></th>\n",
       "      <th></th>\n",
       "      <th></th>\n",
       "      <th></th>\n",
       "      <th></th>\n",
       "      <th></th>\n",
       "      <th></th>\n",
       "      <th></th>\n",
       "      <th></th>\n",
       "      <th></th>\n",
       "      <th></th>\n",
       "      <th></th>\n",
       "      <th></th>\n",
       "      <th></th>\n",
       "      <th></th>\n",
       "      <th></th>\n",
       "      <th></th>\n",
       "    </tr>\n",
       "  </thead>\n",
       "  <tbody>\n",
       "    <tr>\n",
       "      <th>animals</th>\n",
       "      <td>114</td>\n",
       "      <td>125</td>\n",
       "      <td>122</td>\n",
       "      <td>115</td>\n",
       "      <td>128</td>\n",
       "      <td>120</td>\n",
       "      <td>100</td>\n",
       "      <td>110</td>\n",
       "      <td>116</td>\n",
       "      <td>101</td>\n",
       "      <td>119</td>\n",
       "      <td>129</td>\n",
       "      <td>132</td>\n",
       "      <td>123</td>\n",
       "      <td>122</td>\n",
       "      <td>121</td>\n",
       "      <td>1897</td>\n",
       "    </tr>\n",
       "    <tr>\n",
       "      <th>cooking</th>\n",
       "      <td>106</td>\n",
       "      <td>84</td>\n",
       "      <td>109</td>\n",
       "      <td>115</td>\n",
       "      <td>104</td>\n",
       "      <td>112</td>\n",
       "      <td>81</td>\n",
       "      <td>125</td>\n",
       "      <td>88</td>\n",
       "      <td>114</td>\n",
       "      <td>99</td>\n",
       "      <td>101</td>\n",
       "      <td>120</td>\n",
       "      <td>110</td>\n",
       "      <td>94</td>\n",
       "      <td>102</td>\n",
       "      <td>1664</td>\n",
       "    </tr>\n",
       "    <tr>\n",
       "      <th>culture</th>\n",
       "      <td>95</td>\n",
       "      <td>113</td>\n",
       "      <td>98</td>\n",
       "      <td>112</td>\n",
       "      <td>94</td>\n",
       "      <td>97</td>\n",
       "      <td>111</td>\n",
       "      <td>110</td>\n",
       "      <td>101</td>\n",
       "      <td>97</td>\n",
       "      <td>108</td>\n",
       "      <td>99</td>\n",
       "      <td>117</td>\n",
       "      <td>100</td>\n",
       "      <td>122</td>\n",
       "      <td>102</td>\n",
       "      <td>1676</td>\n",
       "    </tr>\n",
       "    <tr>\n",
       "      <th>dogs</th>\n",
       "      <td>81</td>\n",
       "      <td>72</td>\n",
       "      <td>87</td>\n",
       "      <td>84</td>\n",
       "      <td>87</td>\n",
       "      <td>97</td>\n",
       "      <td>93</td>\n",
       "      <td>91</td>\n",
       "      <td>70</td>\n",
       "      <td>93</td>\n",
       "      <td>73</td>\n",
       "      <td>92</td>\n",
       "      <td>89</td>\n",
       "      <td>84</td>\n",
       "      <td>83</td>\n",
       "      <td>62</td>\n",
       "      <td>1338</td>\n",
       "    </tr>\n",
       "    <tr>\n",
       "      <th>education</th>\n",
       "      <td>83</td>\n",
       "      <td>87</td>\n",
       "      <td>73</td>\n",
       "      <td>91</td>\n",
       "      <td>96</td>\n",
       "      <td>91</td>\n",
       "      <td>89</td>\n",
       "      <td>88</td>\n",
       "      <td>96</td>\n",
       "      <td>90</td>\n",
       "      <td>105</td>\n",
       "      <td>99</td>\n",
       "      <td>80</td>\n",
       "      <td>92</td>\n",
       "      <td>83</td>\n",
       "      <td>90</td>\n",
       "      <td>1433</td>\n",
       "    </tr>\n",
       "    <tr>\n",
       "      <th>fitness</th>\n",
       "      <td>96</td>\n",
       "      <td>73</td>\n",
       "      <td>96</td>\n",
       "      <td>95</td>\n",
       "      <td>71</td>\n",
       "      <td>83</td>\n",
       "      <td>82</td>\n",
       "      <td>81</td>\n",
       "      <td>82</td>\n",
       "      <td>111</td>\n",
       "      <td>88</td>\n",
       "      <td>86</td>\n",
       "      <td>96</td>\n",
       "      <td>100</td>\n",
       "      <td>72</td>\n",
       "      <td>83</td>\n",
       "      <td>1395</td>\n",
       "    </tr>\n",
       "    <tr>\n",
       "      <th>food</th>\n",
       "      <td>93</td>\n",
       "      <td>119</td>\n",
       "      <td>107</td>\n",
       "      <td>106</td>\n",
       "      <td>130</td>\n",
       "      <td>107</td>\n",
       "      <td>97</td>\n",
       "      <td>108</td>\n",
       "      <td>94</td>\n",
       "      <td>100</td>\n",
       "      <td>123</td>\n",
       "      <td>115</td>\n",
       "      <td>101</td>\n",
       "      <td>89</td>\n",
       "      <td>110</td>\n",
       "      <td>100</td>\n",
       "      <td>1699</td>\n",
       "    </tr>\n",
       "    <tr>\n",
       "      <th>healthy eating</th>\n",
       "      <td>122</td>\n",
       "      <td>105</td>\n",
       "      <td>103</td>\n",
       "      <td>101</td>\n",
       "      <td>121</td>\n",
       "      <td>114</td>\n",
       "      <td>108</td>\n",
       "      <td>101</td>\n",
       "      <td>107</td>\n",
       "      <td>106</td>\n",
       "      <td>103</td>\n",
       "      <td>104</td>\n",
       "      <td>100</td>\n",
       "      <td>116</td>\n",
       "      <td>111</td>\n",
       "      <td>95</td>\n",
       "      <td>1717</td>\n",
       "    </tr>\n",
       "    <tr>\n",
       "      <th>public speaking</th>\n",
       "      <td>76</td>\n",
       "      <td>65</td>\n",
       "      <td>69</td>\n",
       "      <td>82</td>\n",
       "      <td>61</td>\n",
       "      <td>88</td>\n",
       "      <td>77</td>\n",
       "      <td>75</td>\n",
       "      <td>92</td>\n",
       "      <td>74</td>\n",
       "      <td>85</td>\n",
       "      <td>65</td>\n",
       "      <td>75</td>\n",
       "      <td>76</td>\n",
       "      <td>81</td>\n",
       "      <td>76</td>\n",
       "      <td>1217</td>\n",
       "    </tr>\n",
       "    <tr>\n",
       "      <th>science</th>\n",
       "      <td>118</td>\n",
       "      <td>103</td>\n",
       "      <td>114</td>\n",
       "      <td>113</td>\n",
       "      <td>102</td>\n",
       "      <td>115</td>\n",
       "      <td>122</td>\n",
       "      <td>118</td>\n",
       "      <td>111</td>\n",
       "      <td>113</td>\n",
       "      <td>119</td>\n",
       "      <td>112</td>\n",
       "      <td>102</td>\n",
       "      <td>92</td>\n",
       "      <td>126</td>\n",
       "      <td>116</td>\n",
       "      <td>1796</td>\n",
       "    </tr>\n",
       "    <tr>\n",
       "      <th>soccer</th>\n",
       "      <td>87</td>\n",
       "      <td>86</td>\n",
       "      <td>91</td>\n",
       "      <td>81</td>\n",
       "      <td>87</td>\n",
       "      <td>93</td>\n",
       "      <td>116</td>\n",
       "      <td>88</td>\n",
       "      <td>93</td>\n",
       "      <td>91</td>\n",
       "      <td>87</td>\n",
       "      <td>84</td>\n",
       "      <td>99</td>\n",
       "      <td>95</td>\n",
       "      <td>97</td>\n",
       "      <td>82</td>\n",
       "      <td>1457</td>\n",
       "    </tr>\n",
       "    <tr>\n",
       "      <th>studying</th>\n",
       "      <td>89</td>\n",
       "      <td>92</td>\n",
       "      <td>77</td>\n",
       "      <td>74</td>\n",
       "      <td>86</td>\n",
       "      <td>101</td>\n",
       "      <td>77</td>\n",
       "      <td>87</td>\n",
       "      <td>84</td>\n",
       "      <td>80</td>\n",
       "      <td>83</td>\n",
       "      <td>93</td>\n",
       "      <td>95</td>\n",
       "      <td>86</td>\n",
       "      <td>66</td>\n",
       "      <td>93</td>\n",
       "      <td>1363</td>\n",
       "    </tr>\n",
       "    <tr>\n",
       "      <th>technology</th>\n",
       "      <td>129</td>\n",
       "      <td>114</td>\n",
       "      <td>110</td>\n",
       "      <td>95</td>\n",
       "      <td>112</td>\n",
       "      <td>114</td>\n",
       "      <td>98</td>\n",
       "      <td>121</td>\n",
       "      <td>87</td>\n",
       "      <td>87</td>\n",
       "      <td>96</td>\n",
       "      <td>116</td>\n",
       "      <td>88</td>\n",
       "      <td>113</td>\n",
       "      <td>113</td>\n",
       "      <td>105</td>\n",
       "      <td>1698</td>\n",
       "    </tr>\n",
       "    <tr>\n",
       "      <th>tennis</th>\n",
       "      <td>73</td>\n",
       "      <td>81</td>\n",
       "      <td>94</td>\n",
       "      <td>92</td>\n",
       "      <td>87</td>\n",
       "      <td>90</td>\n",
       "      <td>86</td>\n",
       "      <td>87</td>\n",
       "      <td>82</td>\n",
       "      <td>80</td>\n",
       "      <td>77</td>\n",
       "      <td>76</td>\n",
       "      <td>88</td>\n",
       "      <td>73</td>\n",
       "      <td>73</td>\n",
       "      <td>89</td>\n",
       "      <td>1328</td>\n",
       "    </tr>\n",
       "    <tr>\n",
       "      <th>travel</th>\n",
       "      <td>115</td>\n",
       "      <td>99</td>\n",
       "      <td>111</td>\n",
       "      <td>122</td>\n",
       "      <td>95</td>\n",
       "      <td>105</td>\n",
       "      <td>97</td>\n",
       "      <td>90</td>\n",
       "      <td>104</td>\n",
       "      <td>111</td>\n",
       "      <td>94</td>\n",
       "      <td>99</td>\n",
       "      <td>105</td>\n",
       "      <td>91</td>\n",
       "      <td>109</td>\n",
       "      <td>100</td>\n",
       "      <td>1647</td>\n",
       "    </tr>\n",
       "    <tr>\n",
       "      <th>veganism</th>\n",
       "      <td>71</td>\n",
       "      <td>83</td>\n",
       "      <td>65</td>\n",
       "      <td>70</td>\n",
       "      <td>91</td>\n",
       "      <td>95</td>\n",
       "      <td>78</td>\n",
       "      <td>69</td>\n",
       "      <td>68</td>\n",
       "      <td>72</td>\n",
       "      <td>75</td>\n",
       "      <td>89</td>\n",
       "      <td>85</td>\n",
       "      <td>79</td>\n",
       "      <td>77</td>\n",
       "      <td>81</td>\n",
       "      <td>1248</td>\n",
       "    </tr>\n",
       "  </tbody>\n",
       "</table>\n",
       "</div>"
      ],
      "text/plain": [
       "Type             adore  cherish  disgust  dislike  hate  heart  indifferent  \\\n",
       "Category                                                                      \n",
       "animals            114      125      122      115   128    120          100   \n",
       "cooking            106       84      109      115   104    112           81   \n",
       "culture             95      113       98      112    94     97          111   \n",
       "dogs                81       72       87       84    87     97           93   \n",
       "education           83       87       73       91    96     91           89   \n",
       "fitness             96       73       96       95    71     83           82   \n",
       "food                93      119      107      106   130    107           97   \n",
       "healthy eating     122      105      103      101   121    114          108   \n",
       "public speaking     76       65       69       82    61     88           77   \n",
       "science            118      103      114      113   102    115          122   \n",
       "soccer              87       86       91       81    87     93          116   \n",
       "studying            89       92       77       74    86    101           77   \n",
       "technology         129      114      110       95   112    114           98   \n",
       "tennis              73       81       94       92    87     90           86   \n",
       "travel             115       99      111      122    95    105           97   \n",
       "veganism            71       83       65       70    91     95           78   \n",
       "\n",
       "Type             interested  intrigued  like  love  peeking  scared  \\\n",
       "Category                                                              \n",
       "animals                 110        116   101   119      129     132   \n",
       "cooking                 125         88   114    99      101     120   \n",
       "culture                 110        101    97   108       99     117   \n",
       "dogs                     91         70    93    73       92      89   \n",
       "education                88         96    90   105       99      80   \n",
       "fitness                  81         82   111    88       86      96   \n",
       "food                    108         94   100   123      115     101   \n",
       "healthy eating          101        107   106   103      104     100   \n",
       "public speaking          75         92    74    85       65      75   \n",
       "science                 118        111   113   119      112     102   \n",
       "soccer                   88         93    91    87       84      99   \n",
       "studying                 87         84    80    83       93      95   \n",
       "technology              121         87    87    96      116      88   \n",
       "tennis                   87         82    80    77       76      88   \n",
       "travel                   90        104   111    94       99     105   \n",
       "veganism                 69         68    72    75       89      85   \n",
       "\n",
       "Type             super love  want  worried  total  \n",
       "Category                                           \n",
       "animals                 123   122      121   1897  \n",
       "cooking                 110    94      102   1664  \n",
       "culture                 100   122      102   1676  \n",
       "dogs                     84    83       62   1338  \n",
       "education                92    83       90   1433  \n",
       "fitness                 100    72       83   1395  \n",
       "food                     89   110      100   1699  \n",
       "healthy eating          116   111       95   1717  \n",
       "public speaking          76    81       76   1217  \n",
       "science                  92   126      116   1796  \n",
       "soccer                   95    97       82   1457  \n",
       "studying                 86    66       93   1363  \n",
       "technology              113   113      105   1698  \n",
       "tennis                   73    73       89   1328  \n",
       "travel                   91   109      100   1647  \n",
       "veganism                 79    77       81   1248  "
      ]
     },
     "execution_count": 67,
     "metadata": {},
     "output_type": "execute_result"
    }
   ],
   "source": [
    "#get sum of all the reaction types\n",
    "index = ct_counts.index\n",
    "cols = ct_counts.columns\n",
    "#sum up all the reaction frequency for each category\n",
    "def sumup(index,cols):\n",
    "    count = 0\n",
    "    row = []#store the total frequency for each Category\n",
    "    for ind in index:\n",
    "        for col in cols:\n",
    "            if not math.isnan(ct_counts.loc[ind,col]):\n",
    "                if type(int(ct_counts.loc[ind,col])) == int:#locate the value\n",
    "                    count += ct_counts.loc[ind,col]\n",
    "                    #print(count)\n",
    "        row.append(count)\n",
    "        count = 0\n",
    "    return row\n",
    "#create a new column for the total frequency of reactions for each category\n",
    "ct_counts['total'] = sumup(index,cols)\n",
    "ct_counts"
   ]
  },
  {
   "cell_type": "code",
   "execution_count": 68,
   "id": "8db87dae",
   "metadata": {},
   "outputs": [],
   "source": [
    "#create a new dataframe by extracting the total column\n",
    "ct_counts_2 = ct_counts[['total']].copy()"
   ]
  },
  {
   "cell_type": "code",
   "execution_count": 69,
   "id": "1ea3b57a",
   "metadata": {},
   "outputs": [
    {
     "data": {
      "text/html": [
       "<div>\n",
       "<style scoped>\n",
       "    .dataframe tbody tr th:only-of-type {\n",
       "        vertical-align: middle;\n",
       "    }\n",
       "\n",
       "    .dataframe tbody tr th {\n",
       "        vertical-align: top;\n",
       "    }\n",
       "\n",
       "    .dataframe thead th {\n",
       "        text-align: right;\n",
       "    }\n",
       "</style>\n",
       "<table border=\"1\" class=\"dataframe\">\n",
       "  <thead>\n",
       "    <tr style=\"text-align: right;\">\n",
       "      <th>Type</th>\n",
       "      <th>total</th>\n",
       "    </tr>\n",
       "    <tr>\n",
       "      <th>Category</th>\n",
       "      <th></th>\n",
       "    </tr>\n",
       "  </thead>\n",
       "  <tbody>\n",
       "    <tr>\n",
       "      <th>animals</th>\n",
       "      <td>1897</td>\n",
       "    </tr>\n",
       "    <tr>\n",
       "      <th>cooking</th>\n",
       "      <td>1664</td>\n",
       "    </tr>\n",
       "    <tr>\n",
       "      <th>culture</th>\n",
       "      <td>1676</td>\n",
       "    </tr>\n",
       "    <tr>\n",
       "      <th>dogs</th>\n",
       "      <td>1338</td>\n",
       "    </tr>\n",
       "    <tr>\n",
       "      <th>education</th>\n",
       "      <td>1433</td>\n",
       "    </tr>\n",
       "    <tr>\n",
       "      <th>fitness</th>\n",
       "      <td>1395</td>\n",
       "    </tr>\n",
       "    <tr>\n",
       "      <th>food</th>\n",
       "      <td>1699</td>\n",
       "    </tr>\n",
       "    <tr>\n",
       "      <th>healthy eating</th>\n",
       "      <td>1717</td>\n",
       "    </tr>\n",
       "    <tr>\n",
       "      <th>public speaking</th>\n",
       "      <td>1217</td>\n",
       "    </tr>\n",
       "    <tr>\n",
       "      <th>science</th>\n",
       "      <td>1796</td>\n",
       "    </tr>\n",
       "    <tr>\n",
       "      <th>soccer</th>\n",
       "      <td>1457</td>\n",
       "    </tr>\n",
       "    <tr>\n",
       "      <th>studying</th>\n",
       "      <td>1363</td>\n",
       "    </tr>\n",
       "    <tr>\n",
       "      <th>technology</th>\n",
       "      <td>1698</td>\n",
       "    </tr>\n",
       "    <tr>\n",
       "      <th>tennis</th>\n",
       "      <td>1328</td>\n",
       "    </tr>\n",
       "    <tr>\n",
       "      <th>travel</th>\n",
       "      <td>1647</td>\n",
       "    </tr>\n",
       "    <tr>\n",
       "      <th>veganism</th>\n",
       "      <td>1248</td>\n",
       "    </tr>\n",
       "  </tbody>\n",
       "</table>\n",
       "</div>"
      ],
      "text/plain": [
       "Type             total\n",
       "Category              \n",
       "animals           1897\n",
       "cooking           1664\n",
       "culture           1676\n",
       "dogs              1338\n",
       "education         1433\n",
       "fitness           1395\n",
       "food              1699\n",
       "healthy eating    1717\n",
       "public speaking   1217\n",
       "science           1796\n",
       "soccer            1457\n",
       "studying          1363\n",
       "technology        1698\n",
       "tennis            1328\n",
       "travel            1647\n",
       "veganism          1248"
      ]
     },
     "execution_count": 69,
     "metadata": {},
     "output_type": "execute_result"
    }
   ],
   "source": [
    "#show the values in the new dataframe\n",
    "ct_counts_2"
   ]
  },
  {
   "cell_type": "code",
   "execution_count": 70,
   "id": "63a8e450",
   "metadata": {},
   "outputs": [
    {
     "data": {
      "image/png": "[encoded data removed]",
      "text/plain": [
       "<Figure size 640x480 with 2 Axes>"
      ]
     },
     "metadata": {},
     "output_type": "display_data"
    }
   ],
   "source": [
    "#plot the heatmap using the new dataframe to show the relationship between the categories and the total reactions type for each category\n",
    "sb.heatmap(ct_counts_2);\n",
    "plt.xlabel('');"
   ]
  },
  {
   "cell_type": "markdown",
   "id": "e4afeaa0",
   "metadata": {},
   "source": [
    "The plot above reveals that `animals` category has the most number of reactions, while `veganism` and `public speaking` have the least number of reactions."
   ]
  },
  {
   "cell_type": "markdown",
   "id": "512aa617",
   "metadata": {},
   "source": [
    "#### `Category` Vs. `Score`\n",
    "Continuing my analysis, I will now study the relationship between the `Category` variable and the `Score` variable. I will sum up the total reaction scores for each category and plot it against each category."
   ]
  },
  {
   "cell_type": "code",
   "execution_count": 71,
   "id": "f5f7b1e9",
   "metadata": {},
   "outputs": [
    {
     "data": {
      "text/html": [
       "<div>\n",
       "<style scoped>\n",
       "    .dataframe tbody tr th:only-of-type {\n",
       "        vertical-align: middle;\n",
       "    }\n",
       "\n",
       "    .dataframe tbody tr th {\n",
       "        vertical-align: top;\n",
       "    }\n",
       "\n",
       "    .dataframe thead th {\n",
       "        text-align: right;\n",
       "    }\n",
       "</style>\n",
       "<table border=\"1\" class=\"dataframe\">\n",
       "  <thead>\n",
       "    <tr style=\"text-align: right;\">\n",
       "      <th></th>\n",
       "      <th>Category</th>\n",
       "      <th>Score</th>\n",
       "      <th>count</th>\n",
       "    </tr>\n",
       "  </thead>\n",
       "  <tbody>\n",
       "    <tr>\n",
       "      <th>0</th>\n",
       "      <td>animals</td>\n",
       "      <td>0</td>\n",
       "      <td>122</td>\n",
       "    </tr>\n",
       "    <tr>\n",
       "      <th>1</th>\n",
       "      <td>animals</td>\n",
       "      <td>5</td>\n",
       "      <td>128</td>\n",
       "    </tr>\n",
       "    <tr>\n",
       "      <th>2</th>\n",
       "      <td>animals</td>\n",
       "      <td>10</td>\n",
       "      <td>115</td>\n",
       "    </tr>\n",
       "    <tr>\n",
       "      <th>3</th>\n",
       "      <td>animals</td>\n",
       "      <td>12</td>\n",
       "      <td>121</td>\n",
       "    </tr>\n",
       "    <tr>\n",
       "      <th>4</th>\n",
       "      <td>animals</td>\n",
       "      <td>15</td>\n",
       "      <td>132</td>\n",
       "    </tr>\n",
       "    <tr>\n",
       "      <th>...</th>\n",
       "      <td>...</td>\n",
       "      <td>...</td>\n",
       "      <td>...</td>\n",
       "    </tr>\n",
       "    <tr>\n",
       "      <th>235</th>\n",
       "      <td>veganism</td>\n",
       "      <td>60</td>\n",
       "      <td>95</td>\n",
       "    </tr>\n",
       "    <tr>\n",
       "      <th>236</th>\n",
       "      <td>veganism</td>\n",
       "      <td>65</td>\n",
       "      <td>75</td>\n",
       "    </tr>\n",
       "    <tr>\n",
       "      <th>237</th>\n",
       "      <td>veganism</td>\n",
       "      <td>70</td>\n",
       "      <td>160</td>\n",
       "    </tr>\n",
       "    <tr>\n",
       "      <th>238</th>\n",
       "      <td>veganism</td>\n",
       "      <td>72</td>\n",
       "      <td>71</td>\n",
       "    </tr>\n",
       "    <tr>\n",
       "      <th>239</th>\n",
       "      <td>veganism</td>\n",
       "      <td>75</td>\n",
       "      <td>79</td>\n",
       "    </tr>\n",
       "  </tbody>\n",
       "</table>\n",
       "<p>240 rows × 3 columns</p>\n",
       "</div>"
      ],
      "text/plain": [
       "     Category  Score  count\n",
       "0     animals      0    122\n",
       "1     animals      5    128\n",
       "2     animals     10    115\n",
       "3     animals     12    121\n",
       "4     animals     15    132\n",
       "..        ...    ...    ...\n",
       "235  veganism     60     95\n",
       "236  veganism     65     75\n",
       "237  veganism     70    160\n",
       "238  veganism     72     71\n",
       "239  veganism     75     79\n",
       "\n",
       "[240 rows x 3 columns]"
      ]
     },
     "execution_count": 71,
     "metadata": {},
     "output_type": "execute_result"
    }
   ],
   "source": [
    "# Use group_by() and size() to classify the dataset based on Category and Score to obtain pandas Series\n",
    "gp_counts = df_master.groupby(['Category', 'Score']).size()\n",
    "gp_counts\n",
    "#Use Series.reset_index() to convert a series into a dataframe object\n",
    "gp_counts = gp_counts.reset_index(name='count')\n",
    "#drop count column because it is not needed\n",
    "#gp_counts.drop(columns='count',inplace=True)\n",
    "gp_counts"
   ]
  },
  {
   "cell_type": "code",
   "execution_count": 72,
   "id": "23a4e573",
   "metadata": {},
   "outputs": [],
   "source": [
    "# Use DataFrame.pivot() to rearrange the data, to have Category on rows\n",
    "gp_counts = gp_counts.pivot(index = 'Category', columns = 'Score', values = 'count')"
   ]
  },
  {
   "cell_type": "code",
   "execution_count": 73,
   "id": "545f9dee",
   "metadata": {},
   "outputs": [
    {
     "data": {
      "text/html": [
       "<div>\n",
       "<style scoped>\n",
       "    .dataframe tbody tr th:only-of-type {\n",
       "        vertical-align: middle;\n",
       "    }\n",
       "\n",
       "    .dataframe tbody tr th {\n",
       "        vertical-align: top;\n",
       "    }\n",
       "\n",
       "    .dataframe thead th {\n",
       "        text-align: right;\n",
       "    }\n",
       "</style>\n",
       "<table border=\"1\" class=\"dataframe\">\n",
       "  <thead>\n",
       "    <tr style=\"text-align: right;\">\n",
       "      <th>Score</th>\n",
       "      <th>0</th>\n",
       "      <th>5</th>\n",
       "      <th>10</th>\n",
       "      <th>12</th>\n",
       "      <th>15</th>\n",
       "      <th>20</th>\n",
       "      <th>30</th>\n",
       "      <th>35</th>\n",
       "      <th>45</th>\n",
       "      <th>50</th>\n",
       "      <th>60</th>\n",
       "      <th>65</th>\n",
       "      <th>70</th>\n",
       "      <th>72</th>\n",
       "      <th>75</th>\n",
       "    </tr>\n",
       "    <tr>\n",
       "      <th>Category</th>\n",
       "      <th></th>\n",
       "      <th></th>\n",
       "      <th></th>\n",
       "      <th></th>\n",
       "      <th></th>\n",
       "      <th></th>\n",
       "      <th></th>\n",
       "      <th></th>\n",
       "      <th></th>\n",
       "      <th></th>\n",
       "      <th></th>\n",
       "      <th></th>\n",
       "      <th></th>\n",
       "      <th></th>\n",
       "      <th></th>\n",
       "    </tr>\n",
       "  </thead>\n",
       "  <tbody>\n",
       "    <tr>\n",
       "      <th>animals</th>\n",
       "      <td>122</td>\n",
       "      <td>128</td>\n",
       "      <td>115</td>\n",
       "      <td>121</td>\n",
       "      <td>132</td>\n",
       "      <td>100</td>\n",
       "      <td>110</td>\n",
       "      <td>129</td>\n",
       "      <td>116</td>\n",
       "      <td>101</td>\n",
       "      <td>120</td>\n",
       "      <td>119</td>\n",
       "      <td>247</td>\n",
       "      <td>114</td>\n",
       "      <td>123</td>\n",
       "    </tr>\n",
       "    <tr>\n",
       "      <th>cooking</th>\n",
       "      <td>109</td>\n",
       "      <td>104</td>\n",
       "      <td>115</td>\n",
       "      <td>102</td>\n",
       "      <td>120</td>\n",
       "      <td>81</td>\n",
       "      <td>125</td>\n",
       "      <td>101</td>\n",
       "      <td>88</td>\n",
       "      <td>114</td>\n",
       "      <td>112</td>\n",
       "      <td>99</td>\n",
       "      <td>178</td>\n",
       "      <td>106</td>\n",
       "      <td>110</td>\n",
       "    </tr>\n",
       "    <tr>\n",
       "      <th>culture</th>\n",
       "      <td>98</td>\n",
       "      <td>94</td>\n",
       "      <td>112</td>\n",
       "      <td>102</td>\n",
       "      <td>117</td>\n",
       "      <td>111</td>\n",
       "      <td>110</td>\n",
       "      <td>99</td>\n",
       "      <td>101</td>\n",
       "      <td>97</td>\n",
       "      <td>97</td>\n",
       "      <td>108</td>\n",
       "      <td>235</td>\n",
       "      <td>95</td>\n",
       "      <td>100</td>\n",
       "    </tr>\n",
       "    <tr>\n",
       "      <th>dogs</th>\n",
       "      <td>87</td>\n",
       "      <td>87</td>\n",
       "      <td>84</td>\n",
       "      <td>62</td>\n",
       "      <td>89</td>\n",
       "      <td>93</td>\n",
       "      <td>91</td>\n",
       "      <td>92</td>\n",
       "      <td>70</td>\n",
       "      <td>93</td>\n",
       "      <td>97</td>\n",
       "      <td>73</td>\n",
       "      <td>155</td>\n",
       "      <td>81</td>\n",
       "      <td>84</td>\n",
       "    </tr>\n",
       "    <tr>\n",
       "      <th>education</th>\n",
       "      <td>73</td>\n",
       "      <td>96</td>\n",
       "      <td>91</td>\n",
       "      <td>90</td>\n",
       "      <td>80</td>\n",
       "      <td>89</td>\n",
       "      <td>88</td>\n",
       "      <td>99</td>\n",
       "      <td>96</td>\n",
       "      <td>90</td>\n",
       "      <td>91</td>\n",
       "      <td>105</td>\n",
       "      <td>170</td>\n",
       "      <td>83</td>\n",
       "      <td>92</td>\n",
       "    </tr>\n",
       "    <tr>\n",
       "      <th>fitness</th>\n",
       "      <td>96</td>\n",
       "      <td>71</td>\n",
       "      <td>95</td>\n",
       "      <td>83</td>\n",
       "      <td>96</td>\n",
       "      <td>82</td>\n",
       "      <td>81</td>\n",
       "      <td>86</td>\n",
       "      <td>82</td>\n",
       "      <td>111</td>\n",
       "      <td>83</td>\n",
       "      <td>88</td>\n",
       "      <td>145</td>\n",
       "      <td>96</td>\n",
       "      <td>100</td>\n",
       "    </tr>\n",
       "    <tr>\n",
       "      <th>food</th>\n",
       "      <td>107</td>\n",
       "      <td>130</td>\n",
       "      <td>106</td>\n",
       "      <td>100</td>\n",
       "      <td>101</td>\n",
       "      <td>97</td>\n",
       "      <td>108</td>\n",
       "      <td>115</td>\n",
       "      <td>94</td>\n",
       "      <td>100</td>\n",
       "      <td>107</td>\n",
       "      <td>123</td>\n",
       "      <td>229</td>\n",
       "      <td>93</td>\n",
       "      <td>89</td>\n",
       "    </tr>\n",
       "    <tr>\n",
       "      <th>healthy eating</th>\n",
       "      <td>103</td>\n",
       "      <td>121</td>\n",
       "      <td>101</td>\n",
       "      <td>95</td>\n",
       "      <td>100</td>\n",
       "      <td>108</td>\n",
       "      <td>101</td>\n",
       "      <td>104</td>\n",
       "      <td>107</td>\n",
       "      <td>106</td>\n",
       "      <td>114</td>\n",
       "      <td>103</td>\n",
       "      <td>216</td>\n",
       "      <td>122</td>\n",
       "      <td>116</td>\n",
       "    </tr>\n",
       "    <tr>\n",
       "      <th>public speaking</th>\n",
       "      <td>69</td>\n",
       "      <td>61</td>\n",
       "      <td>82</td>\n",
       "      <td>76</td>\n",
       "      <td>75</td>\n",
       "      <td>77</td>\n",
       "      <td>75</td>\n",
       "      <td>65</td>\n",
       "      <td>92</td>\n",
       "      <td>74</td>\n",
       "      <td>88</td>\n",
       "      <td>85</td>\n",
       "      <td>146</td>\n",
       "      <td>76</td>\n",
       "      <td>76</td>\n",
       "    </tr>\n",
       "    <tr>\n",
       "      <th>science</th>\n",
       "      <td>114</td>\n",
       "      <td>102</td>\n",
       "      <td>113</td>\n",
       "      <td>116</td>\n",
       "      <td>102</td>\n",
       "      <td>122</td>\n",
       "      <td>118</td>\n",
       "      <td>112</td>\n",
       "      <td>111</td>\n",
       "      <td>113</td>\n",
       "      <td>115</td>\n",
       "      <td>119</td>\n",
       "      <td>229</td>\n",
       "      <td>118</td>\n",
       "      <td>92</td>\n",
       "    </tr>\n",
       "    <tr>\n",
       "      <th>soccer</th>\n",
       "      <td>91</td>\n",
       "      <td>87</td>\n",
       "      <td>81</td>\n",
       "      <td>82</td>\n",
       "      <td>99</td>\n",
       "      <td>116</td>\n",
       "      <td>88</td>\n",
       "      <td>84</td>\n",
       "      <td>93</td>\n",
       "      <td>91</td>\n",
       "      <td>93</td>\n",
       "      <td>87</td>\n",
       "      <td>183</td>\n",
       "      <td>87</td>\n",
       "      <td>95</td>\n",
       "    </tr>\n",
       "    <tr>\n",
       "      <th>studying</th>\n",
       "      <td>77</td>\n",
       "      <td>86</td>\n",
       "      <td>74</td>\n",
       "      <td>93</td>\n",
       "      <td>95</td>\n",
       "      <td>77</td>\n",
       "      <td>87</td>\n",
       "      <td>93</td>\n",
       "      <td>84</td>\n",
       "      <td>80</td>\n",
       "      <td>101</td>\n",
       "      <td>83</td>\n",
       "      <td>158</td>\n",
       "      <td>89</td>\n",
       "      <td>86</td>\n",
       "    </tr>\n",
       "    <tr>\n",
       "      <th>technology</th>\n",
       "      <td>110</td>\n",
       "      <td>112</td>\n",
       "      <td>95</td>\n",
       "      <td>105</td>\n",
       "      <td>88</td>\n",
       "      <td>98</td>\n",
       "      <td>121</td>\n",
       "      <td>116</td>\n",
       "      <td>87</td>\n",
       "      <td>87</td>\n",
       "      <td>114</td>\n",
       "      <td>96</td>\n",
       "      <td>227</td>\n",
       "      <td>129</td>\n",
       "      <td>113</td>\n",
       "    </tr>\n",
       "    <tr>\n",
       "      <th>tennis</th>\n",
       "      <td>94</td>\n",
       "      <td>87</td>\n",
       "      <td>92</td>\n",
       "      <td>89</td>\n",
       "      <td>88</td>\n",
       "      <td>86</td>\n",
       "      <td>87</td>\n",
       "      <td>76</td>\n",
       "      <td>82</td>\n",
       "      <td>80</td>\n",
       "      <td>90</td>\n",
       "      <td>77</td>\n",
       "      <td>154</td>\n",
       "      <td>73</td>\n",
       "      <td>73</td>\n",
       "    </tr>\n",
       "    <tr>\n",
       "      <th>travel</th>\n",
       "      <td>111</td>\n",
       "      <td>95</td>\n",
       "      <td>122</td>\n",
       "      <td>100</td>\n",
       "      <td>105</td>\n",
       "      <td>97</td>\n",
       "      <td>90</td>\n",
       "      <td>99</td>\n",
       "      <td>104</td>\n",
       "      <td>111</td>\n",
       "      <td>105</td>\n",
       "      <td>94</td>\n",
       "      <td>208</td>\n",
       "      <td>115</td>\n",
       "      <td>91</td>\n",
       "    </tr>\n",
       "    <tr>\n",
       "      <th>veganism</th>\n",
       "      <td>65</td>\n",
       "      <td>91</td>\n",
       "      <td>70</td>\n",
       "      <td>81</td>\n",
       "      <td>85</td>\n",
       "      <td>78</td>\n",
       "      <td>69</td>\n",
       "      <td>89</td>\n",
       "      <td>68</td>\n",
       "      <td>72</td>\n",
       "      <td>95</td>\n",
       "      <td>75</td>\n",
       "      <td>160</td>\n",
       "      <td>71</td>\n",
       "      <td>79</td>\n",
       "    </tr>\n",
       "  </tbody>\n",
       "</table>\n",
       "</div>"
      ],
      "text/plain": [
       "Score             0    5    10   12   15   20   30   35   45   50   60   65  \\\n",
       "Category                                                                      \n",
       "animals          122  128  115  121  132  100  110  129  116  101  120  119   \n",
       "cooking          109  104  115  102  120   81  125  101   88  114  112   99   \n",
       "culture           98   94  112  102  117  111  110   99  101   97   97  108   \n",
       "dogs              87   87   84   62   89   93   91   92   70   93   97   73   \n",
       "education         73   96   91   90   80   89   88   99   96   90   91  105   \n",
       "fitness           96   71   95   83   96   82   81   86   82  111   83   88   \n",
       "food             107  130  106  100  101   97  108  115   94  100  107  123   \n",
       "healthy eating   103  121  101   95  100  108  101  104  107  106  114  103   \n",
       "public speaking   69   61   82   76   75   77   75   65   92   74   88   85   \n",
       "science          114  102  113  116  102  122  118  112  111  113  115  119   \n",
       "soccer            91   87   81   82   99  116   88   84   93   91   93   87   \n",
       "studying          77   86   74   93   95   77   87   93   84   80  101   83   \n",
       "technology       110  112   95  105   88   98  121  116   87   87  114   96   \n",
       "tennis            94   87   92   89   88   86   87   76   82   80   90   77   \n",
       "travel           111   95  122  100  105   97   90   99  104  111  105   94   \n",
       "veganism          65   91   70   81   85   78   69   89   68   72   95   75   \n",
       "\n",
       "Score             70   72   75  \n",
       "Category                        \n",
       "animals          247  114  123  \n",
       "cooking          178  106  110  \n",
       "culture          235   95  100  \n",
       "dogs             155   81   84  \n",
       "education        170   83   92  \n",
       "fitness          145   96  100  \n",
       "food             229   93   89  \n",
       "healthy eating   216  122  116  \n",
       "public speaking  146   76   76  \n",
       "science          229  118   92  \n",
       "soccer           183   87   95  \n",
       "studying         158   89   86  \n",
       "technology       227  129  113  \n",
       "tennis           154   73   73  \n",
       "travel           208  115   91  \n",
       "veganism         160   71   79  "
      ]
     },
     "execution_count": 73,
     "metadata": {},
     "output_type": "execute_result"
    }
   ],
   "source": [
    "#see the data\n",
    "gp_counts"
   ]
  },
  {
   "cell_type": "code",
   "execution_count": 74,
   "id": "edf436df",
   "metadata": {},
   "outputs": [
    {
     "data": {
      "text/plain": [
       "[0, 5, 10, 12, 15, 20, 30, 35, 45, 50, 60, 65, 70, 72, 75]"
      ]
     },
     "execution_count": 74,
     "metadata": {},
     "output_type": "execute_result"
    }
   ],
   "source": [
    "#get the indexex and columns in lists\n",
    "gp_index = list(gp_counts.index)\n",
    "gp_columns = list(gp_counts.columns)\n",
    "gp_columns"
   ]
  },
  {
   "cell_type": "code",
   "execution_count": 75,
   "id": "60646bfa",
   "metadata": {},
   "outputs": [
    {
     "data": {
      "text/html": [
       "<div>\n",
       "<style scoped>\n",
       "    .dataframe tbody tr th:only-of-type {\n",
       "        vertical-align: middle;\n",
       "    }\n",
       "\n",
       "    .dataframe tbody tr th {\n",
       "        vertical-align: top;\n",
       "    }\n",
       "\n",
       "    .dataframe thead th {\n",
       "        text-align: right;\n",
       "    }\n",
       "</style>\n",
       "<table border=\"1\" class=\"dataframe\">\n",
       "  <thead>\n",
       "    <tr style=\"text-align: right;\">\n",
       "      <th>Score</th>\n",
       "      <th>0</th>\n",
       "      <th>5</th>\n",
       "      <th>10</th>\n",
       "      <th>12</th>\n",
       "      <th>15</th>\n",
       "      <th>20</th>\n",
       "      <th>30</th>\n",
       "      <th>35</th>\n",
       "      <th>45</th>\n",
       "      <th>50</th>\n",
       "      <th>60</th>\n",
       "      <th>65</th>\n",
       "      <th>70</th>\n",
       "      <th>72</th>\n",
       "      <th>75</th>\n",
       "      <th>total</th>\n",
       "    </tr>\n",
       "    <tr>\n",
       "      <th>Category</th>\n",
       "      <th></th>\n",
       "      <th></th>\n",
       "      <th></th>\n",
       "      <th></th>\n",
       "      <th></th>\n",
       "      <th></th>\n",
       "      <th></th>\n",
       "      <th></th>\n",
       "      <th></th>\n",
       "      <th></th>\n",
       "      <th></th>\n",
       "      <th></th>\n",
       "      <th></th>\n",
       "      <th></th>\n",
       "      <th></th>\n",
       "      <th></th>\n",
       "    </tr>\n",
       "  </thead>\n",
       "  <tbody>\n",
       "    <tr>\n",
       "      <th>animals</th>\n",
       "      <td>122</td>\n",
       "      <td>128</td>\n",
       "      <td>115</td>\n",
       "      <td>121</td>\n",
       "      <td>132</td>\n",
       "      <td>100</td>\n",
       "      <td>110</td>\n",
       "      <td>129</td>\n",
       "      <td>116</td>\n",
       "      <td>101</td>\n",
       "      <td>120</td>\n",
       "      <td>119</td>\n",
       "      <td>247</td>\n",
       "      <td>114</td>\n",
       "      <td>123</td>\n",
       "      <td>74965</td>\n",
       "    </tr>\n",
       "    <tr>\n",
       "      <th>cooking</th>\n",
       "      <td>109</td>\n",
       "      <td>104</td>\n",
       "      <td>115</td>\n",
       "      <td>102</td>\n",
       "      <td>120</td>\n",
       "      <td>81</td>\n",
       "      <td>125</td>\n",
       "      <td>101</td>\n",
       "      <td>88</td>\n",
       "      <td>114</td>\n",
       "      <td>112</td>\n",
       "      <td>99</td>\n",
       "      <td>178</td>\n",
       "      <td>106</td>\n",
       "      <td>110</td>\n",
       "      <td>64756</td>\n",
       "    </tr>\n",
       "    <tr>\n",
       "      <th>culture</th>\n",
       "      <td>98</td>\n",
       "      <td>94</td>\n",
       "      <td>112</td>\n",
       "      <td>102</td>\n",
       "      <td>117</td>\n",
       "      <td>111</td>\n",
       "      <td>110</td>\n",
       "      <td>99</td>\n",
       "      <td>101</td>\n",
       "      <td>97</td>\n",
       "      <td>97</td>\n",
       "      <td>108</td>\n",
       "      <td>235</td>\n",
       "      <td>95</td>\n",
       "      <td>100</td>\n",
       "      <td>66579</td>\n",
       "    </tr>\n",
       "    <tr>\n",
       "      <th>dogs</th>\n",
       "      <td>87</td>\n",
       "      <td>87</td>\n",
       "      <td>84</td>\n",
       "      <td>62</td>\n",
       "      <td>89</td>\n",
       "      <td>93</td>\n",
       "      <td>91</td>\n",
       "      <td>92</td>\n",
       "      <td>70</td>\n",
       "      <td>93</td>\n",
       "      <td>97</td>\n",
       "      <td>73</td>\n",
       "      <td>155</td>\n",
       "      <td>81</td>\n",
       "      <td>84</td>\n",
       "      <td>52511</td>\n",
       "    </tr>\n",
       "    <tr>\n",
       "      <th>education</th>\n",
       "      <td>73</td>\n",
       "      <td>96</td>\n",
       "      <td>91</td>\n",
       "      <td>90</td>\n",
       "      <td>80</td>\n",
       "      <td>89</td>\n",
       "      <td>88</td>\n",
       "      <td>99</td>\n",
       "      <td>96</td>\n",
       "      <td>90</td>\n",
       "      <td>91</td>\n",
       "      <td>105</td>\n",
       "      <td>170</td>\n",
       "      <td>83</td>\n",
       "      <td>92</td>\n",
       "      <td>57436</td>\n",
       "    </tr>\n",
       "    <tr>\n",
       "      <th>fitness</th>\n",
       "      <td>96</td>\n",
       "      <td>71</td>\n",
       "      <td>95</td>\n",
       "      <td>83</td>\n",
       "      <td>96</td>\n",
       "      <td>82</td>\n",
       "      <td>81</td>\n",
       "      <td>86</td>\n",
       "      <td>82</td>\n",
       "      <td>111</td>\n",
       "      <td>83</td>\n",
       "      <td>88</td>\n",
       "      <td>145</td>\n",
       "      <td>96</td>\n",
       "      <td>100</td>\n",
       "      <td>55323</td>\n",
       "    </tr>\n",
       "    <tr>\n",
       "      <th>food</th>\n",
       "      <td>107</td>\n",
       "      <td>130</td>\n",
       "      <td>106</td>\n",
       "      <td>100</td>\n",
       "      <td>101</td>\n",
       "      <td>97</td>\n",
       "      <td>108</td>\n",
       "      <td>115</td>\n",
       "      <td>94</td>\n",
       "      <td>100</td>\n",
       "      <td>107</td>\n",
       "      <td>123</td>\n",
       "      <td>229</td>\n",
       "      <td>93</td>\n",
       "      <td>89</td>\n",
       "      <td>66676</td>\n",
       "    </tr>\n",
       "    <tr>\n",
       "      <th>healthy eating</th>\n",
       "      <td>103</td>\n",
       "      <td>121</td>\n",
       "      <td>101</td>\n",
       "      <td>95</td>\n",
       "      <td>100</td>\n",
       "      <td>108</td>\n",
       "      <td>101</td>\n",
       "      <td>104</td>\n",
       "      <td>107</td>\n",
       "      <td>106</td>\n",
       "      <td>114</td>\n",
       "      <td>103</td>\n",
       "      <td>216</td>\n",
       "      <td>122</td>\n",
       "      <td>116</td>\n",
       "      <td>69339</td>\n",
       "    </tr>\n",
       "    <tr>\n",
       "      <th>public speaking</th>\n",
       "      <td>69</td>\n",
       "      <td>61</td>\n",
       "      <td>82</td>\n",
       "      <td>76</td>\n",
       "      <td>75</td>\n",
       "      <td>77</td>\n",
       "      <td>75</td>\n",
       "      <td>65</td>\n",
       "      <td>92</td>\n",
       "      <td>74</td>\n",
       "      <td>88</td>\n",
       "      <td>85</td>\n",
       "      <td>146</td>\n",
       "      <td>76</td>\n",
       "      <td>76</td>\n",
       "      <td>49264</td>\n",
       "    </tr>\n",
       "    <tr>\n",
       "      <th>science</th>\n",
       "      <td>114</td>\n",
       "      <td>102</td>\n",
       "      <td>113</td>\n",
       "      <td>116</td>\n",
       "      <td>102</td>\n",
       "      <td>122</td>\n",
       "      <td>118</td>\n",
       "      <td>112</td>\n",
       "      <td>111</td>\n",
       "      <td>113</td>\n",
       "      <td>115</td>\n",
       "      <td>119</td>\n",
       "      <td>229</td>\n",
       "      <td>118</td>\n",
       "      <td>92</td>\n",
       "      <td>71168</td>\n",
       "    </tr>\n",
       "    <tr>\n",
       "      <th>soccer</th>\n",
       "      <td>91</td>\n",
       "      <td>87</td>\n",
       "      <td>81</td>\n",
       "      <td>82</td>\n",
       "      <td>99</td>\n",
       "      <td>116</td>\n",
       "      <td>88</td>\n",
       "      <td>84</td>\n",
       "      <td>93</td>\n",
       "      <td>91</td>\n",
       "      <td>93</td>\n",
       "      <td>87</td>\n",
       "      <td>183</td>\n",
       "      <td>87</td>\n",
       "      <td>95</td>\n",
       "      <td>57783</td>\n",
       "    </tr>\n",
       "    <tr>\n",
       "      <th>studying</th>\n",
       "      <td>77</td>\n",
       "      <td>86</td>\n",
       "      <td>74</td>\n",
       "      <td>93</td>\n",
       "      <td>95</td>\n",
       "      <td>77</td>\n",
       "      <td>87</td>\n",
       "      <td>93</td>\n",
       "      <td>84</td>\n",
       "      <td>80</td>\n",
       "      <td>101</td>\n",
       "      <td>83</td>\n",
       "      <td>158</td>\n",
       "      <td>89</td>\n",
       "      <td>86</td>\n",
       "      <td>54269</td>\n",
       "    </tr>\n",
       "    <tr>\n",
       "      <th>technology</th>\n",
       "      <td>110</td>\n",
       "      <td>112</td>\n",
       "      <td>95</td>\n",
       "      <td>105</td>\n",
       "      <td>88</td>\n",
       "      <td>98</td>\n",
       "      <td>121</td>\n",
       "      <td>116</td>\n",
       "      <td>87</td>\n",
       "      <td>87</td>\n",
       "      <td>114</td>\n",
       "      <td>96</td>\n",
       "      <td>227</td>\n",
       "      <td>129</td>\n",
       "      <td>113</td>\n",
       "      <td>68738</td>\n",
       "    </tr>\n",
       "    <tr>\n",
       "      <th>tennis</th>\n",
       "      <td>94</td>\n",
       "      <td>87</td>\n",
       "      <td>92</td>\n",
       "      <td>89</td>\n",
       "      <td>88</td>\n",
       "      <td>86</td>\n",
       "      <td>87</td>\n",
       "      <td>76</td>\n",
       "      <td>82</td>\n",
       "      <td>80</td>\n",
       "      <td>90</td>\n",
       "      <td>77</td>\n",
       "      <td>154</td>\n",
       "      <td>73</td>\n",
       "      <td>73</td>\n",
       "      <td>50339</td>\n",
       "    </tr>\n",
       "    <tr>\n",
       "      <th>travel</th>\n",
       "      <td>111</td>\n",
       "      <td>95</td>\n",
       "      <td>122</td>\n",
       "      <td>100</td>\n",
       "      <td>105</td>\n",
       "      <td>97</td>\n",
       "      <td>90</td>\n",
       "      <td>99</td>\n",
       "      <td>104</td>\n",
       "      <td>111</td>\n",
       "      <td>105</td>\n",
       "      <td>94</td>\n",
       "      <td>208</td>\n",
       "      <td>115</td>\n",
       "      <td>91</td>\n",
       "      <td>64880</td>\n",
       "    </tr>\n",
       "    <tr>\n",
       "      <th>veganism</th>\n",
       "      <td>65</td>\n",
       "      <td>91</td>\n",
       "      <td>70</td>\n",
       "      <td>81</td>\n",
       "      <td>85</td>\n",
       "      <td>78</td>\n",
       "      <td>69</td>\n",
       "      <td>89</td>\n",
       "      <td>68</td>\n",
       "      <td>72</td>\n",
       "      <td>95</td>\n",
       "      <td>75</td>\n",
       "      <td>160</td>\n",
       "      <td>71</td>\n",
       "      <td>79</td>\n",
       "      <td>49619</td>\n",
       "    </tr>\n",
       "  </tbody>\n",
       "</table>\n",
       "</div>"
      ],
      "text/plain": [
       "Score              0    5   10   12   15   20   30   35   45   50   60   65  \\\n",
       "Category                                                                      \n",
       "animals          122  128  115  121  132  100  110  129  116  101  120  119   \n",
       "cooking          109  104  115  102  120   81  125  101   88  114  112   99   \n",
       "culture           98   94  112  102  117  111  110   99  101   97   97  108   \n",
       "dogs              87   87   84   62   89   93   91   92   70   93   97   73   \n",
       "education         73   96   91   90   80   89   88   99   96   90   91  105   \n",
       "fitness           96   71   95   83   96   82   81   86   82  111   83   88   \n",
       "food             107  130  106  100  101   97  108  115   94  100  107  123   \n",
       "healthy eating   103  121  101   95  100  108  101  104  107  106  114  103   \n",
       "public speaking   69   61   82   76   75   77   75   65   92   74   88   85   \n",
       "science          114  102  113  116  102  122  118  112  111  113  115  119   \n",
       "soccer            91   87   81   82   99  116   88   84   93   91   93   87   \n",
       "studying          77   86   74   93   95   77   87   93   84   80  101   83   \n",
       "technology       110  112   95  105   88   98  121  116   87   87  114   96   \n",
       "tennis            94   87   92   89   88   86   87   76   82   80   90   77   \n",
       "travel           111   95  122  100  105   97   90   99  104  111  105   94   \n",
       "veganism          65   91   70   81   85   78   69   89   68   72   95   75   \n",
       "\n",
       "Score             70   72   75  total  \n",
       "Category                               \n",
       "animals          247  114  123  74965  \n",
       "cooking          178  106  110  64756  \n",
       "culture          235   95  100  66579  \n",
       "dogs             155   81   84  52511  \n",
       "education        170   83   92  57436  \n",
       "fitness          145   96  100  55323  \n",
       "food             229   93   89  66676  \n",
       "healthy eating   216  122  116  69339  \n",
       "public speaking  146   76   76  49264  \n",
       "science          229  118   92  71168  \n",
       "soccer           183   87   95  57783  \n",
       "studying         158   89   86  54269  \n",
       "technology       227  129  113  68738  \n",
       "tennis           154   73   73  50339  \n",
       "travel           208  115   91  64880  \n",
       "veganism         160   71   79  49619  "
      ]
     },
     "execution_count": 75,
     "metadata": {},
     "output_type": "execute_result"
    }
   ],
   "source": [
    "#sum up all the scores received by each category\n",
    "def sumup_cat(index,cols):\n",
    "    count = 0\n",
    "    row = []#store the total frequency for each Category\n",
    "    for ind in index:\n",
    "        for col in cols:\n",
    "            if not math.isnan(gp_counts.loc[ind,col]):\n",
    "                if type(int(gp_counts.loc[ind,col])) == int:#locate the value\n",
    "                    count += int(col) * gp_counts.loc[ind,col]\n",
    "                    #print(count)\n",
    "        row.append(count)\n",
    "        count = 0\n",
    "    return row\n",
    "\n",
    "gp_counts['total'] = sumup_cat(gp_index,gp_columns)\n",
    "gp_counts"
   ]
  },
  {
   "cell_type": "code",
   "execution_count": 76,
   "id": "28f7d925",
   "metadata": {},
   "outputs": [],
   "source": [
    "#create a new dataframe by extracting the total column\n",
    "gp_counts_2 = gp_counts[['total']].copy()"
   ]
  },
  {
   "cell_type": "code",
   "execution_count": 77,
   "id": "a4282f1f",
   "metadata": {},
   "outputs": [
    {
     "data": {
      "text/html": [
       "<div>\n",
       "<style scoped>\n",
       "    .dataframe tbody tr th:only-of-type {\n",
       "        vertical-align: middle;\n",
       "    }\n",
       "\n",
       "    .dataframe tbody tr th {\n",
       "        vertical-align: top;\n",
       "    }\n",
       "\n",
       "    .dataframe thead th {\n",
       "        text-align: right;\n",
       "    }\n",
       "</style>\n",
       "<table border=\"1\" class=\"dataframe\">\n",
       "  <thead>\n",
       "    <tr style=\"text-align: right;\">\n",
       "      <th>Score</th>\n",
       "      <th>total</th>\n",
       "    </tr>\n",
       "    <tr>\n",
       "      <th>Category</th>\n",
       "      <th></th>\n",
       "    </tr>\n",
       "  </thead>\n",
       "  <tbody>\n",
       "    <tr>\n",
       "      <th>animals</th>\n",
       "      <td>74965</td>\n",
       "    </tr>\n",
       "    <tr>\n",
       "      <th>science</th>\n",
       "      <td>71168</td>\n",
       "    </tr>\n",
       "    <tr>\n",
       "      <th>healthy eating</th>\n",
       "      <td>69339</td>\n",
       "    </tr>\n",
       "    <tr>\n",
       "      <th>technology</th>\n",
       "      <td>68738</td>\n",
       "    </tr>\n",
       "    <tr>\n",
       "      <th>food</th>\n",
       "      <td>66676</td>\n",
       "    </tr>\n",
       "    <tr>\n",
       "      <th>culture</th>\n",
       "      <td>66579</td>\n",
       "    </tr>\n",
       "    <tr>\n",
       "      <th>travel</th>\n",
       "      <td>64880</td>\n",
       "    </tr>\n",
       "    <tr>\n",
       "      <th>cooking</th>\n",
       "      <td>64756</td>\n",
       "    </tr>\n",
       "    <tr>\n",
       "      <th>soccer</th>\n",
       "      <td>57783</td>\n",
       "    </tr>\n",
       "    <tr>\n",
       "      <th>education</th>\n",
       "      <td>57436</td>\n",
       "    </tr>\n",
       "    <tr>\n",
       "      <th>fitness</th>\n",
       "      <td>55323</td>\n",
       "    </tr>\n",
       "    <tr>\n",
       "      <th>studying</th>\n",
       "      <td>54269</td>\n",
       "    </tr>\n",
       "    <tr>\n",
       "      <th>dogs</th>\n",
       "      <td>52511</td>\n",
       "    </tr>\n",
       "    <tr>\n",
       "      <th>tennis</th>\n",
       "      <td>50339</td>\n",
       "    </tr>\n",
       "    <tr>\n",
       "      <th>veganism</th>\n",
       "      <td>49619</td>\n",
       "    </tr>\n",
       "    <tr>\n",
       "      <th>public speaking</th>\n",
       "      <td>49264</td>\n",
       "    </tr>\n",
       "  </tbody>\n",
       "</table>\n",
       "</div>"
      ],
      "text/plain": [
       "Score            total\n",
       "Category              \n",
       "animals          74965\n",
       "science          71168\n",
       "healthy eating   69339\n",
       "technology       68738\n",
       "food             66676\n",
       "culture          66579\n",
       "travel           64880\n",
       "cooking          64756\n",
       "soccer           57783\n",
       "education        57436\n",
       "fitness          55323\n",
       "studying         54269\n",
       "dogs             52511\n",
       "tennis           50339\n",
       "veganism         49619\n",
       "public speaking  49264"
      ]
     },
     "execution_count": 77,
     "metadata": {},
     "output_type": "execute_result"
    }
   ],
   "source": [
    "#sort the values in the new dataframe by total\n",
    "gp_counts_2.sort_values(by = ['total'], ascending = False, inplace=True)\n",
    "gp_counts_2"
   ]
  },
  {
   "cell_type": "code",
   "execution_count": 78,
   "id": "9a9e4b2d",
   "metadata": {},
   "outputs": [],
   "source": [
    "#reset index to tuen Category into a column\n",
    "gp_counts_2 = gp_counts_2.reset_index()"
   ]
  },
  {
   "cell_type": "code",
   "execution_count": 79,
   "id": "75b46b3c",
   "metadata": {
    "scrolled": true
   },
   "outputs": [
    {
     "data": {
      "image/png": "[encoded data removed]",
      "text/plain": [
       "<Figure size 640x480 with 1 Axes>"
      ]
     },
     "metadata": {},
     "output_type": "display_data"
    }
   ],
   "source": [
    "gp_counts_2.plot.bar(x = 'Category', y = 'total');\n",
    "plt.title('The most popular content on Social Buzz');\n",
    "plt.ylabel('count');\n",
    "plt.legend(['total reaction']);"
   ]
  },
  {
   "cell_type": "code",
   "execution_count": 80,
   "id": "8d985feb",
   "metadata": {},
   "outputs": [
    {
     "data": {
      "text/html": [
       "<div>\n",
       "<style scoped>\n",
       "    .dataframe tbody tr th:only-of-type {\n",
       "        vertical-align: middle;\n",
       "    }\n",
       "\n",
       "    .dataframe tbody tr th {\n",
       "        vertical-align: top;\n",
       "    }\n",
       "\n",
       "    .dataframe thead th {\n",
       "        text-align: right;\n",
       "    }\n",
       "</style>\n",
       "<table border=\"1\" class=\"dataframe\">\n",
       "  <thead>\n",
       "    <tr style=\"text-align: right;\">\n",
       "      <th>Score</th>\n",
       "      <th>Category</th>\n",
       "      <th>total</th>\n",
       "    </tr>\n",
       "  </thead>\n",
       "  <tbody>\n",
       "    <tr>\n",
       "      <th>0</th>\n",
       "      <td>animals</td>\n",
       "      <td>74965</td>\n",
       "    </tr>\n",
       "    <tr>\n",
       "      <th>1</th>\n",
       "      <td>science</td>\n",
       "      <td>71168</td>\n",
       "    </tr>\n",
       "    <tr>\n",
       "      <th>2</th>\n",
       "      <td>healthy eating</td>\n",
       "      <td>69339</td>\n",
       "    </tr>\n",
       "    <tr>\n",
       "      <th>3</th>\n",
       "      <td>technology</td>\n",
       "      <td>68738</td>\n",
       "    </tr>\n",
       "    <tr>\n",
       "      <th>4</th>\n",
       "      <td>food</td>\n",
       "      <td>66676</td>\n",
       "    </tr>\n",
       "  </tbody>\n",
       "</table>\n",
       "</div>"
      ],
      "text/plain": [
       "Score        Category  total\n",
       "0             animals  74965\n",
       "1             science  71168\n",
       "2      healthy eating  69339\n",
       "3          technology  68738\n",
       "4                food  66676"
      ]
     },
     "execution_count": 80,
     "metadata": {},
     "output_type": "execute_result"
    }
   ],
   "source": [
    "#isolate the top five content category from the rest\n",
    "gp_counts_2 = gp_counts_2.iloc[0:5,:]\n",
    "gp_counts_2"
   ]
  },
  {
   "cell_type": "code",
   "execution_count": 82,
   "id": "9ab1297c",
   "metadata": {},
   "outputs": [
    {
     "data": {
      "image/png": "[encoded data removed]",
      "text/plain": [
       "<Figure size 640x480 with 1 Axes>"
      ]
     },
     "metadata": {},
     "output_type": "display_data"
    }
   ],
   "source": [
    "#plot the top five category\n",
    "base_color = sb.color_palette()[1]\n",
    "sb.barplot(data= gp_counts_2, x ='Category', y = 'total', color=base_color);\n",
    "plt.title('Top 5 Content Category');"
   ]
  },
  {
   "cell_type": "markdown",
   "id": "002e0dd2",
   "metadata": {},
   "source": [
    "The plot reveals that the top five content categories are: `animals`, `science`, `healthy eating`, `technology`, and `food`, while the lowest content categories are: `veganism` and `public speaking`."
   ]
  },
  {
   "cell_type": "markdown",
   "id": "f20187a5",
   "metadata": {},
   "source": [
    "There is no need to further the exploration because all the needed information has been deduced."
   ]
  },
  {
   "cell_type": "markdown",
   "id": "245b5b6b",
   "metadata": {},
   "source": [
    "## Conclusion\n",
    " The most popular content categories for \"Social Buzz\" are: `animals`, `science`, `healthy eating`, `technology`, and `food`"
   ]
  }
 ],
 "metadata": {
  "kernelspec": {
   "display_name": "Python 3 (ipykernel)",
   "language": "python",
   "name": "python3"
  },
  "language_info": {
   "codemirror_mode": {
    "name": "ipython",
    "version": 3
   },
   "file_extension": ".py",
   "mimetype": "text/x-python",
   "name": "python",
   "nbconvert_exporter": "python",
   "pygments_lexer": "ipython3",
   "version": "3.10.9"
  }
 },
 "nbformat": 4,
 "nbformat_minor": 5
}
