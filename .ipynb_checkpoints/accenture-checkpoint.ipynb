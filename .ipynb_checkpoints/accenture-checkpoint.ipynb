{
 "cells": [
  {
   "cell_type": "markdown",
   "id": "71464ecf",
   "metadata": {},
   "source": [
    "## Introduction\n",
    "The project is about finding the most popular content category for a social media company called \"Social Buzz\".\n",
    "I will be using three datasets to achieve this objective. The datasets are:\n",
    "* Content\n",
    "* Reaction\n",
    "* ReactionTypes\n",
    "More details on the datasets:\n",
    "### Content\n",
    "ID: Unique ID of the content that was uploaded (automatically generated)\n",
    "\n",
    "User ID: Unique ID of a user that exists in the User table\n",
    "\n",
    "Type: A string detailing the type of content that was uploaded\n",
    "\n",
    "Category: A string detailing the category that this content is relevant to\n",
    "\n",
    "URL: Link to the location where this content is stored\n",
    "\n",
    "### Reaction\n",
    "Content ID: Unique ID of a piece of content that was uploaded\n",
    "\n",
    "User ID: Unique ID of a user that exists in the User table who reacted to this piece of content\n",
    "\n",
    "Type: A string detailing the type of reaction this user gave\n",
    "\n",
    "Datetime: The date and time of this reaction\n",
    "\n",
    "### ReactionTypes\n",
    "Type: A string detailing the type of reaction this user gave\n",
    "\n",
    "Sentiment: A string detailing whether this type of reaction is considered as positive, negative or neutral\n",
    "\n",
    "Score: This is a number calculated by Social Buzz that quantifies how “popular” each reaction is. A reaction type with a higher score\n",
    "should be considered as a more popular reaction."
   ]
  },
  {
   "cell_type": "code",
   "execution_count": null,
   "id": "59206b01",
   "metadata": {},
   "outputs": [],
   "source": []
  }
 ],
 "metadata": {
  "kernelspec": {
   "display_name": "Python 3 (ipykernel)",
   "language": "python",
   "name": "python3"
  },
  "language_info": {
   "codemirror_mode": {
    "name": "ipython",
    "version": 3
   },
   "file_extension": ".py",
   "mimetype": "text/x-python",
   "name": "python",
   "nbconvert_exporter": "python",
   "pygments_lexer": "ipython3",
   "version": "3.10.9"
  }
 },
 "nbformat": 4,
 "nbformat_minor": 5
}
