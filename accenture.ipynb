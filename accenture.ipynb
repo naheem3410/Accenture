{
 "cells": [
  {
   "cell_type": "markdown",
   "id": "050c7acc",
   "metadata": {},
   "source": [
    "## Introduction\n",
    "The project is about finding the most popular content category for a social media company called \"Social Buzz\".\n",
    "I will be using three datasets to achieve this objective. The datasets are:\n",
    "* Content\n",
    "* Reaction\n",
    "* ReactionTypes\n",
    "More details on the datasets:\n",
    "### Content\n",
    "ID: Unique ID of the content that was uploaded (automatically generated)\n",
    "\n",
    "User ID: Unique ID of a user that exists in the User table\n",
    "\n",
    "Type: A string detailing the type of content that was uploaded\n",
    "\n",
    "Category: A string detailing the category that this content is relevant to\n",
    "\n",
    "URL: Link to the location where this content is stored\n",
    "\n",
    "### Reaction\n",
    "Content ID: Unique ID of a piece of content that was uploaded\n",
    "\n",
    "User ID: Unique ID of a user that exists in the User table who reacted to this piece of content\n",
    "\n",
    "Type: A string detailing the type of reaction this user gave\n",
    "\n",
    "Datetime: The date and time of this reaction\n",
    "\n",
    "### ReactionTypes\n",
    "Type: A string detailing the type of reaction this user gave\n",
    "\n",
    "Sentiment: A string detailing whether this type of reaction is considered as positive, negative or neutral\n",
    "\n",
    "Score: This is a number calculated by Social Buzz that quantifies how “popular” each reaction is. A reaction type with a higher score\n",
    "should be considered as a more popular reaction."
   ]
  },
  {
   "cell_type": "markdown",
   "id": "2da7d87b",
   "metadata": {},
   "source": [
    "#### Import libraries"
   ]
  },
  {
   "cell_type": "code",
   "execution_count": 3,
   "id": "e3bed3f4",
   "metadata": {},
   "outputs": [],
   "source": [
    "import numpy as np\n",
    "import pandas as pd\n",
    "import matplotlib.pyplot as plt\n",
    "import seaborn as sb\n",
    "%matplotlib inline "
   ]
  },
  {
   "cell_type": "markdown",
   "id": "7de692c0",
   "metadata": {},
   "source": [
    "## Data Wrangling"
   ]
  },
  {
   "cell_type": "markdown",
   "id": "46e66cfa",
   "metadata": {},
   "source": [
    "### Data Gathering  "
   ]
  },
  {
   "cell_type": "code",
   "execution_count": 6,
   "id": "a5118352",
   "metadata": {},
   "outputs": [],
   "source": [
    "#import datasets\n",
    "df1 = pd.read_csv('Content.csv')\n",
    "df2 = pd.read_csv('Reactions.csv')\n",
    "df3 = pd.read_csv('ReactionTypes.csv')"
   ]
  },
  {
   "cell_type": "markdown",
   "id": "7ba7b84a",
   "metadata": {},
   "source": [
    "### Assessing Data"
   ]
  },
  {
   "cell_type": "markdown",
   "id": "ebdbe4b0",
   "metadata": {},
   "source": [
    "### Visual Assessment"
   ]
  },
  {
   "cell_type": "markdown",
   "id": "d7894de2",
   "metadata": {},
   "source": [
    "### Programmatic Assessment"
   ]
  },
  {
   "cell_type": "code",
   "execution_count": null,
   "id": "112522f1",
   "metadata": {},
   "outputs": [],
   "source": []
  },
  {
   "cell_type": "code",
   "execution_count": 7,
   "id": "43e6a47e",
   "metadata": {},
   "outputs": [
    {
     "name": "stdout",
     "output_type": "stream",
     "text": [
      "<class 'pandas.core.frame.DataFrame'>\n",
      "RangeIndex: 1000 entries, 0 to 999\n",
      "Data columns (total 6 columns):\n",
      " #   Column      Non-Null Count  Dtype \n",
      "---  ------      --------------  ----- \n",
      " 0   Unnamed: 0  1000 non-null   int64 \n",
      " 1   Content ID  1000 non-null   object\n",
      " 2   User ID     1000 non-null   object\n",
      " 3   Type        1000 non-null   object\n",
      " 4   Category    1000 non-null   object\n",
      " 5   URL         801 non-null    object\n",
      "dtypes: int64(1), object(5)\n",
      "memory usage: 47.0+ KB\n"
     ]
    }
   ],
   "source": [
    "#check the number of rows, columns and datatypes\n",
    "df1.info()"
   ]
  },
  {
   "cell_type": "code",
   "execution_count": null,
   "id": "002abc59",
   "metadata": {},
   "outputs": [],
   "source": [
    "#\n",
    "df1.info()"
   ]
  }
 ],
 "metadata": {
  "kernelspec": {
   "display_name": "Python 3 (ipykernel)",
   "language": "python",
   "name": "python3"
  },
  "language_info": {
   "codemirror_mode": {
    "name": "ipython",
    "version": 3
   },
   "file_extension": ".py",
   "mimetype": "text/x-python",
   "name": "python",
   "nbconvert_exporter": "python",
   "pygments_lexer": "ipython3",
   "version": "3.10.9"
  }
 },
 "nbformat": 4,
 "nbformat_minor": 5
}
